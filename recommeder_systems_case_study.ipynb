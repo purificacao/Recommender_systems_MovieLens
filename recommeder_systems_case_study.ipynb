{
 "cells": [
  {
   "cell_type": "markdown",
   "id": "6373a3e8",
   "metadata": {},
   "source": [
    "**Autor:** Carlos Alberto C. da Purificação\n",
    "\n",
    "**E-mail:** geofisico2007@gmail.com\n",
    "\n",
    "**Data:** 13/08/2021"
   ]
  },
  {
   "cell_type": "markdown",
   "id": "d47a660c",
   "metadata": {},
   "source": [
    "Inicialmente, vamos implementar um sistema de recomendações básico e pouco robusto, baseado em similaridade entre os filmes."
   ]
  },
  {
   "cell_type": "code",
   "execution_count": 1,
   "id": "5e923098",
   "metadata": {},
   "outputs": [],
   "source": [
    "#Importação de bibliotecas necessárias\n",
    "import numpy as np\n",
    "import pandas as pd\n",
    "import scipy\n",
    "import matplotlib.pyplot as plt\n",
    "import seaborn as sns\n",
    "from sklearn.metrics import mean_squared_error\n",
    "\n",
    "sns.set_style('white')\n",
    "%matplotlib inline"
   ]
  },
  {
   "cell_type": "code",
   "execution_count": 2,
   "id": "a2390c75",
   "metadata": {},
   "outputs": [],
   "source": [
    "cols = ['user_id', 'item_id', 'rating', 'timestamp']"
   ]
  },
  {
   "cell_type": "code",
   "execution_count": 3,
   "id": "905e744e",
   "metadata": {
    "scrolled": true
   },
   "outputs": [
    {
     "data": {
      "text/html": [
       "<div>\n",
       "<style scoped>\n",
       "    .dataframe tbody tr th:only-of-type {\n",
       "        vertical-align: middle;\n",
       "    }\n",
       "\n",
       "    .dataframe tbody tr th {\n",
       "        vertical-align: top;\n",
       "    }\n",
       "\n",
       "    .dataframe thead th {\n",
       "        text-align: right;\n",
       "    }\n",
       "</style>\n",
       "<table border=\"1\" class=\"dataframe\">\n",
       "  <thead>\n",
       "    <tr style=\"text-align: right;\">\n",
       "      <th></th>\n",
       "      <th>user_id</th>\n",
       "      <th>item_id</th>\n",
       "      <th>rating</th>\n",
       "      <th>timestamp</th>\n",
       "    </tr>\n",
       "  </thead>\n",
       "  <tbody>\n",
       "    <tr>\n",
       "      <th>0</th>\n",
       "      <td>196</td>\n",
       "      <td>242</td>\n",
       "      <td>3</td>\n",
       "      <td>881250949</td>\n",
       "    </tr>\n",
       "    <tr>\n",
       "      <th>1</th>\n",
       "      <td>186</td>\n",
       "      <td>302</td>\n",
       "      <td>3</td>\n",
       "      <td>891717742</td>\n",
       "    </tr>\n",
       "    <tr>\n",
       "      <th>2</th>\n",
       "      <td>22</td>\n",
       "      <td>377</td>\n",
       "      <td>1</td>\n",
       "      <td>878887116</td>\n",
       "    </tr>\n",
       "    <tr>\n",
       "      <th>3</th>\n",
       "      <td>244</td>\n",
       "      <td>51</td>\n",
       "      <td>2</td>\n",
       "      <td>880606923</td>\n",
       "    </tr>\n",
       "    <tr>\n",
       "      <th>4</th>\n",
       "      <td>166</td>\n",
       "      <td>346</td>\n",
       "      <td>1</td>\n",
       "      <td>886397596</td>\n",
       "    </tr>\n",
       "  </tbody>\n",
       "</table>\n",
       "</div>"
      ],
      "text/plain": [
       "   user_id  item_id  rating  timestamp\n",
       "0      196      242       3  881250949\n",
       "1      186      302       3  891717742\n",
       "2       22      377       1  878887116\n",
       "3      244       51       2  880606923\n",
       "4      166      346       1  886397596"
      ]
     },
     "execution_count": 3,
     "metadata": {},
     "output_type": "execute_result"
    }
   ],
   "source": [
    "df = pd.read_csv('dataset/u.data', sep='\\t', names = cols)\n",
    "df.head()"
   ]
  },
  {
   "cell_type": "markdown",
   "id": "e6c1cfed",
   "metadata": {},
   "source": [
    "Quantidade de usuários e filmes únicos:"
   ]
  },
  {
   "cell_type": "code",
   "execution_count": 4,
   "id": "f552abd8",
   "metadata": {},
   "outputs": [
    {
     "name": "stdout",
     "output_type": "stream",
     "text": [
      "Quantidade de usuários: 943\n",
      "Quantidade de filmes: 1682\n"
     ]
    }
   ],
   "source": [
    "n_users = df.user_id.nunique()\n",
    "n_items = df.item_id.nunique()\n",
    "\n",
    "print('Quantidade de usuários: ' + str(n_users))\n",
    "print('Quantidade de filmes: ' + str(n_items))"
   ]
  },
  {
   "cell_type": "markdown",
   "id": "49fdc023",
   "metadata": {},
   "source": [
    "Carregando csv com informações dos títulos e IDs dos filmes. Usaremos o ID para parear ambos os DataFrames, pois ele é uma chave estrangeira que linka uma base à outra."
   ]
  },
  {
   "cell_type": "code",
   "execution_count": 5,
   "id": "a9429237",
   "metadata": {
    "scrolled": true
   },
   "outputs": [
    {
     "data": {
      "text/html": [
       "<div>\n",
       "<style scoped>\n",
       "    .dataframe tbody tr th:only-of-type {\n",
       "        vertical-align: middle;\n",
       "    }\n",
       "\n",
       "    .dataframe tbody tr th {\n",
       "        vertical-align: top;\n",
       "    }\n",
       "\n",
       "    .dataframe thead th {\n",
       "        text-align: right;\n",
       "    }\n",
       "</style>\n",
       "<table border=\"1\" class=\"dataframe\">\n",
       "  <thead>\n",
       "    <tr style=\"text-align: right;\">\n",
       "      <th></th>\n",
       "      <th>item</th>\n",
       "    </tr>\n",
       "  </thead>\n",
       "  <tbody>\n",
       "    <tr>\n",
       "      <th>0</th>\n",
       "      <td>1|Toy Story (1995)|01-Jan-1995||http://us.imdb...</td>\n",
       "    </tr>\n",
       "    <tr>\n",
       "      <th>1</th>\n",
       "      <td>2|GoldenEye (1995)|01-Jan-1995||http://us.imdb...</td>\n",
       "    </tr>\n",
       "    <tr>\n",
       "      <th>2</th>\n",
       "      <td>3|Four Rooms (1995)|01-Jan-1995||http://us.imd...</td>\n",
       "    </tr>\n",
       "    <tr>\n",
       "      <th>3</th>\n",
       "      <td>4|Get Shorty (1995)|01-Jan-1995||http://us.imd...</td>\n",
       "    </tr>\n",
       "    <tr>\n",
       "      <th>4</th>\n",
       "      <td>5|Copycat (1995)|01-Jan-1995||http://us.imdb.c...</td>\n",
       "    </tr>\n",
       "  </tbody>\n",
       "</table>\n",
       "</div>"
      ],
      "text/plain": [
       "                                                item\n",
       "0  1|Toy Story (1995)|01-Jan-1995||http://us.imdb...\n",
       "1  2|GoldenEye (1995)|01-Jan-1995||http://us.imdb...\n",
       "2  3|Four Rooms (1995)|01-Jan-1995||http://us.imd...\n",
       "3  4|Get Shorty (1995)|01-Jan-1995||http://us.imd...\n",
       "4  5|Copycat (1995)|01-Jan-1995||http://us.imdb.c..."
      ]
     },
     "execution_count": 5,
     "metadata": {},
     "output_type": "execute_result"
    }
   ],
   "source": [
    "movie_title = pd.read_table('dataset/u.item', encoding = \"ISO-8859-1\", names = ['item'])\n",
    "movie_title.head()"
   ]
  },
  {
   "cell_type": "markdown",
   "id": "b4ddeaaa",
   "metadata": {},
   "source": [
    "Reorganizando os atributos no dataframe `movie_title`"
   ]
  },
  {
   "cell_type": "code",
   "execution_count": 6,
   "id": "b5f7fb83",
   "metadata": {},
   "outputs": [
    {
     "data": {
      "text/html": [
       "<div>\n",
       "<style scoped>\n",
       "    .dataframe tbody tr th:only-of-type {\n",
       "        vertical-align: middle;\n",
       "    }\n",
       "\n",
       "    .dataframe tbody tr th {\n",
       "        vertical-align: top;\n",
       "    }\n",
       "\n",
       "    .dataframe thead th {\n",
       "        text-align: right;\n",
       "    }\n",
       "</style>\n",
       "<table border=\"1\" class=\"dataframe\">\n",
       "  <thead>\n",
       "    <tr style=\"text-align: right;\">\n",
       "      <th></th>\n",
       "      <th>genero</th>\n",
       "      <th>title</th>\n",
       "      <th>item_id</th>\n",
       "    </tr>\n",
       "  </thead>\n",
       "  <tbody>\n",
       "    <tr>\n",
       "      <th>0</th>\n",
       "      <td>[0, 0, 0, 1, 1, 1, 0, 0, 0, 0, 0, 0, 0, 0, 0, ...</td>\n",
       "      <td>Toy Story (1995)</td>\n",
       "      <td>1</td>\n",
       "    </tr>\n",
       "    <tr>\n",
       "      <th>1</th>\n",
       "      <td>[0, 1, 1, 0, 0, 0, 0, 0, 0, 0, 0, 0, 0, 0, 0, ...</td>\n",
       "      <td>GoldenEye (1995)</td>\n",
       "      <td>2</td>\n",
       "    </tr>\n",
       "    <tr>\n",
       "      <th>2</th>\n",
       "      <td>[0, 0, 0, 0, 0, 0, 0, 0, 0, 0, 0, 0, 0, 0, 0, ...</td>\n",
       "      <td>Four Rooms (1995)</td>\n",
       "      <td>3</td>\n",
       "    </tr>\n",
       "    <tr>\n",
       "      <th>3</th>\n",
       "      <td>[0, 1, 0, 0, 0, 1, 0, 0, 1, 0, 0, 0, 0, 0, 0, ...</td>\n",
       "      <td>Get Shorty (1995)</td>\n",
       "      <td>4</td>\n",
       "    </tr>\n",
       "    <tr>\n",
       "      <th>4</th>\n",
       "      <td>[0, 0, 0, 0, 0, 0, 1, 0, 1, 0, 0, 0, 0, 0, 0, ...</td>\n",
       "      <td>Copycat (1995)</td>\n",
       "      <td>5</td>\n",
       "    </tr>\n",
       "  </tbody>\n",
       "</table>\n",
       "</div>"
      ],
      "text/plain": [
       "                                              genero              title  \\\n",
       "0  [0, 0, 0, 1, 1, 1, 0, 0, 0, 0, 0, 0, 0, 0, 0, ...   Toy Story (1995)   \n",
       "1  [0, 1, 1, 0, 0, 0, 0, 0, 0, 0, 0, 0, 0, 0, 0, ...   GoldenEye (1995)   \n",
       "2  [0, 0, 0, 0, 0, 0, 0, 0, 0, 0, 0, 0, 0, 0, 0, ...  Four Rooms (1995)   \n",
       "3  [0, 1, 0, 0, 0, 1, 0, 0, 1, 0, 0, 0, 0, 0, 0, ...  Get Shorty (1995)   \n",
       "4  [0, 0, 0, 0, 0, 0, 1, 0, 1, 0, 0, 0, 0, 0, 0, ...     Copycat (1995)   \n",
       "\n",
       "   item_id  \n",
       "0        1  \n",
       "1        2  \n",
       "2        3  \n",
       "3        4  \n",
       "4        5  "
      ]
     },
     "execution_count": 6,
     "metadata": {},
     "output_type": "execute_result"
    }
   ],
   "source": [
    "movie_title['genero'] = movie_title.item.apply(lambda x: [int(a) for a in x.split('|')[-19::]])\n",
    "movie_title['title'] = movie_title.item.apply(lambda x: str(x.split('|')[1]))\n",
    "movie_title['item_id'] = movie_title.item.apply(lambda x: int(x.split('|')[0]))\n",
    "movie_title.drop('item', axis=1, inplace=True)\n",
    "movie_title.head()"
   ]
  },
  {
   "cell_type": "markdown",
   "id": "23aaccf2",
   "metadata": {},
   "source": [
    "### Carregando dataset dos gêneros dos filmes\n",
    "\n",
    "Existem 19 categorias de gêneros diferentes. Além disso, um mesmo filme pode estar em mais de uma categoria."
   ]
  },
  {
   "cell_type": "code",
   "execution_count": 7,
   "id": "693ac27b",
   "metadata": {
    "scrolled": true
   },
   "outputs": [
    {
     "data": {
      "text/html": [
       "<div>\n",
       "<style scoped>\n",
       "    .dataframe tbody tr th:only-of-type {\n",
       "        vertical-align: middle;\n",
       "    }\n",
       "\n",
       "    .dataframe tbody tr th {\n",
       "        vertical-align: top;\n",
       "    }\n",
       "\n",
       "    .dataframe thead th {\n",
       "        text-align: right;\n",
       "    }\n",
       "</style>\n",
       "<table border=\"1\" class=\"dataframe\">\n",
       "  <thead>\n",
       "    <tr style=\"text-align: right;\">\n",
       "      <th></th>\n",
       "      <th>genero</th>\n",
       "    </tr>\n",
       "  </thead>\n",
       "  <tbody>\n",
       "    <tr>\n",
       "      <th>0</th>\n",
       "      <td>unknown|0</td>\n",
       "    </tr>\n",
       "    <tr>\n",
       "      <th>1</th>\n",
       "      <td>Action|1</td>\n",
       "    </tr>\n",
       "    <tr>\n",
       "      <th>2</th>\n",
       "      <td>Adventure|2</td>\n",
       "    </tr>\n",
       "    <tr>\n",
       "      <th>3</th>\n",
       "      <td>Animation|3</td>\n",
       "    </tr>\n",
       "    <tr>\n",
       "      <th>4</th>\n",
       "      <td>Children's|4</td>\n",
       "    </tr>\n",
       "    <tr>\n",
       "      <th>5</th>\n",
       "      <td>Comedy|5</td>\n",
       "    </tr>\n",
       "    <tr>\n",
       "      <th>6</th>\n",
       "      <td>Crime|6</td>\n",
       "    </tr>\n",
       "    <tr>\n",
       "      <th>7</th>\n",
       "      <td>Documentary|7</td>\n",
       "    </tr>\n",
       "    <tr>\n",
       "      <th>8</th>\n",
       "      <td>Drama|8</td>\n",
       "    </tr>\n",
       "    <tr>\n",
       "      <th>9</th>\n",
       "      <td>Fantasy|9</td>\n",
       "    </tr>\n",
       "    <tr>\n",
       "      <th>10</th>\n",
       "      <td>Film-Noir|10</td>\n",
       "    </tr>\n",
       "    <tr>\n",
       "      <th>11</th>\n",
       "      <td>Horror|11</td>\n",
       "    </tr>\n",
       "    <tr>\n",
       "      <th>12</th>\n",
       "      <td>Musical|12</td>\n",
       "    </tr>\n",
       "    <tr>\n",
       "      <th>13</th>\n",
       "      <td>Mystery|13</td>\n",
       "    </tr>\n",
       "    <tr>\n",
       "      <th>14</th>\n",
       "      <td>Romance|14</td>\n",
       "    </tr>\n",
       "    <tr>\n",
       "      <th>15</th>\n",
       "      <td>Sci-Fi|15</td>\n",
       "    </tr>\n",
       "    <tr>\n",
       "      <th>16</th>\n",
       "      <td>Thriller|16</td>\n",
       "    </tr>\n",
       "    <tr>\n",
       "      <th>17</th>\n",
       "      <td>War|17</td>\n",
       "    </tr>\n",
       "    <tr>\n",
       "      <th>18</th>\n",
       "      <td>Western|18</td>\n",
       "    </tr>\n",
       "  </tbody>\n",
       "</table>\n",
       "</div>"
      ],
      "text/plain": [
       "           genero\n",
       "0       unknown|0\n",
       "1        Action|1\n",
       "2     Adventure|2\n",
       "3     Animation|3\n",
       "4    Children's|4\n",
       "5        Comedy|5\n",
       "6         Crime|6\n",
       "7   Documentary|7\n",
       "8         Drama|8\n",
       "9       Fantasy|9\n",
       "10   Film-Noir|10\n",
       "11      Horror|11\n",
       "12     Musical|12\n",
       "13     Mystery|13\n",
       "14     Romance|14\n",
       "15      Sci-Fi|15\n",
       "16    Thriller|16\n",
       "17         War|17\n",
       "18     Western|18"
      ]
     },
     "execution_count": 7,
     "metadata": {},
     "output_type": "execute_result"
    }
   ],
   "source": [
    "generos = pd.read_table('dataset/u.genre', names = ['genero'])\n",
    "generos"
   ]
  },
  {
   "cell_type": "code",
   "execution_count": 8,
   "id": "1f7f3be3",
   "metadata": {},
   "outputs": [
    {
     "data": {
      "text/plain": [
       "array(['unknown', 'Action', 'Adventure', 'Animation', \"Children's\",\n",
       "       'Comedy', 'Crime', 'Documentary', 'Drama', 'Fantasy', 'Film-Noir',\n",
       "       'Horror', 'Musical', 'Mystery', 'Romance', 'Sci-Fi', 'Thriller',\n",
       "       'War', 'Western'], dtype=object)"
      ]
     },
     "execution_count": 8,
     "metadata": {},
     "output_type": "execute_result"
    }
   ],
   "source": [
    "gen = generos.genero.apply(lambda x: x.split('|')[0]).values\n",
    "gen"
   ]
  },
  {
   "cell_type": "code",
   "execution_count": 9,
   "id": "4f507bac",
   "metadata": {},
   "outputs": [],
   "source": [
    "#Função para adicionar coluna com título dos generos dos filmes.\n",
    "def movie(x):\n",
    "    mov = []\n",
    "    for i, j in zip(x, gen):\n",
    "        if i == 1:\n",
    "            mov.append(j)\n",
    "    return mov"
   ]
  },
  {
   "cell_type": "code",
   "execution_count": 10,
   "id": "b44c52dd",
   "metadata": {
    "scrolled": true
   },
   "outputs": [
    {
     "data": {
      "text/html": [
       "<div>\n",
       "<style scoped>\n",
       "    .dataframe tbody tr th:only-of-type {\n",
       "        vertical-align: middle;\n",
       "    }\n",
       "\n",
       "    .dataframe tbody tr th {\n",
       "        vertical-align: top;\n",
       "    }\n",
       "\n",
       "    .dataframe thead th {\n",
       "        text-align: right;\n",
       "    }\n",
       "</style>\n",
       "<table border=\"1\" class=\"dataframe\">\n",
       "  <thead>\n",
       "    <tr style=\"text-align: right;\">\n",
       "      <th></th>\n",
       "      <th>genero</th>\n",
       "      <th>title</th>\n",
       "      <th>item_id</th>\n",
       "      <th>genero_string</th>\n",
       "    </tr>\n",
       "  </thead>\n",
       "  <tbody>\n",
       "    <tr>\n",
       "      <th>0</th>\n",
       "      <td>[0, 0, 0, 1, 1, 1, 0, 0, 0, 0, 0, 0, 0, 0, 0, ...</td>\n",
       "      <td>Toy Story (1995)</td>\n",
       "      <td>1</td>\n",
       "      <td>[Animation, Children's, Comedy]</td>\n",
       "    </tr>\n",
       "    <tr>\n",
       "      <th>1</th>\n",
       "      <td>[0, 1, 1, 0, 0, 0, 0, 0, 0, 0, 0, 0, 0, 0, 0, ...</td>\n",
       "      <td>GoldenEye (1995)</td>\n",
       "      <td>2</td>\n",
       "      <td>[Action, Adventure, Thriller]</td>\n",
       "    </tr>\n",
       "    <tr>\n",
       "      <th>2</th>\n",
       "      <td>[0, 0, 0, 0, 0, 0, 0, 0, 0, 0, 0, 0, 0, 0, 0, ...</td>\n",
       "      <td>Four Rooms (1995)</td>\n",
       "      <td>3</td>\n",
       "      <td>[Thriller]</td>\n",
       "    </tr>\n",
       "    <tr>\n",
       "      <th>3</th>\n",
       "      <td>[0, 1, 0, 0, 0, 1, 0, 0, 1, 0, 0, 0, 0, 0, 0, ...</td>\n",
       "      <td>Get Shorty (1995)</td>\n",
       "      <td>4</td>\n",
       "      <td>[Action, Comedy, Drama]</td>\n",
       "    </tr>\n",
       "    <tr>\n",
       "      <th>4</th>\n",
       "      <td>[0, 0, 0, 0, 0, 0, 1, 0, 1, 0, 0, 0, 0, 0, 0, ...</td>\n",
       "      <td>Copycat (1995)</td>\n",
       "      <td>5</td>\n",
       "      <td>[Crime, Drama, Thriller]</td>\n",
       "    </tr>\n",
       "  </tbody>\n",
       "</table>\n",
       "</div>"
      ],
      "text/plain": [
       "                                              genero              title  \\\n",
       "0  [0, 0, 0, 1, 1, 1, 0, 0, 0, 0, 0, 0, 0, 0, 0, ...   Toy Story (1995)   \n",
       "1  [0, 1, 1, 0, 0, 0, 0, 0, 0, 0, 0, 0, 0, 0, 0, ...   GoldenEye (1995)   \n",
       "2  [0, 0, 0, 0, 0, 0, 0, 0, 0, 0, 0, 0, 0, 0, 0, ...  Four Rooms (1995)   \n",
       "3  [0, 1, 0, 0, 0, 1, 0, 0, 1, 0, 0, 0, 0, 0, 0, ...  Get Shorty (1995)   \n",
       "4  [0, 0, 0, 0, 0, 0, 1, 0, 1, 0, 0, 0, 0, 0, 0, ...     Copycat (1995)   \n",
       "\n",
       "   item_id                    genero_string  \n",
       "0        1  [Animation, Children's, Comedy]  \n",
       "1        2    [Action, Adventure, Thriller]  \n",
       "2        3                       [Thriller]  \n",
       "3        4          [Action, Comedy, Drama]  \n",
       "4        5         [Crime, Drama, Thriller]  "
      ]
     },
     "execution_count": 10,
     "metadata": {},
     "output_type": "execute_result"
    }
   ],
   "source": [
    "movie_title['genero_string'] = movie_title.genero.apply(movie)\n",
    "movie_title.head()"
   ]
  },
  {
   "cell_type": "code",
   "execution_count": 11,
   "id": "86fe798f",
   "metadata": {},
   "outputs": [
    {
     "data": {
      "text/html": [
       "<div>\n",
       "<style scoped>\n",
       "    .dataframe tbody tr th:only-of-type {\n",
       "        vertical-align: middle;\n",
       "    }\n",
       "\n",
       "    .dataframe tbody tr th {\n",
       "        vertical-align: top;\n",
       "    }\n",
       "\n",
       "    .dataframe thead th {\n",
       "        text-align: right;\n",
       "    }\n",
       "</style>\n",
       "<table border=\"1\" class=\"dataframe\">\n",
       "  <thead>\n",
       "    <tr style=\"text-align: right;\">\n",
       "      <th></th>\n",
       "      <th>user_id</th>\n",
       "      <th>item_id</th>\n",
       "      <th>rating</th>\n",
       "      <th>timestamp</th>\n",
       "      <th>genero</th>\n",
       "      <th>title</th>\n",
       "      <th>genero_string</th>\n",
       "    </tr>\n",
       "  </thead>\n",
       "  <tbody>\n",
       "    <tr>\n",
       "      <th>0</th>\n",
       "      <td>196</td>\n",
       "      <td>242</td>\n",
       "      <td>3</td>\n",
       "      <td>881250949</td>\n",
       "      <td>[0, 0, 0, 0, 0, 1, 0, 0, 0, 0, 0, 0, 0, 0, 0, ...</td>\n",
       "      <td>Kolya (1996)</td>\n",
       "      <td>[Comedy]</td>\n",
       "    </tr>\n",
       "    <tr>\n",
       "      <th>1</th>\n",
       "      <td>63</td>\n",
       "      <td>242</td>\n",
       "      <td>3</td>\n",
       "      <td>875747190</td>\n",
       "      <td>[0, 0, 0, 0, 0, 1, 0, 0, 0, 0, 0, 0, 0, 0, 0, ...</td>\n",
       "      <td>Kolya (1996)</td>\n",
       "      <td>[Comedy]</td>\n",
       "    </tr>\n",
       "    <tr>\n",
       "      <th>2</th>\n",
       "      <td>226</td>\n",
       "      <td>242</td>\n",
       "      <td>5</td>\n",
       "      <td>883888671</td>\n",
       "      <td>[0, 0, 0, 0, 0, 1, 0, 0, 0, 0, 0, 0, 0, 0, 0, ...</td>\n",
       "      <td>Kolya (1996)</td>\n",
       "      <td>[Comedy]</td>\n",
       "    </tr>\n",
       "    <tr>\n",
       "      <th>3</th>\n",
       "      <td>154</td>\n",
       "      <td>242</td>\n",
       "      <td>3</td>\n",
       "      <td>879138235</td>\n",
       "      <td>[0, 0, 0, 0, 0, 1, 0, 0, 0, 0, 0, 0, 0, 0, 0, ...</td>\n",
       "      <td>Kolya (1996)</td>\n",
       "      <td>[Comedy]</td>\n",
       "    </tr>\n",
       "    <tr>\n",
       "      <th>4</th>\n",
       "      <td>306</td>\n",
       "      <td>242</td>\n",
       "      <td>5</td>\n",
       "      <td>876503793</td>\n",
       "      <td>[0, 0, 0, 0, 0, 1, 0, 0, 0, 0, 0, 0, 0, 0, 0, ...</td>\n",
       "      <td>Kolya (1996)</td>\n",
       "      <td>[Comedy]</td>\n",
       "    </tr>\n",
       "  </tbody>\n",
       "</table>\n",
       "</div>"
      ],
      "text/plain": [
       "   user_id  item_id  rating  timestamp  \\\n",
       "0      196      242       3  881250949   \n",
       "1       63      242       3  875747190   \n",
       "2      226      242       5  883888671   \n",
       "3      154      242       3  879138235   \n",
       "4      306      242       5  876503793   \n",
       "\n",
       "                                              genero         title  \\\n",
       "0  [0, 0, 0, 0, 0, 1, 0, 0, 0, 0, 0, 0, 0, 0, 0, ...  Kolya (1996)   \n",
       "1  [0, 0, 0, 0, 0, 1, 0, 0, 0, 0, 0, 0, 0, 0, 0, ...  Kolya (1996)   \n",
       "2  [0, 0, 0, 0, 0, 1, 0, 0, 0, 0, 0, 0, 0, 0, 0, ...  Kolya (1996)   \n",
       "3  [0, 0, 0, 0, 0, 1, 0, 0, 0, 0, 0, 0, 0, 0, 0, ...  Kolya (1996)   \n",
       "4  [0, 0, 0, 0, 0, 1, 0, 0, 0, 0, 0, 0, 0, 0, 0, ...  Kolya (1996)   \n",
       "\n",
       "  genero_string  \n",
       "0      [Comedy]  \n",
       "1      [Comedy]  \n",
       "2      [Comedy]  \n",
       "3      [Comedy]  \n",
       "4      [Comedy]  "
      ]
     },
     "execution_count": 11,
     "metadata": {},
     "output_type": "execute_result"
    }
   ],
   "source": [
    "#Aplicando merge entre os dois DataFrames, utilizando item_id como chave estrangeira\n",
    "\n",
    "df = df.merge(right=movie_title, on='item_id')\n",
    "df.head()"
   ]
  },
  {
   "cell_type": "markdown",
   "id": "1d4097a8",
   "metadata": {},
   "source": [
    "### Criando DataFrame com base no valor médio das avaliações para cada filme."
   ]
  },
  {
   "cell_type": "code",
   "execution_count": 12,
   "id": "080d0f59",
   "metadata": {
    "scrolled": true
   },
   "outputs": [
    {
     "data": {
      "text/html": [
       "<div>\n",
       "<style scoped>\n",
       "    .dataframe tbody tr th:only-of-type {\n",
       "        vertical-align: middle;\n",
       "    }\n",
       "\n",
       "    .dataframe tbody tr th {\n",
       "        vertical-align: top;\n",
       "    }\n",
       "\n",
       "    .dataframe thead th {\n",
       "        text-align: right;\n",
       "    }\n",
       "</style>\n",
       "<table border=\"1\" class=\"dataframe\">\n",
       "  <thead>\n",
       "    <tr style=\"text-align: right;\">\n",
       "      <th></th>\n",
       "      <th>rating</th>\n",
       "    </tr>\n",
       "    <tr>\n",
       "      <th>title</th>\n",
       "      <th></th>\n",
       "    </tr>\n",
       "  </thead>\n",
       "  <tbody>\n",
       "    <tr>\n",
       "      <th>'Til There Was You (1997)</th>\n",
       "      <td>2.333333</td>\n",
       "    </tr>\n",
       "    <tr>\n",
       "      <th>1-900 (1994)</th>\n",
       "      <td>2.600000</td>\n",
       "    </tr>\n",
       "    <tr>\n",
       "      <th>101 Dalmatians (1996)</th>\n",
       "      <td>2.908257</td>\n",
       "    </tr>\n",
       "    <tr>\n",
       "      <th>12 Angry Men (1957)</th>\n",
       "      <td>4.344000</td>\n",
       "    </tr>\n",
       "    <tr>\n",
       "      <th>187 (1997)</th>\n",
       "      <td>3.024390</td>\n",
       "    </tr>\n",
       "  </tbody>\n",
       "</table>\n",
       "</div>"
      ],
      "text/plain": [
       "                             rating\n",
       "title                              \n",
       "'Til There Was You (1997)  2.333333\n",
       "1-900 (1994)               2.600000\n",
       "101 Dalmatians (1996)      2.908257\n",
       "12 Angry Men (1957)        4.344000\n",
       "187 (1997)                 3.024390"
      ]
     },
     "execution_count": 12,
     "metadata": {},
     "output_type": "execute_result"
    }
   ],
   "source": [
    "aval = pd.DataFrame(df.groupby('title')['rating'].mean())\n",
    "aval.head()"
   ]
  },
  {
   "cell_type": "markdown",
   "id": "2c135c04",
   "metadata": {},
   "source": [
    "### Adicionando coluna com quantidade de avaliações por filme."
   ]
  },
  {
   "cell_type": "code",
   "execution_count": 13,
   "id": "4738b8ec",
   "metadata": {
    "scrolled": false
   },
   "outputs": [
    {
     "data": {
      "text/html": [
       "<div>\n",
       "<style scoped>\n",
       "    .dataframe tbody tr th:only-of-type {\n",
       "        vertical-align: middle;\n",
       "    }\n",
       "\n",
       "    .dataframe tbody tr th {\n",
       "        vertical-align: top;\n",
       "    }\n",
       "\n",
       "    .dataframe thead th {\n",
       "        text-align: right;\n",
       "    }\n",
       "</style>\n",
       "<table border=\"1\" class=\"dataframe\">\n",
       "  <thead>\n",
       "    <tr style=\"text-align: right;\">\n",
       "      <th></th>\n",
       "      <th>rating</th>\n",
       "      <th>n_aval</th>\n",
       "    </tr>\n",
       "    <tr>\n",
       "      <th>title</th>\n",
       "      <th></th>\n",
       "      <th></th>\n",
       "    </tr>\n",
       "  </thead>\n",
       "  <tbody>\n",
       "    <tr>\n",
       "      <th>'Til There Was You (1997)</th>\n",
       "      <td>2.333333</td>\n",
       "      <td>9</td>\n",
       "    </tr>\n",
       "    <tr>\n",
       "      <th>1-900 (1994)</th>\n",
       "      <td>2.600000</td>\n",
       "      <td>5</td>\n",
       "    </tr>\n",
       "    <tr>\n",
       "      <th>101 Dalmatians (1996)</th>\n",
       "      <td>2.908257</td>\n",
       "      <td>109</td>\n",
       "    </tr>\n",
       "    <tr>\n",
       "      <th>12 Angry Men (1957)</th>\n",
       "      <td>4.344000</td>\n",
       "      <td>125</td>\n",
       "    </tr>\n",
       "    <tr>\n",
       "      <th>187 (1997)</th>\n",
       "      <td>3.024390</td>\n",
       "      <td>41</td>\n",
       "    </tr>\n",
       "  </tbody>\n",
       "</table>\n",
       "</div>"
      ],
      "text/plain": [
       "                             rating  n_aval\n",
       "title                                      \n",
       "'Til There Was You (1997)  2.333333       9\n",
       "1-900 (1994)               2.600000       5\n",
       "101 Dalmatians (1996)      2.908257     109\n",
       "12 Angry Men (1957)        4.344000     125\n",
       "187 (1997)                 3.024390      41"
      ]
     },
     "execution_count": 13,
     "metadata": {},
     "output_type": "execute_result"
    }
   ],
   "source": [
    "aval['n_aval'] = df.groupby('title').rating.count()\n",
    "aval.head()"
   ]
  },
  {
   "cell_type": "code",
   "execution_count": 14,
   "id": "b1324b6f",
   "metadata": {
    "scrolled": false
   },
   "outputs": [
    {
     "data": {
      "text/html": [
       "<div>\n",
       "<style scoped>\n",
       "    .dataframe tbody tr th:only-of-type {\n",
       "        vertical-align: middle;\n",
       "    }\n",
       "\n",
       "    .dataframe tbody tr th {\n",
       "        vertical-align: top;\n",
       "    }\n",
       "\n",
       "    .dataframe thead th {\n",
       "        text-align: right;\n",
       "    }\n",
       "</style>\n",
       "<table border=\"1\" class=\"dataframe\">\n",
       "  <thead>\n",
       "    <tr style=\"text-align: right;\">\n",
       "      <th></th>\n",
       "      <th>rating</th>\n",
       "      <th>n_aval</th>\n",
       "    </tr>\n",
       "  </thead>\n",
       "  <tbody>\n",
       "    <tr>\n",
       "      <th>count</th>\n",
       "      <td>1664.000000</td>\n",
       "      <td>1664.000000</td>\n",
       "    </tr>\n",
       "    <tr>\n",
       "      <th>mean</th>\n",
       "      <td>3.077018</td>\n",
       "      <td>60.096154</td>\n",
       "    </tr>\n",
       "    <tr>\n",
       "      <th>std</th>\n",
       "      <td>0.780418</td>\n",
       "      <td>80.956484</td>\n",
       "    </tr>\n",
       "    <tr>\n",
       "      <th>min</th>\n",
       "      <td>1.000000</td>\n",
       "      <td>1.000000</td>\n",
       "    </tr>\n",
       "    <tr>\n",
       "      <th>25%</th>\n",
       "      <td>2.665094</td>\n",
       "      <td>7.000000</td>\n",
       "    </tr>\n",
       "    <tr>\n",
       "      <th>50%</th>\n",
       "      <td>3.162132</td>\n",
       "      <td>27.000000</td>\n",
       "    </tr>\n",
       "    <tr>\n",
       "      <th>75%</th>\n",
       "      <td>3.651808</td>\n",
       "      <td>80.250000</td>\n",
       "    </tr>\n",
       "    <tr>\n",
       "      <th>max</th>\n",
       "      <td>5.000000</td>\n",
       "      <td>583.000000</td>\n",
       "    </tr>\n",
       "  </tbody>\n",
       "</table>\n",
       "</div>"
      ],
      "text/plain": [
       "            rating       n_aval\n",
       "count  1664.000000  1664.000000\n",
       "mean      3.077018    60.096154\n",
       "std       0.780418    80.956484\n",
       "min       1.000000     1.000000\n",
       "25%       2.665094     7.000000\n",
       "50%       3.162132    27.000000\n",
       "75%       3.651808    80.250000\n",
       "max       5.000000   583.000000"
      ]
     },
     "execution_count": 14,
     "metadata": {},
     "output_type": "execute_result"
    }
   ],
   "source": [
    "aval.describe()"
   ]
  },
  {
   "cell_type": "markdown",
   "id": "ef66cc5c",
   "metadata": {},
   "source": [
    "Vamos usar a Regra de Sturges para obter a quantidade de bins ótima do histograma de frequências da quantidade de acaliações. Observando a análise descritiva acima, vemos que a quantidade de avaliações mínimas que um filme recebeu é 1 e máxima é 584. Assim, a largura do histograma de frequências deve ser 584 - 1 = 583."
   ]
  },
  {
   "cell_type": "markdown",
   "id": "96c2ea31",
   "metadata": {},
   "source": [
    "Ponto de partida para obter a largura dos bins: Regra de Sturges\n",
    "\n",
    "$K = 1 + log_{10}(N)$, onde N é o número de amostras, e K é a largura de cada bin no histograma."
   ]
  },
  {
   "cell_type": "code",
   "execution_count": 15,
   "id": "7b1decc7",
   "metadata": {},
   "outputs": [
    {
     "name": "stdout",
     "output_type": "stream",
     "text": [
      "Quantidade de amostras: 1664\n"
     ]
    }
   ],
   "source": [
    "print(f'Quantidade de amostras: {aval.shape[0]}')"
   ]
  },
  {
   "cell_type": "code",
   "execution_count": 16,
   "id": "dcbe49ac",
   "metadata": {},
   "outputs": [
    {
     "data": {
      "text/plain": [
       "11.700671335533531"
      ]
     },
     "execution_count": 16,
     "metadata": {},
     "output_type": "execute_result"
    }
   ],
   "source": [
    "K = 1 + 3.322*np.log10(1664)\n",
    "K"
   ]
  },
  {
   "cell_type": "code",
   "execution_count": 17,
   "id": "012a8e01",
   "metadata": {},
   "outputs": [
    {
     "data": {
      "text/plain": [
       "53.0"
      ]
     },
     "execution_count": 17,
     "metadata": {},
     "output_type": "execute_result"
    }
   ],
   "source": [
    "583/11"
   ]
  },
  {
   "cell_type": "markdown",
   "id": "6d418e18",
   "metadata": {},
   "source": [
    "Assim, teremos 53 bins, cada um com largura de 11."
   ]
  },
  {
   "cell_type": "markdown",
   "id": "8aaa92fa",
   "metadata": {},
   "source": [
    "O histograma mostra que, de maneira geral, a maioria dos filmes têm poucos avaliações e poucos filmes têm várias avaliações. Isso é interpretado através da longa calda à direita, visualizada no gráfico (distribuição Log-Normal)."
   ]
  },
  {
   "cell_type": "code",
   "execution_count": 18,
   "id": "acfe699c",
   "metadata": {
    "scrolled": false
   },
   "outputs": [
    {
     "data": {
      "image/png": "[encoded data removed]",
      "text/plain": [
       "<Figure size 720x288 with 1 Axes>"
      ]
     },
     "metadata": {
      "needs_background": "light"
     },
     "output_type": "display_data"
    }
   ],
   "source": [
    "plt.figure(figsize=(10,4))\n",
    "\n",
    "aval.n_aval.hist(bins=53);"
   ]
  },
  {
   "cell_type": "markdown",
   "id": "46081cf1",
   "metadata": {},
   "source": [
    "Já para o gráfico de distribuição de frequências exibindo o rating dos filmes abaixo, vemos que os valores 1.0, 2.0, 3.0, 4.0 e 5.0 sobressaem, o que implica dizer que muitos filmes têm a mesma avaliação. Ou seja, pegando como exemplo o filme `3 Ninjas: High Noon At Mega Mountain (1998)`, todas as pessoas o avaliou com 1 estrela. Isso se repetirá para 2, 3, 4 ou 5 estrelas."
   ]
  },
  {
   "cell_type": "code",
   "execution_count": 22,
   "id": "bd60ef87",
   "metadata": {},
   "outputs": [
    {
     "data": {
      "text/plain": [
       "array([1])"
      ]
     },
     "execution_count": 22,
     "metadata": {},
     "output_type": "execute_result"
    }
   ],
   "source": [
    "df[df.title == '3 Ninjas: High Noon At Mega Mountain (1998)'].rating.unique()"
   ]
  },
  {
   "cell_type": "code",
   "execution_count": 23,
   "id": "bf589f28",
   "metadata": {
    "scrolled": true
   },
   "outputs": [
    {
     "data": {
      "image/png": "[encoded data removed]",
      "text/plain": [
       "<Figure size 720x288 with 1 Axes>"
      ]
     },
     "metadata": {
      "needs_background": "light"
     },
     "output_type": "display_data"
    }
   ],
   "source": [
    "plt.figure(figsize=(10,4))\n",
    "\n",
    "aval.rating.hist(bins=100, color='r')\n",
    "plt.title('Histograma de frequências da avaliação média recebida por filme', fontsize = 15, fontweight='bold', pad=10)\n",
    "plt.savefig('images/hist.png', bbox_inches='tight', dpi=200);"
   ]
  },
  {
   "cell_type": "markdown",
   "id": "fb6278e4",
   "metadata": {},
   "source": [
    "Filmes para os quais os usuários deram apenas uma tipo de estrelas (1, 2, 3, 4 ou 5)"
   ]
  },
  {
   "cell_type": "code",
   "execution_count": 24,
   "id": "cc565e67",
   "metadata": {},
   "outputs": [],
   "source": [
    "filmes_unique_rating = []\n",
    "\n",
    "for title in df.title.unique():\n",
    "    if df[df.title == title].rating.nunique() == 1:\n",
    "        filmes_unique_rating.append(title)"
   ]
  },
  {
   "cell_type": "code",
   "execution_count": 25,
   "id": "d3c21de2",
   "metadata": {},
   "outputs": [
    {
     "name": "stdout",
     "output_type": "stream",
     "text": [
      "160 filmes, equivalente a 9.62% do total de filmes, recebem apenas um tipo de estrela (1, 2, 3, 4 ou 5!\n"
     ]
    }
   ],
   "source": [
    "print(f'{len(filmes_unique_rating)} filmes, equivalente a {round(len(filmes_unique_rating)*100/df.title.nunique(),2)}\\\n",
    "% do total de filmes, recebem apenas um tipo de estrela (1, 2, 3, 4 ou 5!')"
   ]
  },
  {
   "cell_type": "markdown",
   "id": "e2f78791",
   "metadata": {},
   "source": [
    "No gráfico abaixo, vemos que a quantidade de avaliações tem relação direta com a nota avaliativa, o que implica dizer que, quanto maior é a nota dada a um filme, mais pessoas assistirão à ele e, por consequência, deixarão sua avaliação, como numa retroalimentação. Além disso, a relação parece ser mais ou menos exponencial!"
   ]
  },
  {
   "cell_type": "code",
   "execution_count": 26,
   "id": "1627a03c",
   "metadata": {
    "scrolled": false
   },
   "outputs": [
    {
     "data": {
      "image/png": "[encoded data removed]",
      "text/plain": [
       "<Figure size 432x432 with 3 Axes>"
      ]
     },
     "metadata": {
      "needs_background": "light"
     },
     "output_type": "display_data"
    }
   ],
   "source": [
    "sns.jointplot(x='rating',y='n_aval', data=aval,alpha=0.5);"
   ]
  },
  {
   "cell_type": "markdown",
   "id": "1204a698",
   "metadata": {},
   "source": [
    "Será que conseguimos modelar o gráfico acima por uma equação exponencial do tipo ${y = a\\cdot exp(b \\cdot x)}$ ??"
   ]
  },
  {
   "cell_type": "code",
   "execution_count": 27,
   "id": "3ad7f783",
   "metadata": {},
   "outputs": [
    {
     "name": "stdout",
     "output_type": "stream",
     "text": [
      "6.744917750778215 0.6812996717577267\n"
     ]
    }
   ],
   "source": [
    "#Obtendo parâmetros a e b da modelagem\n",
    "a, _ = scipy.optimize.curve_fit(lambda t,a,b: a*np.exp(b*t),  aval.rating,  aval.n_aval, p0 = (3,5))\n",
    "\n",
    "print(a[0], a[1])"
   ]
  },
  {
   "cell_type": "code",
   "execution_count": 28,
   "id": "337b9138",
   "metadata": {
    "scrolled": true
   },
   "outputs": [
    {
     "data": {
      "image/png": "[encoded data removed]",
      "text/plain": [
       "<Figure size 720x360 with 1 Axes>"
      ]
     },
     "metadata": {
      "needs_background": "light"
     },
     "output_type": "display_data"
    }
   ],
   "source": [
    "f, ax = plt.subplots(figsize=(10,5))\n",
    "\n",
    "x = np.linspace(1, 5, aval.shape[0])\n",
    "y = a[0]* np.exp(a[1]*x)\n",
    "\n",
    "plt.plot(aval.rating, aval.n_aval, 'b', marker='o', linestyle='')\n",
    "plt.plot(x, y, 'r')\n",
    "plt.xlabel('Avaliação')\n",
    "plt.ylabel('Quantidade de votos')\n",
    "\n",
    "plt.text(1, 500, 'R = ' + \n",
    "str(round(np.corrcoef(aval.n_aval.values, a[0]*np.exp(a[1]*aval.rating.values))[0][1], 2)), fontsize=14)\n",
    "\n",
    "plt.ylim(0,600);"
   ]
  },
  {
   "cell_type": "markdown",
   "id": "61fe083b",
   "metadata": {},
   "source": [
    "Devido à grande dispersão, a correlação é muito baixa, indicando que é difícil realizar uma modelagem entre essas duas variáveis a partir de uma exponencial."
   ]
  },
  {
   "cell_type": "markdown",
   "id": "6d3a9e6d",
   "metadata": {},
   "source": [
    "### Os 100 filmes que MAIS receberam votos"
   ]
  },
  {
   "cell_type": "code",
   "execution_count": 29,
   "id": "401863bb",
   "metadata": {
    "scrolled": false
   },
   "outputs": [
    {
     "data": {
      "image/png": "[encoded data removed]",
      "text/plain": [
       "<Figure size 1224x288 with 1 Axes>"
      ]
     },
     "metadata": {
      "needs_background": "light"
     },
     "output_type": "display_data"
    }
   ],
   "source": [
    "f, ax = plt.subplots(figsize=(17,4))\n",
    "\n",
    "g = df.title.value_counts().sort_values(ascending=False).head(100)\n",
    "g.plot.bar()\n",
    "ax.set_xticklabels(labels=g.keys(), rotation=90);"
   ]
  },
  {
   "cell_type": "code",
   "execution_count": 30,
   "id": "d1d3c45c",
   "metadata": {
    "scrolled": true
   },
   "outputs": [
    {
     "name": "stdout",
     "output_type": "stream",
     "text": [
      "134 filmes foram avaliados apenas uma vez\n"
     ]
    }
   ],
   "source": [
    "print(f'{(df.title.value_counts() == 1).sum()} filmes foram avaliados apenas uma vez')"
   ]
  },
  {
   "cell_type": "markdown",
   "id": "5f1f84d7",
   "metadata": {},
   "source": [
    "# Recomendação de filmes por similaridade"
   ]
  },
  {
   "cell_type": "markdown",
   "id": "39f3e2ec",
   "metadata": {},
   "source": [
    "Em sistemas de recomendações, é interessante notar a alta esparcialidade dos dados, posto que, de maneira geral, a grande maioria das pessoas verão a grande minoria dos filmes; de modo que; muitos filmes não serão avaliado por um dado usuário. Desta forma, é natural lidar com diversos valores `NaN's` (Not a number)!"
   ]
  },
  {
   "cell_type": "code",
   "execution_count": 31,
   "id": "f2e6cb25",
   "metadata": {
    "scrolled": false
   },
   "outputs": [
    {
     "data": {
      "text/html": [
       "<div>\n",
       "<style scoped>\n",
       "    .dataframe tbody tr th:only-of-type {\n",
       "        vertical-align: middle;\n",
       "    }\n",
       "\n",
       "    .dataframe tbody tr th {\n",
       "        vertical-align: top;\n",
       "    }\n",
       "\n",
       "    .dataframe thead th {\n",
       "        text-align: right;\n",
       "    }\n",
       "</style>\n",
       "<table border=\"1\" class=\"dataframe\">\n",
       "  <thead>\n",
       "    <tr style=\"text-align: right;\">\n",
       "      <th>title</th>\n",
       "      <th>'Til There Was You (1997)</th>\n",
       "      <th>1-900 (1994)</th>\n",
       "      <th>101 Dalmatians (1996)</th>\n",
       "      <th>12 Angry Men (1957)</th>\n",
       "      <th>187 (1997)</th>\n",
       "      <th>2 Days in the Valley (1996)</th>\n",
       "      <th>20,000 Leagues Under the Sea (1954)</th>\n",
       "      <th>2001: A Space Odyssey (1968)</th>\n",
       "      <th>3 Ninjas: High Noon At Mega Mountain (1998)</th>\n",
       "      <th>39 Steps, The (1935)</th>\n",
       "      <th>...</th>\n",
       "      <th>Yankee Zulu (1994)</th>\n",
       "      <th>Year of the Horse (1997)</th>\n",
       "      <th>You So Crazy (1994)</th>\n",
       "      <th>Young Frankenstein (1974)</th>\n",
       "      <th>Young Guns (1988)</th>\n",
       "      <th>Young Guns II (1990)</th>\n",
       "      <th>Young Poisoner's Handbook, The (1995)</th>\n",
       "      <th>Zeus and Roxanne (1997)</th>\n",
       "      <th>unknown</th>\n",
       "      <th>Á köldum klaka (Cold Fever) (1994)</th>\n",
       "    </tr>\n",
       "    <tr>\n",
       "      <th>user_id</th>\n",
       "      <th></th>\n",
       "      <th></th>\n",
       "      <th></th>\n",
       "      <th></th>\n",
       "      <th></th>\n",
       "      <th></th>\n",
       "      <th></th>\n",
       "      <th></th>\n",
       "      <th></th>\n",
       "      <th></th>\n",
       "      <th></th>\n",
       "      <th></th>\n",
       "      <th></th>\n",
       "      <th></th>\n",
       "      <th></th>\n",
       "      <th></th>\n",
       "      <th></th>\n",
       "      <th></th>\n",
       "      <th></th>\n",
       "      <th></th>\n",
       "      <th></th>\n",
       "    </tr>\n",
       "  </thead>\n",
       "  <tbody>\n",
       "    <tr>\n",
       "      <th>1</th>\n",
       "      <td>NaN</td>\n",
       "      <td>NaN</td>\n",
       "      <td>2.0</td>\n",
       "      <td>5.0</td>\n",
       "      <td>NaN</td>\n",
       "      <td>NaN</td>\n",
       "      <td>3.0</td>\n",
       "      <td>4.0</td>\n",
       "      <td>NaN</td>\n",
       "      <td>NaN</td>\n",
       "      <td>...</td>\n",
       "      <td>NaN</td>\n",
       "      <td>NaN</td>\n",
       "      <td>NaN</td>\n",
       "      <td>5.0</td>\n",
       "      <td>3.0</td>\n",
       "      <td>NaN</td>\n",
       "      <td>NaN</td>\n",
       "      <td>NaN</td>\n",
       "      <td>4.0</td>\n",
       "      <td>NaN</td>\n",
       "    </tr>\n",
       "    <tr>\n",
       "      <th>2</th>\n",
       "      <td>NaN</td>\n",
       "      <td>NaN</td>\n",
       "      <td>NaN</td>\n",
       "      <td>NaN</td>\n",
       "      <td>NaN</td>\n",
       "      <td>NaN</td>\n",
       "      <td>NaN</td>\n",
       "      <td>NaN</td>\n",
       "      <td>1.0</td>\n",
       "      <td>NaN</td>\n",
       "      <td>...</td>\n",
       "      <td>NaN</td>\n",
       "      <td>NaN</td>\n",
       "      <td>NaN</td>\n",
       "      <td>NaN</td>\n",
       "      <td>NaN</td>\n",
       "      <td>NaN</td>\n",
       "      <td>NaN</td>\n",
       "      <td>NaN</td>\n",
       "      <td>NaN</td>\n",
       "      <td>NaN</td>\n",
       "    </tr>\n",
       "    <tr>\n",
       "      <th>3</th>\n",
       "      <td>NaN</td>\n",
       "      <td>NaN</td>\n",
       "      <td>NaN</td>\n",
       "      <td>NaN</td>\n",
       "      <td>2.0</td>\n",
       "      <td>NaN</td>\n",
       "      <td>NaN</td>\n",
       "      <td>NaN</td>\n",
       "      <td>NaN</td>\n",
       "      <td>NaN</td>\n",
       "      <td>...</td>\n",
       "      <td>NaN</td>\n",
       "      <td>NaN</td>\n",
       "      <td>NaN</td>\n",
       "      <td>NaN</td>\n",
       "      <td>NaN</td>\n",
       "      <td>NaN</td>\n",
       "      <td>NaN</td>\n",
       "      <td>NaN</td>\n",
       "      <td>NaN</td>\n",
       "      <td>NaN</td>\n",
       "    </tr>\n",
       "    <tr>\n",
       "      <th>4</th>\n",
       "      <td>NaN</td>\n",
       "      <td>NaN</td>\n",
       "      <td>NaN</td>\n",
       "      <td>NaN</td>\n",
       "      <td>NaN</td>\n",
       "      <td>NaN</td>\n",
       "      <td>NaN</td>\n",
       "      <td>NaN</td>\n",
       "      <td>NaN</td>\n",
       "      <td>NaN</td>\n",
       "      <td>...</td>\n",
       "      <td>NaN</td>\n",
       "      <td>NaN</td>\n",
       "      <td>NaN</td>\n",
       "      <td>NaN</td>\n",
       "      <td>NaN</td>\n",
       "      <td>NaN</td>\n",
       "      <td>NaN</td>\n",
       "      <td>NaN</td>\n",
       "      <td>NaN</td>\n",
       "      <td>NaN</td>\n",
       "    </tr>\n",
       "    <tr>\n",
       "      <th>5</th>\n",
       "      <td>NaN</td>\n",
       "      <td>NaN</td>\n",
       "      <td>2.0</td>\n",
       "      <td>NaN</td>\n",
       "      <td>NaN</td>\n",
       "      <td>NaN</td>\n",
       "      <td>NaN</td>\n",
       "      <td>4.0</td>\n",
       "      <td>NaN</td>\n",
       "      <td>NaN</td>\n",
       "      <td>...</td>\n",
       "      <td>NaN</td>\n",
       "      <td>NaN</td>\n",
       "      <td>NaN</td>\n",
       "      <td>4.0</td>\n",
       "      <td>NaN</td>\n",
       "      <td>NaN</td>\n",
       "      <td>NaN</td>\n",
       "      <td>NaN</td>\n",
       "      <td>4.0</td>\n",
       "      <td>NaN</td>\n",
       "    </tr>\n",
       "  </tbody>\n",
       "</table>\n",
       "<p>5 rows × 1664 columns</p>\n",
       "</div>"
      ],
      "text/plain": [
       "title    'Til There Was You (1997)  1-900 (1994)  101 Dalmatians (1996)  \\\n",
       "user_id                                                                   \n",
       "1                              NaN           NaN                    2.0   \n",
       "2                              NaN           NaN                    NaN   \n",
       "3                              NaN           NaN                    NaN   \n",
       "4                              NaN           NaN                    NaN   \n",
       "5                              NaN           NaN                    2.0   \n",
       "\n",
       "title    12 Angry Men (1957)  187 (1997)  2 Days in the Valley (1996)  \\\n",
       "user_id                                                                 \n",
       "1                        5.0         NaN                          NaN   \n",
       "2                        NaN         NaN                          NaN   \n",
       "3                        NaN         2.0                          NaN   \n",
       "4                        NaN         NaN                          NaN   \n",
       "5                        NaN         NaN                          NaN   \n",
       "\n",
       "title    20,000 Leagues Under the Sea (1954)  2001: A Space Odyssey (1968)  \\\n",
       "user_id                                                                      \n",
       "1                                        3.0                           4.0   \n",
       "2                                        NaN                           NaN   \n",
       "3                                        NaN                           NaN   \n",
       "4                                        NaN                           NaN   \n",
       "5                                        NaN                           4.0   \n",
       "\n",
       "title    3 Ninjas: High Noon At Mega Mountain (1998)  39 Steps, The (1935)  \\\n",
       "user_id                                                                      \n",
       "1                                                NaN                   NaN   \n",
       "2                                                1.0                   NaN   \n",
       "3                                                NaN                   NaN   \n",
       "4                                                NaN                   NaN   \n",
       "5                                                NaN                   NaN   \n",
       "\n",
       "title    ...  Yankee Zulu (1994)  Year of the Horse (1997)  \\\n",
       "user_id  ...                                                 \n",
       "1        ...                 NaN                       NaN   \n",
       "2        ...                 NaN                       NaN   \n",
       "3        ...                 NaN                       NaN   \n",
       "4        ...                 NaN                       NaN   \n",
       "5        ...                 NaN                       NaN   \n",
       "\n",
       "title    You So Crazy (1994)  Young Frankenstein (1974)  Young Guns (1988)  \\\n",
       "user_id                                                                      \n",
       "1                        NaN                        5.0                3.0   \n",
       "2                        NaN                        NaN                NaN   \n",
       "3                        NaN                        NaN                NaN   \n",
       "4                        NaN                        NaN                NaN   \n",
       "5                        NaN                        4.0                NaN   \n",
       "\n",
       "title    Young Guns II (1990)  Young Poisoner's Handbook, The (1995)  \\\n",
       "user_id                                                                \n",
       "1                         NaN                                    NaN   \n",
       "2                         NaN                                    NaN   \n",
       "3                         NaN                                    NaN   \n",
       "4                         NaN                                    NaN   \n",
       "5                         NaN                                    NaN   \n",
       "\n",
       "title    Zeus and Roxanne (1997)  unknown  Á köldum klaka (Cold Fever) (1994)  \n",
       "user_id                                                                        \n",
       "1                            NaN      4.0                                 NaN  \n",
       "2                            NaN      NaN                                 NaN  \n",
       "3                            NaN      NaN                                 NaN  \n",
       "4                            NaN      NaN                                 NaN  \n",
       "5                            NaN      4.0                                 NaN  \n",
       "\n",
       "[5 rows x 1664 columns]"
      ]
     },
     "execution_count": 31,
     "metadata": {},
     "output_type": "execute_result"
    }
   ],
   "source": [
    "# Criando DataFrame com usuários nas linhas e filmes nas colunas\n",
    "movie = df.pivot_table(index='user_id',columns='title',values='rating')\n",
    "movie.head()"
   ]
  },
  {
   "cell_type": "code",
   "execution_count": 32,
   "id": "8e47aefa",
   "metadata": {},
   "outputs": [
    {
     "name": "stdout",
     "output_type": "stream",
     "text": [
      "118 filmes recebem 200 votos ou mais!\n"
     ]
    }
   ],
   "source": [
    "votos = 200\n",
    "print(f'{(movie.count() >= votos).sum()} filmes recebem {votos} votos ou mais!')"
   ]
  },
  {
   "cell_type": "code",
   "execution_count": 33,
   "id": "2f24f282",
   "metadata": {},
   "outputs": [
    {
     "name": "stdout",
     "output_type": "stream",
     "text": [
      "4 filmes recebem 500 votos ou mais!\n"
     ]
    }
   ],
   "source": [
    "votos = 500\n",
    "print(f'{(movie.count() >= votos).sum()} filmes recebem {votos} votos ou mais!')"
   ]
  },
  {
   "cell_type": "markdown",
   "id": "5191fd37",
   "metadata": {},
   "source": [
    "Vamos utilizar o filme `Star Wars`, como target"
   ]
  },
  {
   "cell_type": "code",
   "execution_count": 34,
   "id": "86259481",
   "metadata": {},
   "outputs": [
    {
     "data": {
      "text/plain": [
       "user_id\n",
       "1    5.0\n",
       "2    5.0\n",
       "3    NaN\n",
       "4    5.0\n",
       "5    4.0\n",
       "Name: Star Wars (1977), dtype: float64"
      ]
     },
     "execution_count": 34,
     "metadata": {},
     "output_type": "execute_result"
    }
   ],
   "source": [
    "starwars_user_ratings = movie['Star Wars (1977)']\n",
    "starwars_user_ratings.head()"
   ]
  },
  {
   "cell_type": "markdown",
   "id": "aec2b41e",
   "metadata": {},
   "source": [
    "Agora, vamos obter a correlação entre duas Séries de Pandas:"
   ]
  },
  {
   "cell_type": "code",
   "execution_count": 35,
   "id": "8693c1d4",
   "metadata": {},
   "outputs": [
    {
     "name": "stderr",
     "output_type": "stream",
     "text": [
      "/home/apolo/anaconda3/envs/t22/lib/python3.8/site-packages/numpy/lib/function_base.py:2634: RuntimeWarning: Degrees of freedom <= 0 for slice\n",
      "  c = cov(x, y, rowvar, dtype=dtype)\n",
      "/home/apolo/anaconda3/envs/t22/lib/python3.8/site-packages/numpy/lib/function_base.py:2493: RuntimeWarning: divide by zero encountered in true_divide\n",
      "  c *= np.true_divide(1, fact)\n"
     ]
    },
    {
     "data": {
      "text/plain": [
       "title\n",
       "'Til There Was You (1997)    0.872872\n",
       "1-900 (1994)                -0.645497\n",
       "101 Dalmatians (1996)        0.211132\n",
       "12 Angry Men (1957)          0.184289\n",
       "187 (1997)                   0.027398\n",
       "dtype: float64"
      ]
     },
     "execution_count": 35,
     "metadata": {},
     "output_type": "execute_result"
    }
   ],
   "source": [
    "similar_to_starwars = movie.corrwith(starwars_user_ratings)\n",
    "similar_to_starwars.head()"
   ]
  },
  {
   "cell_type": "code",
   "execution_count": 36,
   "id": "499a7a26",
   "metadata": {},
   "outputs": [
    {
     "data": {
      "text/html": [
       "<div>\n",
       "<style scoped>\n",
       "    .dataframe tbody tr th:only-of-type {\n",
       "        vertical-align: middle;\n",
       "    }\n",
       "\n",
       "    .dataframe tbody tr th {\n",
       "        vertical-align: top;\n",
       "    }\n",
       "\n",
       "    .dataframe thead th {\n",
       "        text-align: right;\n",
       "    }\n",
       "</style>\n",
       "<table border=\"1\" class=\"dataframe\">\n",
       "  <thead>\n",
       "    <tr style=\"text-align: right;\">\n",
       "      <th></th>\n",
       "      <th>Correlation</th>\n",
       "    </tr>\n",
       "    <tr>\n",
       "      <th>title</th>\n",
       "      <th></th>\n",
       "    </tr>\n",
       "  </thead>\n",
       "  <tbody>\n",
       "    <tr>\n",
       "      <th>'Til There Was You (1997)</th>\n",
       "      <td>0.872872</td>\n",
       "    </tr>\n",
       "    <tr>\n",
       "      <th>1-900 (1994)</th>\n",
       "      <td>-0.645497</td>\n",
       "    </tr>\n",
       "    <tr>\n",
       "      <th>101 Dalmatians (1996)</th>\n",
       "      <td>0.211132</td>\n",
       "    </tr>\n",
       "    <tr>\n",
       "      <th>12 Angry Men (1957)</th>\n",
       "      <td>0.184289</td>\n",
       "    </tr>\n",
       "    <tr>\n",
       "      <th>187 (1997)</th>\n",
       "      <td>0.027398</td>\n",
       "    </tr>\n",
       "  </tbody>\n",
       "</table>\n",
       "</div>"
      ],
      "text/plain": [
       "                           Correlation\n",
       "title                                 \n",
       "'Til There Was You (1997)     0.872872\n",
       "1-900 (1994)                 -0.645497\n",
       "101 Dalmatians (1996)         0.211132\n",
       "12 Angry Men (1957)           0.184289\n",
       "187 (1997)                    0.027398"
      ]
     },
     "execution_count": 36,
     "metadata": {},
     "output_type": "execute_result"
    }
   ],
   "source": [
    "corr_starwars = pd.DataFrame(similar_to_starwars, columns=['Correlation'])\n",
    "corr_starwars.dropna(inplace=True)\n",
    "corr_starwars.head()"
   ]
  },
  {
   "cell_type": "code",
   "execution_count": 37,
   "id": "77e69cad",
   "metadata": {
    "scrolled": true
   },
   "outputs": [
    {
     "data": {
      "text/html": [
       "<div>\n",
       "<style scoped>\n",
       "    .dataframe tbody tr th:only-of-type {\n",
       "        vertical-align: middle;\n",
       "    }\n",
       "\n",
       "    .dataframe tbody tr th {\n",
       "        vertical-align: top;\n",
       "    }\n",
       "\n",
       "    .dataframe thead th {\n",
       "        text-align: right;\n",
       "    }\n",
       "</style>\n",
       "<table border=\"1\" class=\"dataframe\">\n",
       "  <thead>\n",
       "    <tr style=\"text-align: right;\">\n",
       "      <th></th>\n",
       "      <th>Correlation</th>\n",
       "    </tr>\n",
       "    <tr>\n",
       "      <th>title</th>\n",
       "      <th></th>\n",
       "    </tr>\n",
       "  </thead>\n",
       "  <tbody>\n",
       "    <tr>\n",
       "      <th>Hollow Reed (1996)</th>\n",
       "      <td>1.0</td>\n",
       "    </tr>\n",
       "    <tr>\n",
       "      <th>Stripes (1981)</th>\n",
       "      <td>1.0</td>\n",
       "    </tr>\n",
       "    <tr>\n",
       "      <th>Star Wars (1977)</th>\n",
       "      <td>1.0</td>\n",
       "    </tr>\n",
       "    <tr>\n",
       "      <th>Beans of Egypt, Maine, The (1994)</th>\n",
       "      <td>1.0</td>\n",
       "    </tr>\n",
       "    <tr>\n",
       "      <th>Safe Passage (1994)</th>\n",
       "      <td>1.0</td>\n",
       "    </tr>\n",
       "  </tbody>\n",
       "</table>\n",
       "</div>"
      ],
      "text/plain": [
       "                                   Correlation\n",
       "title                                         \n",
       "Hollow Reed (1996)                         1.0\n",
       "Stripes (1981)                             1.0\n",
       "Star Wars (1977)                           1.0\n",
       "Beans of Egypt, Maine, The (1994)          1.0\n",
       "Safe Passage (1994)                        1.0"
      ]
     },
     "execution_count": 37,
     "metadata": {},
     "output_type": "execute_result"
    }
   ],
   "source": [
    "corr_starwars.sort_values('Correlation',ascending=False).head()"
   ]
  },
  {
   "cell_type": "markdown",
   "id": "a2aa5b3a",
   "metadata": {},
   "source": [
    "É possível ver que vários filmes possuem correlação de 1.0, o que não necessariamente implica dizer que é uma boa recomendação. Pode significar que poucas pessoas avaliaram esses filmes e essas poucas pessoas também assistiram a Star Wars (já que este foi um filme bastante assistido). Para corrigir isso, vamos utilizar apenas filmes que tiveram pelo menos 100 avaliações."
   ]
  },
  {
   "cell_type": "code",
   "execution_count": 39,
   "id": "49aec14b",
   "metadata": {
    "scrolled": false
   },
   "outputs": [
    {
     "data": {
      "text/html": [
       "<div>\n",
       "<style scoped>\n",
       "    .dataframe tbody tr th:only-of-type {\n",
       "        vertical-align: middle;\n",
       "    }\n",
       "\n",
       "    .dataframe tbody tr th {\n",
       "        vertical-align: top;\n",
       "    }\n",
       "\n",
       "    .dataframe thead th {\n",
       "        text-align: right;\n",
       "    }\n",
       "</style>\n",
       "<table border=\"1\" class=\"dataframe\">\n",
       "  <thead>\n",
       "    <tr style=\"text-align: right;\">\n",
       "      <th></th>\n",
       "      <th>Correlation</th>\n",
       "      <th>n_aval</th>\n",
       "    </tr>\n",
       "    <tr>\n",
       "      <th>title</th>\n",
       "      <th></th>\n",
       "      <th></th>\n",
       "    </tr>\n",
       "  </thead>\n",
       "  <tbody>\n",
       "    <tr>\n",
       "      <th>'Til There Was You (1997)</th>\n",
       "      <td>0.872872</td>\n",
       "      <td>9</td>\n",
       "    </tr>\n",
       "    <tr>\n",
       "      <th>1-900 (1994)</th>\n",
       "      <td>-0.645497</td>\n",
       "      <td>5</td>\n",
       "    </tr>\n",
       "    <tr>\n",
       "      <th>101 Dalmatians (1996)</th>\n",
       "      <td>0.211132</td>\n",
       "      <td>109</td>\n",
       "    </tr>\n",
       "    <tr>\n",
       "      <th>12 Angry Men (1957)</th>\n",
       "      <td>0.184289</td>\n",
       "      <td>125</td>\n",
       "    </tr>\n",
       "    <tr>\n",
       "      <th>187 (1997)</th>\n",
       "      <td>0.027398</td>\n",
       "      <td>41</td>\n",
       "    </tr>\n",
       "  </tbody>\n",
       "</table>\n",
       "</div>"
      ],
      "text/plain": [
       "                           Correlation  n_aval\n",
       "title                                         \n",
       "'Til There Was You (1997)     0.872872       9\n",
       "1-900 (1994)                 -0.645497       5\n",
       "101 Dalmatians (1996)         0.211132     109\n",
       "12 Angry Men (1957)           0.184289     125\n",
       "187 (1997)                    0.027398      41"
      ]
     },
     "execution_count": 39,
     "metadata": {},
     "output_type": "execute_result"
    }
   ],
   "source": [
    "corr_starwars = corr_starwars.join(aval['n_aval'])\n",
    "corr_starwars.head()"
   ]
  },
  {
   "cell_type": "code",
   "execution_count": 40,
   "id": "09ae3774",
   "metadata": {},
   "outputs": [
    {
     "data": {
      "text/plain": [
       "1682"
      ]
     },
     "execution_count": 40,
     "metadata": {},
     "output_type": "execute_result"
    }
   ],
   "source": [
    "n_items"
   ]
  },
  {
   "cell_type": "code",
   "execution_count": 42,
   "id": "ce410127",
   "metadata": {
    "scrolled": false
   },
   "outputs": [
    {
     "data": {
      "text/html": [
       "<div>\n",
       "<style scoped>\n",
       "    .dataframe tbody tr th:only-of-type {\n",
       "        vertical-align: middle;\n",
       "    }\n",
       "\n",
       "    .dataframe tbody tr th {\n",
       "        vertical-align: top;\n",
       "    }\n",
       "\n",
       "    .dataframe thead th {\n",
       "        text-align: right;\n",
       "    }\n",
       "</style>\n",
       "<table border=\"1\" class=\"dataframe\">\n",
       "  <thead>\n",
       "    <tr style=\"text-align: right;\">\n",
       "      <th></th>\n",
       "      <th>Correlation</th>\n",
       "      <th>n_aval</th>\n",
       "    </tr>\n",
       "    <tr>\n",
       "      <th>title</th>\n",
       "      <th></th>\n",
       "      <th></th>\n",
       "    </tr>\n",
       "  </thead>\n",
       "  <tbody>\n",
       "    <tr>\n",
       "      <th>Star Wars (1977)</th>\n",
       "      <td>1.000000</td>\n",
       "      <td>583</td>\n",
       "    </tr>\n",
       "    <tr>\n",
       "      <th>Empire Strikes Back, The (1980)</th>\n",
       "      <td>0.747981</td>\n",
       "      <td>367</td>\n",
       "    </tr>\n",
       "    <tr>\n",
       "      <th>Return of the Jedi (1983)</th>\n",
       "      <td>0.672556</td>\n",
       "      <td>507</td>\n",
       "    </tr>\n",
       "    <tr>\n",
       "      <th>Raiders of the Lost Ark (1981)</th>\n",
       "      <td>0.536117</td>\n",
       "      <td>420</td>\n",
       "    </tr>\n",
       "    <tr>\n",
       "      <th>Sting, The (1973)</th>\n",
       "      <td>0.367538</td>\n",
       "      <td>241</td>\n",
       "    </tr>\n",
       "  </tbody>\n",
       "</table>\n",
       "</div>"
      ],
      "text/plain": [
       "                                 Correlation  n_aval\n",
       "title                                               \n",
       "Star Wars (1977)                    1.000000     583\n",
       "Empire Strikes Back, The (1980)     0.747981     367\n",
       "Return of the Jedi (1983)           0.672556     507\n",
       "Raiders of the Lost Ark (1981)      0.536117     420\n",
       "Sting, The (1973)                   0.367538     241"
      ]
     },
     "execution_count": 42,
     "metadata": {},
     "output_type": "execute_result"
    }
   ],
   "source": [
    "corr_starwars[corr_starwars['n_aval'] > 150].sort_values('Correlation', ascending=False).head()"
   ]
  },
  {
   "cell_type": "markdown",
   "id": "1b1b3c4e",
   "metadata": {},
   "source": [
    "Agora sim, com pelo menos 150 avaliações por filme, temos um melhor vislumbre de quais filmes são melhores correlacionados com Star Wars. O primeiro, neste caso, é The Empire Strikes back. Em segundo lugar vem Return of the Jedi, que também é um filme da mesma franquia. Em terceiro, vem Raiders of the Lost Ark, que é um filme de aventura e ação, tal qual Star Wars."
   ]
  },
  {
   "cell_type": "code",
   "execution_count": 49,
   "id": "5df133d6",
   "metadata": {},
   "outputs": [
    {
     "data": {
      "text/html": [
       "<div>\n",
       "<style scoped>\n",
       "    .dataframe tbody tr th:only-of-type {\n",
       "        vertical-align: middle;\n",
       "    }\n",
       "\n",
       "    .dataframe tbody tr th {\n",
       "        vertical-align: top;\n",
       "    }\n",
       "\n",
       "    .dataframe thead th {\n",
       "        text-align: right;\n",
       "    }\n",
       "</style>\n",
       "<table border=\"1\" class=\"dataframe\">\n",
       "  <thead>\n",
       "    <tr style=\"text-align: right;\">\n",
       "      <th></th>\n",
       "      <th>title</th>\n",
       "      <th>genero_string</th>\n",
       "    </tr>\n",
       "  </thead>\n",
       "  <tbody>\n",
       "    <tr>\n",
       "      <th>8107</th>\n",
       "      <td>Return of the Jedi (1983)</td>\n",
       "      <td>[Action, Adventure, Romance, Sci-Fi, War]</td>\n",
       "    </tr>\n",
       "    <tr>\n",
       "      <th>16722</th>\n",
       "      <td>Raiders of the Lost Ark (1981)</td>\n",
       "      <td>[Action, Adventure]</td>\n",
       "    </tr>\n",
       "    <tr>\n",
       "      <th>25896</th>\n",
       "      <td>Empire Strikes Back, The (1980)</td>\n",
       "      <td>[Action, Adventure, Drama, Romance, Sci-Fi, War]</td>\n",
       "    </tr>\n",
       "    <tr>\n",
       "      <th>50711</th>\n",
       "      <td>Star Wars (1977)</td>\n",
       "      <td>[Action, Adventure, Romance, Sci-Fi, War]</td>\n",
       "    </tr>\n",
       "  </tbody>\n",
       "</table>\n",
       "</div>"
      ],
      "text/plain": [
       "                                 title  \\\n",
       "8107         Return of the Jedi (1983)   \n",
       "16722   Raiders of the Lost Ark (1981)   \n",
       "25896  Empire Strikes Back, The (1980)   \n",
       "50711                 Star Wars (1977)   \n",
       "\n",
       "                                          genero_string  \n",
       "8107          [Action, Adventure, Romance, Sci-Fi, War]  \n",
       "16722                               [Action, Adventure]  \n",
       "25896  [Action, Adventure, Drama, Romance, Sci-Fi, War]  \n",
       "50711         [Action, Adventure, Romance, Sci-Fi, War]  "
      ]
     },
     "execution_count": 49,
     "metadata": {},
     "output_type": "execute_result"
    }
   ],
   "source": [
    "df[['title', 'genero_string']][(df.title=='Star Wars (1977)') |(df.title == 'Empire Strikes Back, The (1980)') | (df.title == 'Return of the Jedi (1983)') | (df.title == 'Raiders of the Lost Ark (1981)')].drop_duplicates(subset='title')"
   ]
  },
  {
   "cell_type": "markdown",
   "id": "fbac3e51",
   "metadata": {},
   "source": [
    "# Sistema de Recomendação Baseada em Filtros colaborativos"
   ]
  },
  {
   "cell_type": "markdown",
   "id": "352208d5",
   "metadata": {},
   "source": [
    "## Train Test Split\n",
    "\n",
    "Dividindo os dados em duas bases: treino e validação, com 75% e 25% dos dados, respectivamente."
   ]
  },
  {
   "cell_type": "code",
   "execution_count": 50,
   "id": "27ed1db0",
   "metadata": {},
   "outputs": [],
   "source": [
    "from sklearn.model_selection import train_test_split\n",
    "train_data, val_data = train_test_split(df, test_size=0.25)"
   ]
  },
  {
   "cell_type": "markdown",
   "id": "f7a18ad2",
   "metadata": {},
   "source": [
    "## FC baseado em memória\n",
    "\n",
    "Pode ser dividido em dois principais grupos: **filtragem usuário-item (user-item)** e **Filtragem item-item**. \n",
    "\n",
    "**Filtragem usuário-item:** \n",
    " - seleciona um usuário qualquer, encontra outros usuários que são similares àquele usuário baseado nas similaridades das avaliações, e recomenda itens que estes usuários também gostaram.\n",
    "\n",
    "**Filtragem item-item:** \n",
    " - seleciona um item qualquer, encontra usuários que gostaram daquele item e busca itens que estes usuários ou usuários similares também gostaram. Seleciona itens e dá como resposta (recomendações) outros itens.\n",
    "\n",
    "\n",
    "De maneira geral:\n",
    "\n",
    "*Filtragem colaborativa Item-Item*: \"usuários que gostaram deste item também gostaram daquele\"\n",
    "\n",
    "*Filtragem Colaborativa usuário-Item*: \"usuários que são similares à você, também gostaram disto aqui\""
   ]
  },
  {
   "cell_type": "markdown",
   "id": "2cc63ec8",
   "metadata": {},
   "source": [
    "Em ambos os casos, criamos uma matriz usuário vs item com toda a base de dados. Separamos os dados em teste e treino e após, criamos duas matrizes ``[943 x 1682]``, contendo todos os usuários e filmes."
   ]
  },
  {
   "cell_type": "markdown",
   "id": "1d7ac9f5",
   "metadata": {},
   "source": [
    "A métrica de distância comumente utilizada em sistemas de recomendações é a *similaridade dos cossenos*, onde as avaliações são vistas como vetores no espço de dimensões ``n`` e a similaridade é calculada baseando-se no ângulo entre estes vetores. \n",
    "\n",
    "A similaridade entre cossenos para os usuários *a* e *m* pode ser calculada usando a fórmula abaixo, através do produto escalar entre o vetor do usuário *$ u_k$* e o vetor do usuário *$u_a$* dividido pelo produto entre as normas euclidianas dos vetores.\n",
    "\n",
    "<img class=\"aligncenter size-thumbnail img-responsive\" src=\"https://latex.codecogs.com/gif.latex?s_u^{cos}(u_k,u_a)=\\frac{u_k&space;\\cdot&space;u_a&space;}{&space;\\left&space;\\|&space;u_k&space;\\right&space;\\|&space;\\left&space;\\|&space;u_a&space;\\right&space;\\|&space;}&space;=\\frac{\\sum&space;x_{k,m}x_{a,m}}{\\sqrt{\\sum&space;x_{k,m}^2\\sum&space;x_{a,m}^2}}\"/>\n",
    "\n",
    "Para obter a similaridade entre os itens *m* e *b*, faz-se:\n",
    "\n",
    "<img class=\"aligncenter size-thumbnail img-responsive\" src=\"https://latex.codecogs.com/gif.latex?s_u^{cos}(i_m,i_b)=\\frac{i_m&space;\\cdot&space;i_b&space;}{&space;\\left&space;\\|&space;i_m&space;\\right&space;\\|&space;\\left&space;\\|&space;i_b&space;\\right&space;\\|&space;}&space;=\\frac{\\sum&space;x_{a,m}x_{a,b}}{\\sqrt{\\sum&space;x_{a,m}^2\\sum&space;x_{a,b}^2}}\n",
    "\"/>\n",
    "\n",
    "Primeiro passo é criar a matriz usuário-item. Cria-se uma matriz de zeros com o numpy.zeros, com dimensões igual à (n_user, n_items). Cada entrada da matriz (i, j) será igual  ao valor da avaliação. Por exemplo, a primeira instância tem par user_id = 196 e item_id = 242, com rating = 3; ou seja; a entrada (196, 242) terá valor 3."
   ]
  },
  {
   "cell_type": "code",
   "execution_count": 51,
   "id": "4a968e4c",
   "metadata": {
    "scrolled": false
   },
   "outputs": [
    {
     "data": {
      "text/html": [
       "<div>\n",
       "<style scoped>\n",
       "    .dataframe tbody tr th:only-of-type {\n",
       "        vertical-align: middle;\n",
       "    }\n",
       "\n",
       "    .dataframe tbody tr th {\n",
       "        vertical-align: top;\n",
       "    }\n",
       "\n",
       "    .dataframe thead th {\n",
       "        text-align: right;\n",
       "    }\n",
       "</style>\n",
       "<table border=\"1\" class=\"dataframe\">\n",
       "  <thead>\n",
       "    <tr style=\"text-align: right;\">\n",
       "      <th></th>\n",
       "      <th>user_id</th>\n",
       "      <th>item_id</th>\n",
       "      <th>rating</th>\n",
       "      <th>timestamp</th>\n",
       "      <th>genero</th>\n",
       "      <th>title</th>\n",
       "      <th>genero_string</th>\n",
       "    </tr>\n",
       "  </thead>\n",
       "  <tbody>\n",
       "    <tr>\n",
       "      <th>0</th>\n",
       "      <td>196</td>\n",
       "      <td>242</td>\n",
       "      <td>3</td>\n",
       "      <td>881250949</td>\n",
       "      <td>[0, 0, 0, 0, 0, 1, 0, 0, 0, 0, 0, 0, 0, 0, 0, ...</td>\n",
       "      <td>Kolya (1996)</td>\n",
       "      <td>[Comedy]</td>\n",
       "    </tr>\n",
       "  </tbody>\n",
       "</table>\n",
       "</div>"
      ],
      "text/plain": [
       "   user_id  item_id  rating  timestamp  \\\n",
       "0      196      242       3  881250949   \n",
       "\n",
       "                                              genero         title  \\\n",
       "0  [0, 0, 0, 0, 0, 1, 0, 0, 0, 0, 0, 0, 0, 0, 0, ...  Kolya (1996)   \n",
       "\n",
       "  genero_string  \n",
       "0      [Comedy]  "
      ]
     },
     "execution_count": 51,
     "metadata": {},
     "output_type": "execute_result"
    }
   ],
   "source": [
    "#mostrando a primeira instância\n",
    "df.loc[[0]]"
   ]
  },
  {
   "cell_type": "markdown",
   "id": "21236b68",
   "metadata": {},
   "source": [
    "### Criando duas matrizes usuário-item, uma para treinamento e a outra para teste\n"
   ]
  },
  {
   "cell_type": "code",
   "execution_count": 52,
   "id": "08000518",
   "metadata": {},
   "outputs": [],
   "source": [
    "train_data_matrix = np.zeros((n_users, n_items))\n",
    "for line in train_data.itertuples():\n",
    "    train_data_matrix[line[1]-1, line[2]-1] = line[3]  \n",
    "\n",
    "val_data_matrix = np.zeros((n_users, n_items))\n",
    "for line in val_data.itertuples():\n",
    "    val_data_matrix[line[1]-1, line[2]-1] = line[3]"
   ]
  },
  {
   "cell_type": "markdown",
   "id": "c98c9fb9",
   "metadata": {},
   "source": [
    "### Criando matrizes de similaridade para usuários e itens"
   ]
  },
  {
   "cell_type": "code",
   "execution_count": 53,
   "id": "c8752a16",
   "metadata": {},
   "outputs": [],
   "source": [
    "from sklearn.metrics.pairwise import pairwise_distances\n",
    "\n",
    "user_similarity = pairwise_distances(train_data_matrix, metric='cosine')\n",
    "item_similarity = pairwise_distances(train_data_matrix.T, metric='cosine')"
   ]
  },
  {
   "cell_type": "markdown",
   "id": "e6bf4c88",
   "metadata": {},
   "source": [
    "Próximo passo é realizar predições. Já temos as matrizes de similaridades: `user_similarity` e `item_similarity`. Assim, podemos realizar predições aplicando a seguinte fórmula para a filtragem colaborativa baseada em usuário:\n",
    "\n",
    "$$\\large\\hat{x}_{k, m}=\\bar{x}_{k} + \\frac{\\sum\\limits_{u_a}sim_u(u_k,u_a)(x_{a,m} - \\bar{x}_{u_a})}{\\sum\\limits_{u_a}|sim_u(u_k, u_a)|}$$\n",
    "\n",
    "Pode-se olhar para as similaridades entre os usuários *k* e *a* como pesos que são multiplicados pelas avaliações de um usuário similar *a*, corrigido pela avaliação média daquele usuário. É necessário normalizar, de modo que as avaliações permaneçam entre 1 e 5. Finalmente, soma-se as avaliações médias para o usuário que estamos tentando realizar a predição.\n",
    "\n",
    "A ideia é que alguns usuários tendem sempre a avaliarem os filmes muito positivamente ou muito negativamente. Dessa forma, a diferença relativa entre as avaliações desses usuários é mais importante do que o valor absoluto das avaliações. por exemplo: suponha que o usuário *k* dê 4 estrelas para seus filmes favoritos e 3 estrelas para todos os outros filmes bons. Suponha agora que outro usuário *t* avalie filmes que ele/ela goste, com 5 estrelas e filmes que ele/ela não gostou, com 3 estrelas. Ambos usuários poderiam ter gostos similares, mas tratam o sustema de avaliações de forma diferente.\n",
    "\n",
    "Quando se realiza predições com FC baseada em item, não é necessário corrigir pela média de avaliações dos usuários, uma vez que o próprio usuário é usado para fazer as previsões.\n",
    "\n",
    "$$\\large \\hat{x}_{k,m} \\frac{\\sum\\limits_{i_b} sim_i(i_m,i_b)(x_{k,b})}{\\sum\\limits_{i_b}|sim_i(i_m,i_b)|}$$"
   ]
  },
  {
   "cell_type": "code",
   "execution_count": 54,
   "id": "7dffe063",
   "metadata": {},
   "outputs": [],
   "source": [
    "def predict(ratings, similarity, type='user'):\n",
    "    if type == 'user':\n",
    "        mean_user_rating = ratings.mean(axis=1)\n",
    "        #usamos np.expand_dims(mean_user_rating,1) para que mean0user_rating tenha o mesmo shape dos ratings\n",
    "        ratings_diff = (ratings - np.expand_dims(mean_user_rating, axis=1) )\n",
    "        pred = np.expand_dims(mean_user_rating, axis= 1) + similarity.dot(ratings_diff) / np.array([np.abs(similarity).sum(axis=1)]).T\n",
    "    elif type == 'item':\n",
    "        pred = ratings.dot(similarity) / np.array([np.abs(similarity).sum(axis=1)])     \n",
    "    return pred"
   ]
  },
  {
   "cell_type": "code",
   "execution_count": 55,
   "id": "6bf20f20",
   "metadata": {},
   "outputs": [],
   "source": [
    "item_prediction = predict(train_data_matrix, item_similarity, type='item')\n",
    "user_prediction = predict(train_data_matrix, user_similarity, type='user')"
   ]
  },
  {
   "cell_type": "markdown",
   "id": "4ed7687a",
   "metadata": {},
   "source": [
    "## Avaliando os modelos\n",
    "\n",
    "Usaremos o **Erro Quadrático Médio** - *Root Mean Squared Error (RMSE)*. \n",
    "\n",
    "$$RMSE =\\sqrt{\\frac{1}{N} \\sum (x_i -\\hat{x_i})^2}$$"
   ]
  },
  {
   "cell_type": "markdown",
   "id": "61fe7d35",
   "metadata": {},
   "source": [
    "Uma vez que queremos considerar avaliações preditas que estão na base de teste, filtraremos todos os elementos na matriz de predição.\n",
    "\n",
    "o método nonzero() do NumPy retorna as posições do array que não são iguais à zero."
   ]
  },
  {
   "cell_type": "code",
   "execution_count": 56,
   "id": "273dfb3a",
   "metadata": {},
   "outputs": [],
   "source": [
    "def rmse(prediction, ground_truth):\n",
    "    prediction = prediction[ground_truth.nonzero()] \n",
    "    ground_truth = ground_truth[ground_truth.nonzero()]\n",
    "    return np.sqrt(mean_squared_error(prediction, ground_truth))"
   ]
  },
  {
   "cell_type": "markdown",
   "id": "222d752a",
   "metadata": {},
   "source": [
    "O resultado abaixo mostra que FC baseada em usuário retorna menor erro."
   ]
  },
  {
   "cell_type": "code",
   "execution_count": 57,
   "id": "ca76ccbc",
   "metadata": {
    "scrolled": true
   },
   "outputs": [
    {
     "name": "stdout",
     "output_type": "stream",
     "text": [
      "RMSE para FC baseada em usuário: 3.12877173687782\n",
      "RMSE para FC baseada em item: 3.4545380323578265\n"
     ]
    }
   ],
   "source": [
    "print('RMSE para FC baseada em usuário: ' + str(rmse(user_prediction, val_data_matrix)))\n",
    "print('RMSE para FC baseada em item: ' + str(rmse(item_prediction, val_data_matrix)))"
   ]
  },
  {
   "cell_type": "markdown",
   "id": "9a853e21",
   "metadata": {},
   "source": [
    "Algoritmos baseados em memória são fáceis de implementar e produzem uma qualidade de previsão razoável. A desvantagem é que não se adaptam a cenários do mundo real e não abordam o conhecido problema de \"partida a frio\", que é quando um novo usuário ou novo item entra no sistema. Os métodos FC baseados em modelo são escalonáveis e podem lidar com um nível de esparsidade mais alto do que os modelos baseados em memória, mas também sofrem quando novos usuários ou itens que não têm nenhuma classificação entram no sistema."
   ]
  },
  {
   "cell_type": "markdown",
   "id": "1ba5c9c3",
   "metadata": {},
   "source": [
    "# Filtragem colaborativa baseada em modelo\n",
    "\n",
    "FC baseada em modelo é realizada em cima de decomposição matricial. Este método é amplamente utilizado em sistemas de recomendações, pelo seu poder de lidar melhor com escalabilidade e esparcialidade do que FC baseada em memória. A ideia por trás deste método é aprender preferências latentes dos usuários e as características latentes dos itens, a partir de avaliações conhecidas (aprender atributos que descrevem características das avaliações) para em seguida, fazer previsões de avaliações desconhecidas através do produto interno entre atributos latentes dos usuários e itens.\n",
    "\n",
    "Caso estejamos lidando com matrizes muito esparsas, com muitas dimensões, ao realizar a decomposição matricial podemos rearranjar a matriz usuário-item em uma estrutura de menor posto. Desta forma, pode-se representar a matriz através da multiplicação de duas matrizes de menor posto, onde as linhas contêm o vetor latente. Essa matriz deve se aproximar o máximo possível da matriz original. Para isso, multiplicamos as matrizes de menor posto, de modo a preencher as entradas que são faltantes na matriz original."
   ]
  },
  {
   "cell_type": "markdown",
   "id": "5e469a69",
   "metadata": {},
   "source": [
    "Obtendo a esparcialidade do dataset original:"
   ]
  },
  {
   "cell_type": "code",
   "execution_count": 58,
   "id": "b5f6551d",
   "metadata": {
    "scrolled": true
   },
   "outputs": [
    {
     "name": "stdout",
     "output_type": "stream",
     "text": [
      "O nível de esparcialidade do dataset MovieLens é 93.7%\n"
     ]
    }
   ],
   "source": [
    "sparsity = round(1.0 - len(df)/(n_users*n_items), 3)\n",
    "print('O nível de esparcialidade do dataset MovieLens é ' +  str(sparsity*100) + '%')"
   ]
  },
  {
   "cell_type": "markdown",
   "id": "4779917b",
   "metadata": {},
   "source": [
    "Com a imagem abaixo, conseguimos ter uma ideia melhor da quantidade de `Nans` (em roxo), frente às posições com valores numéricos (em amarelo)."
   ]
  },
  {
   "cell_type": "code",
   "execution_count": 59,
   "id": "8a90ec6c",
   "metadata": {},
   "outputs": [
    {
     "data": {
      "image/png": "[encoded data removed]",
      "text/plain": [
       "<Figure size 1080x576 with 1 Axes>"
      ]
     },
     "metadata": {
      "needs_background": "light"
     },
     "output_type": "display_data"
    }
   ],
   "source": [
    "plt.figure(figsize=(15,8))\n",
    "sns.heatmap(movie.notnull(), cmap='viridis', cbar=False)\n",
    "plt.savefig('images/matrix.png', bbox_inches='tight', dpi=200);"
   ]
  },
  {
   "cell_type": "markdown",
   "id": "351e6efd",
   "metadata": {},
   "source": [
    "Sitemas que levam em conta tanto características avaliativas quanto de atributos, são chamados de **Sistemas de recomendação híbridos**, onde a filtragem colaborativa e os modelos baseados em conteúdo são combinados. Estes sistemas de recomendação geralmente mostram maior precisão do que os modelos de filtragem colaborativa ou baseados em conteúdo separadamente, pois são capazes de resolver o problema de \"partida a frio\" melhor, já que se você não tiver nenhuma classificação para um usuário ou item, poderá usar metadados do usuário ou item para realizar uma previsão."
   ]
  },
  {
   "cell_type": "markdown",
   "id": "bc1b3309",
   "metadata": {},
   "source": [
    "## SVD\n",
    "\n",
    "Um método muito conhecido de decomposição de matrizes é a **decomposição em valores singulares** - *Singular value decomposition (SVD)*. É possível fazer uma aproximação da matriz de Filtragem Colaborativa `X`, usando SVD. Um caso de sucesso da utilização de SVD em sistemas de recomendação foi obtido pelo time vencedor da **Netflix Prize competition** [Netflix Prize and SVD](http://buzzard.ups.edu/courses/2014spring/420projects/math420-UPS-spring-2014-gower-netflix-SVD.pdf).\n",
    "\n",
    "Matematicamente, a expressão geral de SVD é dada por:\n",
    "\n",
    " $$X=USV^T$$\n",
    "\n",
    "\n",
    "Seja `X` a matriz com dimensões `m x n`, a matrix *`X`* pode ser fatorada em *`U`*, *`S`* e *`V`*, de modo que :\n",
    "* *`U`* é uma matriz ortogonal *`(m x r)`*\n",
    "* *`S`* é uma matriz diagonal com números reais não-negativos na diagonal *`(r x r)`*\n",
    "* *$V^T$* é uma matriz ortogonal *`(r x n)`*\n",
    "\n",
    "Elementos na diagonal de `S` são conhecidos como *valores singulares de`X`*. \n",
    "\n",
    "\n",
    "A matriz *`U`* representa vetores de características, correspondendo aos usuários no espaço dos atributos ocultos e *`V`* representa a matriz de vetores de características correspondendo aos itens no espaço de atributos oculto.\n",
    "\n",
    "Finalmente, realizamos predições com o produto interno entre *`U`*, *`S`* e *$V^T$*."
   ]
  },
  {
   "cell_type": "code",
   "execution_count": 60,
   "id": "b0cefb26",
   "metadata": {},
   "outputs": [],
   "source": [
    "import scipy.sparse as sp\n",
    "from scipy.sparse.linalg import svds"
   ]
  },
  {
   "cell_type": "markdown",
   "id": "453ccddd",
   "metadata": {},
   "source": [
    "Na escolha do valor de k para o svd truncado, é possível ver que o menor rmse é retornado para k igual a 13. Importante notar que não estamos utilizando um dado de teste. Aqui, apenas fazemos uso de treino e validação. O ideal seria utilizar um dado de teste para verificar a eficácia real do modelo em dados não vistos."
   ]
  },
  {
   "cell_type": "code",
   "execution_count": 61,
   "id": "6c2175a0",
   "metadata": {
    "scrolled": true
   },
   "outputs": [
    {
     "data": {
      "text/plain": [
       "{12: 2.680249673854283,\n",
       " 13: 2.6811848607725475,\n",
       " 10: 2.6823348550779014,\n",
       " 11: 2.682375615769052,\n",
       " 14: 2.686587928032336,\n",
       " 9: 2.6866559056237205,\n",
       " 15: 2.69273385287808,\n",
       " 8: 2.692926213667619,\n",
       " 16: 2.698577509568001,\n",
       " 17: 2.7056490538815976,\n",
       " 7: 2.7082435927112765,\n",
       " 18: 2.7113285361236437,\n",
       " 19: 2.720248976627009,\n",
       " 6: 2.7228242259202955,\n",
       " 20: 2.7261203629542097,\n",
       " 21: 2.7350130356036124,\n",
       " 22: 2.7421115964611085,\n",
       " 5: 2.749818563109252,\n",
       " 23: 2.7518283663888132,\n",
       " 24: 2.7578233141805195,\n",
       " 25: 2.768222035806569,\n",
       " 26: 2.7753608434104815,\n",
       " 27: 2.7843739310463054,\n",
       " 28: 2.7926412346866805,\n",
       " 29: 2.8000862804022413}"
      ]
     },
     "execution_count": 61,
     "metadata": {},
     "output_type": "execute_result"
    }
   ],
   "source": [
    "dic_rmse = {}\n",
    "\n",
    "K = range(5, 30)\n",
    "for k in K:\n",
    "    u, s, vt = svds(train_data_matrix, k = k)\n",
    "    s_diag_matrix=np.diag(s)\n",
    "    X_pred = np.dot(np.dot(u, s_diag_matrix), vt)\n",
    "    dic_rmse[k] = rmse(X_pred, val_data_matrix)\n",
    "    \n",
    "sorted_dic = dict(sorted(dic_rmse.items(), key=lambda x:x[1]))\n",
    "sorted_dic"
   ]
  },
  {
   "cell_type": "code",
   "execution_count": 62,
   "id": "288b962e",
   "metadata": {},
   "outputs": [
    {
     "data": {
      "image/png": "[encoded data removed]",
      "text/plain": [
       "<Figure size 576x360 with 1 Axes>"
      ]
     },
     "metadata": {
      "needs_background": "light"
     },
     "output_type": "display_data"
    }
   ],
   "source": [
    "plt.figure(figsize=(8, 5))\n",
    "plt.plot(list(dic_rmse.keys()), list(dic_rmse.values()), 'bx-')\n",
    "plt.xlabel('K', fontsize=14)\n",
    "plt.ylabel('RMSE', fontsize=14);"
   ]
  },
  {
   "cell_type": "markdown",
   "id": "96aa4955",
   "metadata": {},
   "source": [
    "Graficamente, conseguimos um valor baixo já para k = 10. Portanto, vamos utilizar esse valor."
   ]
  },
  {
   "cell_type": "code",
   "execution_count": 63,
   "id": "5c4dc656",
   "metadata": {
    "scrolled": false
   },
   "outputs": [
    {
     "name": "stdout",
     "output_type": "stream",
     "text": [
      "RMSE para FC baseada em usuário: 2.6823348550779014\n"
     ]
    }
   ],
   "source": [
    "#obtendo os componentes SVD da matriz de treino com valor ótimo de k.\n",
    "u, s, vt = svds(train_data_matrix, k = 10)\n",
    "s_diag_matrix=np.diag(s)\n",
    "X_pred = np.dot(np.dot(u, s_diag_matrix), vt)\n",
    "print('RMSE para FC baseada em usuário: ' + str(rmse(X_pred, val_data_matrix)))"
   ]
  },
  {
   "cell_type": "markdown",
   "id": "d2d51226",
   "metadata": {},
   "source": [
    "Conseguimos reduzir consideravelmente o RMSE, fazendo uso de SVD!!!"
   ]
  },
  {
   "cell_type": "markdown",
   "id": "06b718d3",
   "metadata": {},
   "source": [
    "### Quais filmes poderíamos indicar para o usuário de ID 20?"
   ]
  },
  {
   "cell_type": "code",
   "execution_count": 64,
   "id": "8918d939",
   "metadata": {},
   "outputs": [],
   "source": [
    "from sklearn.preprocessing import MinMaxScaler"
   ]
  },
  {
   "cell_type": "markdown",
   "id": "b80bae44",
   "metadata": {},
   "source": [
    "### Colocando X_pred na escala entre 1 e 5, para ficar na mesma escala dos dados reais"
   ]
  },
  {
   "cell_type": "code",
   "execution_count": 65,
   "id": "44e16851",
   "metadata": {},
   "outputs": [],
   "source": [
    "scaler = MinMaxScaler(feature_range=(1, 5))\n",
    "X_pred_transformed = scaler.fit_transform(X_pred)"
   ]
  },
  {
   "cell_type": "markdown",
   "id": "fb04cb08",
   "metadata": {},
   "source": [
    "### Avaliações de todos os itens preditos para o usuário 20"
   ]
  },
  {
   "cell_type": "code",
   "execution_count": 66,
   "id": "4ab3416f",
   "metadata": {
    "scrolled": false
   },
   "outputs": [
    {
     "data": {
      "text/plain": [
       "array([2.7151604 , 1.00913067, 2.57543722, ..., 2.56567523, 1.87521769,\n",
       "       2.21440888])"
      ]
     },
     "execution_count": 66,
     "metadata": {},
     "output_type": "execute_result"
    }
   ],
   "source": [
    "X_pred_transformed[20,:]"
   ]
  },
  {
   "cell_type": "markdown",
   "id": "15f75510",
   "metadata": {},
   "source": [
    "Análise dos dados de treino para o usuário 20, de filmes avaliados com 4 ou 5 estrelas\n",
    "\n",
    "Vamos agrupar os filmes por gênero e verificar quantos filmes fazem parte de cada gênero"
   ]
  },
  {
   "cell_type": "code",
   "execution_count": 67,
   "id": "29233e22",
   "metadata": {},
   "outputs": [
    {
     "data": {
      "text/plain": [
       "{'Drama': 8,\n",
       " 'Action': 9,\n",
       " 'War': 2,\n",
       " 'Adventure': 6,\n",
       " 'Thriller': 6,\n",
       " 'Romance': 3,\n",
       " 'Sci-Fi': 2,\n",
       " \"Children's\": 2,\n",
       " 'Comedy': 2,\n",
       " 'Animation': 1,\n",
       " 'Musical': 1}"
      ]
     },
     "execution_count": 67,
     "metadata": {},
     "output_type": "execute_result"
    }
   ],
   "source": [
    "nested = [a[i] for a in train_data[(train_data.user_id == 20) & (train_data.rating > 3)].sort_values('item_id').genero_string.values for i in range(len(a))]\n",
    "count_genero = {j:nested.count(j) for j in nested}\n",
    "count_genero"
   ]
  },
  {
   "cell_type": "markdown",
   "id": "bb763ae4",
   "metadata": {},
   "source": [
    "**Preferências:**\n",
    " - Ação\n",
    " - Drama, Aventura e suspense"
   ]
  },
  {
   "cell_type": "markdown",
   "id": "ff77267b",
   "metadata": {},
   "source": [
    "### Posiçao matricial dos itens preditos com avaliação superior a 3.5, para o usuário 20."
   ]
  },
  {
   "cell_type": "code",
   "execution_count": 68,
   "id": "5031e04b",
   "metadata": {},
   "outputs": [
    {
     "data": {
      "text/plain": [
       "array([  73,  257,  259,  287,  294,  322,  323,  333,  342,  369,  405,\n",
       "        457,  550,  594,  677,  705,  759,  772,  816,  853,  858,  859,\n",
       "        871,  980,  984,  990, 1079, 1080, 1083, 1093, 1155, 1198, 1211,\n",
       "       1276, 1277, 1316, 1319, 1320, 1324, 1325, 1327, 1328, 1339, 1340,\n",
       "       1342, 1346, 1347, 1348, 1349, 1351, 1353, 1354, 1357, 1361, 1363,\n",
       "       1364, 1366, 1373, 1382, 1389, 1413, 1417, 1441, 1525, 1533, 1603,\n",
       "       1607, 1672])"
      ]
     },
     "execution_count": 68,
     "metadata": {},
     "output_type": "execute_result"
    }
   ],
   "source": [
    "np.where(X_pred_transformed[20,:] > 3.5)[0]"
   ]
  },
  {
   "cell_type": "code",
   "execution_count": 69,
   "id": "7d054c2c",
   "metadata": {
    "scrolled": false
   },
   "outputs": [
    {
     "name": "stdout",
     "output_type": "stream",
     "text": [
      "Men in Black (1997) \t ['Action', 'Adventure', 'Comedy', 'Sci-Fi'] \n",
      "\n",
      "Murder at 1600 (1997) \t ['Mystery', 'Thriller'] \n",
      "\n",
      "Liar Liar (1997) \t ['Comedy'] \n",
      "\n",
      "Blue Sky (1994) \t ['Drama', 'Romance'] \n",
      "\n",
      "Mission: Impossible (1996) \t ['Action', 'Adventure', 'Mystery'] \n",
      "\n",
      "Dante's Peak (1997) \t ['Action', 'Thriller'] \n",
      "\n",
      "Joe's Apartment (1996) \t ['Comedy', 'Musical'] \n",
      "\n",
      "Singin' in the Rain (1952) \t ['Musical', 'Romance'] \n",
      "\n",
      "Shadow Conspiracy (1997) \t ['Thriller'] \n",
      "\n",
      "Game, The (1997) \t ['Mystery', 'Thriller'] \n",
      "\n",
      "George of the Jungle (1997) \t [\"Children's\", 'Comedy'] \n",
      "\n",
      "Die Hard: With a Vengeance (1995) \t ['Action', 'Thriller'] \n",
      "\n",
      "Purple Noon (1960) \t ['Crime', 'Thriller'] \n",
      "\n",
      "Marvin's Room (1996) \t ['Drama'] \n",
      "\n",
      "Amityville: Dollhouse (1996) \t ['Horror'] \n",
      "\n",
      "Maverick (1994) \t ['Action', 'Comedy', 'Western'] \n",
      "\n",
      "Captives (1994) \t ['Drama'] \n",
      "\n",
      "Dingo (1992) \t ['Drama'] \n",
      "\n",
      "Kids (1995) \t ['Drama'] \n",
      "\n",
      "Horse Whisperer, The (1998) \t ['Drama'] \n",
      "\n",
      "Convent, The (Convento, O) (1995) \t ['Drama'] \n",
      "\n",
      "Mother Night (1996) \t ['Drama'] \n",
      "\n",
      "Free Willy 3: The Rescue (1997) \t ['Adventure', \"Children's\", 'Drama'] \n",
      "\n",
      "Braindead (1992) \t ['Comedy', 'Horror'] \n",
      "\n",
      "Anna Karenina (1997) \t ['Drama', 'Romance'] \n",
      "\n",
      "Every Other Weekend (1990) \t ['Drama'] \n",
      "\n",
      "Black Sheep (1996) \t ['Comedy'] \n",
      "\n",
      "Homage (1995) \t ['Drama'] \n",
      "\n",
      "Loaded (1994) \t ['Drama', 'Thriller'] \n",
      "\n",
      "Candyman: Farewell to the Flesh (1995) \t ['Horror'] \n",
      "\n",
      "April Fool's Day (1986) \t ['Comedy', 'Horror'] \n",
      "\n",
      "Live Nude Girls (1995) \t ['Comedy'] \n",
      "\n",
      "Bird of Prey (1996) \t ['Action'] \n",
      "\n",
      "Of Love and Shadows (1994) \t ['Drama'] \n",
      "\n",
      "Lover's Knot (1996) \t ['Comedy'] \n",
      "\n",
      "Street Fighter (1994) \t ['Action'] \n",
      "\n",
      "Ballad of Narayama, The (Narayama Bushiko) (1958) \t ['Drama'] \n",
      "\n",
      "Vegas Vacation (1997) \t ['Comedy'] \n",
      "\n",
      "Set It Off (1996) \t ['Action', 'Crime'] \n",
      "\n",
      "Man Who Knew Too Little, The (1997) \t ['Comedy', 'Mystery'] \n",
      "\n",
      "Sunset Park (1996) \t ['Drama'] \n",
      "\n",
      "Fair Game (1995) \t ['Action'] \n",
      "\n",
      "Albino Alligator (1996) \t ['Crime', 'Thriller'] \n",
      "\n",
      "Good Morning (1971) \t ['unknown'] \n",
      "\n",
      "Heavy (1995) \t ['Drama', 'Romance'] \n",
      "\n",
      "Search for One-eye Jimmy, The (1996) \t ['Comedy'] \n",
      "\n",
      "1-900 (1994) \t ['Romance'] \n",
      "\n",
      "Turning, The (1992) \t ['Drama'] \n",
      "\n",
      "For the Moment (1994) \t ['Romance', 'War'] \n",
      "\n",
      "Venice/Venice (1992) \t ['Drama'] \n",
      "\n",
      "I Don't Want to Talk About It (De eso no se habla) (1993) \t ['Drama'] \n",
      "\n",
      "Moonlight and Valentino (1995) \t ['Drama', 'Romance'] \n",
      "\n",
      "Leopard Son, The (1996) \t ['Documentary'] \n",
      "\n",
      "Stefano Quantestorie (1993) \t ['Comedy', 'Drama'] \n",
      "\n",
      "Celestial Clockwork (1994) \t ['Comedy'] \n",
      "\n",
      "Mille bolle blu (1993) \t ['Comedy'] \n",
      "\n",
      "Mondo (1996) \t ['Drama'] \n",
      "\n",
      "Fire on the Mountain (1996) \t ['Documentary'] \n",
      "\n",
      "Angela (1995) \t ['Drama'] \n",
      "\n",
      "Object of My Affection, The (1998) \t ['Comedy', 'Romance'] \n",
      "\n",
      "Crude Oasis, The (1995) \t ['Romance'] \n",
      "\n",
      "Neon Bible, The (1995) \t ['Drama'] \n",
      "\n",
      "Rendezvous in Paris (Rendez-vous de Paris, Les) (1995) \t ['Comedy', 'Romance'] \n",
      "\n",
      "Hurricane Streets (1998) \t ['Drama'] \n",
      "\n",
      "Kika (1993) \t ['Drama'] \n",
      "\n",
      "Bonheur, Le (1965) \t ['Drama'] \n",
      "\n",
      "JLG/JLG - autoportrait de décembre (1994) \t ['Documentary', 'Drama'] \n",
      "\n",
      "August (1996) \t ['Drama'] \n",
      "\n"
     ]
    }
   ],
   "source": [
    "df_unique = df[df.item_id.isin(np.where(X_pred_transformed[20,:] > 3.5)[0])].drop_duplicates(subset='item_id')\n",
    "\n",
    "for i, row in df_unique.iterrows():\n",
    "    print(row['title'],'\\t', row['genero_string'], '\\n')"
   ]
  },
  {
   "cell_type": "code",
   "execution_count": 70,
   "id": "6b663bd6",
   "metadata": {
    "scrolled": true
   },
   "outputs": [
    {
     "data": {
      "text/plain": [
       "{'Action': 9,\n",
       " 'Comedy': 18,\n",
       " 'Western': 1,\n",
       " 'Adventure': 3,\n",
       " 'Sci-Fi': 1,\n",
       " \"Children's\": 2,\n",
       " 'Drama': 30,\n",
       " 'Mystery': 4,\n",
       " 'Thriller': 8,\n",
       " 'Romance': 10,\n",
       " 'Documentary': 3,\n",
       " 'Musical': 2,\n",
       " 'Horror': 4,\n",
       " 'Crime': 3,\n",
       " 'War': 1,\n",
       " 'unknown': 1}"
      ]
     },
     "execution_count": 70,
     "metadata": {},
     "output_type": "execute_result"
    }
   ],
   "source": [
    "nested = [a[i] for a in df_unique.sort_values('item_id').genero_string.values for i in range(len(a))]\n",
    "count_genero = {j:nested.count(j) for j in nested}\n",
    "count_genero"
   ]
  },
  {
   "cell_type": "markdown",
   "id": "fccd60ef",
   "metadata": {},
   "source": [
    "### Recomendando de filmes para o usuário de ID 20, considerando avaliações superiores a 4, baseado no valor predito, usando o dataframe original"
   ]
  },
  {
   "cell_type": "code",
   "execution_count": 71,
   "id": "901f6e40",
   "metadata": {
    "scrolled": false
   },
   "outputs": [
    {
     "name": "stderr",
     "output_type": "stream",
     "text": [
      "<ipython-input-71-67fff38465c9>:1: UserWarning: Boolean Series key will be reindexed to match DataFrame index.\n",
      "  train_data[df.item_id.isin(np.where(X_pred_transformed[20,:] > 3.5)[0])].drop_duplicates(subset='item_id').sort_values('rating', ascending=False)\n"
     ]
    },
    {
     "data": {
      "text/html": [
       "<div>\n",
       "<style scoped>\n",
       "    .dataframe tbody tr th:only-of-type {\n",
       "        vertical-align: middle;\n",
       "    }\n",
       "\n",
       "    .dataframe tbody tr th {\n",
       "        vertical-align: top;\n",
       "    }\n",
       "\n",
       "    .dataframe thead th {\n",
       "        text-align: right;\n",
       "    }\n",
       "</style>\n",
       "<table border=\"1\" class=\"dataframe\">\n",
       "  <thead>\n",
       "    <tr style=\"text-align: right;\">\n",
       "      <th></th>\n",
       "      <th>user_id</th>\n",
       "      <th>item_id</th>\n",
       "      <th>rating</th>\n",
       "      <th>timestamp</th>\n",
       "      <th>genero</th>\n",
       "      <th>title</th>\n",
       "      <th>genero_string</th>\n",
       "    </tr>\n",
       "  </thead>\n",
       "  <tbody>\n",
       "    <tr>\n",
       "      <th>94889</th>\n",
       "      <td>887</td>\n",
       "      <td>871</td>\n",
       "      <td>5</td>\n",
       "      <td>881378325</td>\n",
       "      <td>[0, 0, 0, 0, 0, 1, 0, 0, 0, 0, 0, 0, 0, 0, 0, ...</td>\n",
       "      <td>Vegas Vacation (1997)</td>\n",
       "      <td>[Comedy]</td>\n",
       "    </tr>\n",
       "    <tr>\n",
       "      <th>98546</th>\n",
       "      <td>242</td>\n",
       "      <td>1357</td>\n",
       "      <td>5</td>\n",
       "      <td>879741196</td>\n",
       "      <td>[0, 0, 0, 0, 0, 0, 0, 0, 0, 0, 0, 0, 0, 0, 1, ...</td>\n",
       "      <td>For the Moment (1994)</td>\n",
       "      <td>[Romance, War]</td>\n",
       "    </tr>\n",
       "    <tr>\n",
       "      <th>1640</th>\n",
       "      <td>758</td>\n",
       "      <td>257</td>\n",
       "      <td>5</td>\n",
       "      <td>880672700</td>\n",
       "      <td>[0, 1, 1, 0, 0, 1, 0, 0, 0, 0, 0, 0, 0, 0, 0, ...</td>\n",
       "      <td>Men in Black (1997)</td>\n",
       "      <td>[Action, Adventure, Comedy, Sci-Fi]</td>\n",
       "    </tr>\n",
       "    <tr>\n",
       "      <th>39822</th>\n",
       "      <td>825</td>\n",
       "      <td>984</td>\n",
       "      <td>5</td>\n",
       "      <td>884642187</td>\n",
       "      <td>[0, 0, 0, 0, 0, 0, 0, 0, 0, 0, 0, 0, 0, 0, 0, ...</td>\n",
       "      <td>Shadow Conspiracy (1997)</td>\n",
       "      <td>[Thriller]</td>\n",
       "    </tr>\n",
       "    <tr>\n",
       "      <th>93656</th>\n",
       "      <td>279</td>\n",
       "      <td>1413</td>\n",
       "      <td>5</td>\n",
       "      <td>875314434</td>\n",
       "      <td>[0, 1, 0, 0, 0, 0, 0, 0, 0, 0, 0, 0, 0, 0, 0, ...</td>\n",
       "      <td>Street Fighter (1994)</td>\n",
       "      <td>[Action]</td>\n",
       "    </tr>\n",
       "    <tr>\n",
       "      <th>...</th>\n",
       "      <td>...</td>\n",
       "      <td>...</td>\n",
       "      <td>...</td>\n",
       "      <td>...</td>\n",
       "      <td>...</td>\n",
       "      <td>...</td>\n",
       "      <td>...</td>\n",
       "    </tr>\n",
       "    <tr>\n",
       "      <th>98624</th>\n",
       "      <td>199</td>\n",
       "      <td>1354</td>\n",
       "      <td>1</td>\n",
       "      <td>883782952</td>\n",
       "      <td>[0, 0, 0, 0, 0, 0, 0, 0, 1, 0, 0, 0, 0, 0, 0, ...</td>\n",
       "      <td>Venice/Venice (1992)</td>\n",
       "      <td>[Drama]</td>\n",
       "    </tr>\n",
       "    <tr>\n",
       "      <th>92817</th>\n",
       "      <td>181</td>\n",
       "      <td>1328</td>\n",
       "      <td>1</td>\n",
       "      <td>878962240</td>\n",
       "      <td>[0, 0, 0, 0, 0, 0, 0, 0, 1, 0, 0, 0, 0, 0, 0, ...</td>\n",
       "      <td>Of Love and Shadows (1994)</td>\n",
       "      <td>[Drama]</td>\n",
       "    </tr>\n",
       "    <tr>\n",
       "      <th>99935</th>\n",
       "      <td>405</td>\n",
       "      <td>1382</td>\n",
       "      <td>1</td>\n",
       "      <td>885549790</td>\n",
       "      <td>[0, 0, 0, 0, 0, 0, 0, 0, 1, 0, 0, 0, 0, 0, 0, ...</td>\n",
       "      <td>Bonheur, Le (1965)</td>\n",
       "      <td>[Drama]</td>\n",
       "    </tr>\n",
       "    <tr>\n",
       "      <th>93470</th>\n",
       "      <td>181</td>\n",
       "      <td>1351</td>\n",
       "      <td>1</td>\n",
       "      <td>878962168</td>\n",
       "      <td>[0, 0, 0, 0, 0, 1, 0, 0, 0, 0, 0, 0, 0, 0, 0, ...</td>\n",
       "      <td>Lover's Knot (1996)</td>\n",
       "      <td>[Comedy]</td>\n",
       "    </tr>\n",
       "    <tr>\n",
       "      <th>68961</th>\n",
       "      <td>405</td>\n",
       "      <td>858</td>\n",
       "      <td>1</td>\n",
       "      <td>885548435</td>\n",
       "      <td>[0, 0, 0, 0, 0, 0, 0, 0, 0, 0, 0, 1, 0, 0, 0, ...</td>\n",
       "      <td>Amityville: Dollhouse (1996)</td>\n",
       "      <td>[Horror]</td>\n",
       "    </tr>\n",
       "  </tbody>\n",
       "</table>\n",
       "<p>64 rows × 7 columns</p>\n",
       "</div>"
      ],
      "text/plain": [
       "       user_id  item_id  rating  timestamp  \\\n",
       "94889      887      871       5  881378325   \n",
       "98546      242     1357       5  879741196   \n",
       "1640       758      257       5  880672700   \n",
       "39822      825      984       5  884642187   \n",
       "93656      279     1413       5  875314434   \n",
       "...        ...      ...     ...        ...   \n",
       "98624      199     1354       1  883782952   \n",
       "92817      181     1328       1  878962240   \n",
       "99935      405     1382       1  885549790   \n",
       "93470      181     1351       1  878962168   \n",
       "68961      405      858       1  885548435   \n",
       "\n",
       "                                                  genero  \\\n",
       "94889  [0, 0, 0, 0, 0, 1, 0, 0, 0, 0, 0, 0, 0, 0, 0, ...   \n",
       "98546  [0, 0, 0, 0, 0, 0, 0, 0, 0, 0, 0, 0, 0, 0, 1, ...   \n",
       "1640   [0, 1, 1, 0, 0, 1, 0, 0, 0, 0, 0, 0, 0, 0, 0, ...   \n",
       "39822  [0, 0, 0, 0, 0, 0, 0, 0, 0, 0, 0, 0, 0, 0, 0, ...   \n",
       "93656  [0, 1, 0, 0, 0, 0, 0, 0, 0, 0, 0, 0, 0, 0, 0, ...   \n",
       "...                                                  ...   \n",
       "98624  [0, 0, 0, 0, 0, 0, 0, 0, 1, 0, 0, 0, 0, 0, 0, ...   \n",
       "92817  [0, 0, 0, 0, 0, 0, 0, 0, 1, 0, 0, 0, 0, 0, 0, ...   \n",
       "99935  [0, 0, 0, 0, 0, 0, 0, 0, 1, 0, 0, 0, 0, 0, 0, ...   \n",
       "93470  [0, 0, 0, 0, 0, 1, 0, 0, 0, 0, 0, 0, 0, 0, 0, ...   \n",
       "68961  [0, 0, 0, 0, 0, 0, 0, 0, 0, 0, 0, 1, 0, 0, 0, ...   \n",
       "\n",
       "                              title                        genero_string  \n",
       "94889         Vegas Vacation (1997)                             [Comedy]  \n",
       "98546         For the Moment (1994)                       [Romance, War]  \n",
       "1640            Men in Black (1997)  [Action, Adventure, Comedy, Sci-Fi]  \n",
       "39822      Shadow Conspiracy (1997)                           [Thriller]  \n",
       "93656         Street Fighter (1994)                             [Action]  \n",
       "...                             ...                                  ...  \n",
       "98624          Venice/Venice (1992)                              [Drama]  \n",
       "92817    Of Love and Shadows (1994)                              [Drama]  \n",
       "99935            Bonheur, Le (1965)                              [Drama]  \n",
       "93470           Lover's Knot (1996)                             [Comedy]  \n",
       "68961  Amityville: Dollhouse (1996)                             [Horror]  \n",
       "\n",
       "[64 rows x 7 columns]"
      ]
     },
     "execution_count": 71,
     "metadata": {},
     "output_type": "execute_result"
    }
   ],
   "source": [
    "train_data[df.item_id.isin(np.where(X_pred_transformed[20,:] > 3.5)[0])].drop_duplicates(subset='item_id').sort_values('rating', ascending=False)\n"
   ]
  },
  {
   "cell_type": "markdown",
   "id": "9580bef9",
   "metadata": {},
   "source": [
    "### Conclusões\n",
    "\n",
    "Inicialmente, mostramos um sistema de recomendações bastante simplório, baseado em similaridades. A segunda tentativa foi filtragem colaborativa baseada em memória. Por fim, fizemos uso de Filtragem Colaborativa baseada em modelo, fazendo uso de Decomposição em Valores Singulares (SVD), que deu o melhor resultado. Mostramos ao fim, o uso deste modelo para recomendar filmes ao usuário de ID 20 e vimos que as indicações seguiram na direção da preferência do usuário, pois caem na categoria de drama, ação e suspense. Estranhamente, aparecem várias recomendações do gênero comédia.\n",
    "\n",
    "Por fim, esse é apenas um estudo inicial. Ainda há outras técnicas avançadas, como por exemplo o uso de **wide and deep**. Além disso, pode-se utilizar outras variáveis como sexo e idade, que fazem parte dos metadados desta base de dados, mas que aqui não foram empregados."
   ]
  },
  {
   "cell_type": "code",
   "execution_count": null,
   "id": "e4f8c9fd",
   "metadata": {},
   "outputs": [],
   "source": []
  }
 ],
 "metadata": {
  "kernelspec": {
   "display_name": "t22",
   "language": "python",
   "name": "t22"
  },
  "language_info": {
   "codemirror_mode": {
    "name": "ipython",
    "version": 3
   },
   "file_extension": ".py",
   "mimetype": "text/x-python",
   "name": "python",
   "nbconvert_exporter": "python",
   "pygments_lexer": "ipython3",
   "version": "3.8.5"
  }
 },
 "nbformat": 4,
 "nbformat_minor": 5
}
