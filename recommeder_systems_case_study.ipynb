{
 "cells": [
  {
   "cell_type": "markdown",
   "id": "6373a3e8",
   "metadata": {},
   "source": [
    "**Autor:** Carlos Alberto C. da Purificação\n",
    "\n",
    "**E-mail:** geofisico2007@gmail.com\n",
    "\n",
    "**Data:** 13/08/2021"
   ]
  },
  {
   "cell_type": "markdown",
   "id": "d47a660c",
   "metadata": {},
   "source": [
    "Inicialmente, vamos implementar um sistema de recomendações básico e pouco robusto, baseado em similaridade entre os filmes."
   ]
  },
  {
   "cell_type": "code",
   "execution_count": 1,
   "id": "5e923098",
   "metadata": {},
   "outputs": [],
   "source": [
    "#Importação de bibliotecas necessárias\n",
    "import numpy as np\n",
    "import pandas as pd\n",
    "import scipy\n",
    "import matplotlib.pyplot as plt\n",
    "import seaborn as sns\n",
    "from sklearn.metrics import mean_squared_error\n",
    "\n",
    "sns.set_style('white')\n",
    "%matplotlib inline"
   ]
  },
  {
   "cell_type": "code",
   "execution_count": 2,
   "id": "a2390c75",
   "metadata": {},
   "outputs": [],
   "source": [
    "cols = ['user_id', 'item_id', 'rating', 'timestamp']"
   ]
  },
  {
   "cell_type": "code",
   "execution_count": 3,
   "id": "905e744e",
   "metadata": {
    "scrolled": true
   },
   "outputs": [
    {
     "data": {
      "text/html": [
       "<div>\n",
       "<style scoped>\n",
       "    .dataframe tbody tr th:only-of-type {\n",
       "        vertical-align: middle;\n",
       "    }\n",
       "\n",
       "    .dataframe tbody tr th {\n",
       "        vertical-align: top;\n",
       "    }\n",
       "\n",
       "    .dataframe thead th {\n",
       "        text-align: right;\n",
       "    }\n",
       "</style>\n",
       "<table border=\"1\" class=\"dataframe\">\n",
       "  <thead>\n",
       "    <tr style=\"text-align: right;\">\n",
       "      <th></th>\n",
       "      <th>user_id</th>\n",
       "      <th>item_id</th>\n",
       "      <th>rating</th>\n",
       "      <th>timestamp</th>\n",
       "    </tr>\n",
       "  </thead>\n",
       "  <tbody>\n",
       "    <tr>\n",
       "      <th>0</th>\n",
       "      <td>196</td>\n",
       "      <td>242</td>\n",
       "      <td>3</td>\n",
       "      <td>881250949</td>\n",
       "    </tr>\n",
       "    <tr>\n",
       "      <th>1</th>\n",
       "      <td>186</td>\n",
       "      <td>302</td>\n",
       "      <td>3</td>\n",
       "      <td>891717742</td>\n",
       "    </tr>\n",
       "    <tr>\n",
       "      <th>2</th>\n",
       "      <td>22</td>\n",
       "      <td>377</td>\n",
       "      <td>1</td>\n",
       "      <td>878887116</td>\n",
       "    </tr>\n",
       "    <tr>\n",
       "      <th>3</th>\n",
       "      <td>244</td>\n",
       "      <td>51</td>\n",
       "      <td>2</td>\n",
       "      <td>880606923</td>\n",
       "    </tr>\n",
       "    <tr>\n",
       "      <th>4</th>\n",
       "      <td>166</td>\n",
       "      <td>346</td>\n",
       "      <td>1</td>\n",
       "      <td>886397596</td>\n",
       "    </tr>\n",
       "  </tbody>\n",
       "</table>\n",
       "</div>"
      ],
      "text/plain": [
       "   user_id  item_id  rating  timestamp\n",
       "0      196      242       3  881250949\n",
       "1      186      302       3  891717742\n",
       "2       22      377       1  878887116\n",
       "3      244       51       2  880606923\n",
       "4      166      346       1  886397596"
      ]
     },
     "execution_count": 3,
     "metadata": {},
     "output_type": "execute_result"
    }
   ],
   "source": [
    "df = pd.read_csv('dataset/u.data', sep='\\t', names = cols)\n",
    "df.head()"
   ]
  },
  {
   "cell_type": "markdown",
   "id": "e6c1cfed",
   "metadata": {},
   "source": [
    "Quantidade de usuários e filmes únicos:"
   ]
  },
  {
   "cell_type": "code",
   "execution_count": 4,
   "id": "f552abd8",
   "metadata": {},
   "outputs": [
    {
     "name": "stdout",
     "output_type": "stream",
     "text": [
      "Quantidade de usuários: 943\n",
      "Quantidade de filmes: 1682\n"
     ]
    }
   ],
   "source": [
    "n_users = df.user_id.nunique()\n",
    "n_items = df.item_id.nunique()\n",
    "\n",
    "print('Quantidade de usuários: ' + str(n_users))\n",
    "print('Quantidade de filmes: ' + str(n_items))"
   ]
  },
  {
   "cell_type": "markdown",
   "id": "49fdc023",
   "metadata": {},
   "source": [
    "Carregando csv com informações dos títulos e IDs dos filmes. Usaremos o ID para parear ambos os DataFrames, pois ele é uma chave estrangeira que linka uma base à outra."
   ]
  },
  {
   "cell_type": "code",
   "execution_count": 5,
   "id": "a9429237",
   "metadata": {
    "scrolled": true
   },
   "outputs": [
    {
     "data": {
      "text/html": [
       "<div>\n",
       "<style scoped>\n",
       "    .dataframe tbody tr th:only-of-type {\n",
       "        vertical-align: middle;\n",
       "    }\n",
       "\n",
       "    .dataframe tbody tr th {\n",
       "        vertical-align: top;\n",
       "    }\n",
       "\n",
       "    .dataframe thead th {\n",
       "        text-align: right;\n",
       "    }\n",
       "</style>\n",
       "<table border=\"1\" class=\"dataframe\">\n",
       "  <thead>\n",
       "    <tr style=\"text-align: right;\">\n",
       "      <th></th>\n",
       "      <th>item</th>\n",
       "    </tr>\n",
       "  </thead>\n",
       "  <tbody>\n",
       "    <tr>\n",
       "      <th>0</th>\n",
       "      <td>1|Toy Story (1995)|01-Jan-1995||http://us.imdb...</td>\n",
       "    </tr>\n",
       "    <tr>\n",
       "      <th>1</th>\n",
       "      <td>2|GoldenEye (1995)|01-Jan-1995||http://us.imdb...</td>\n",
       "    </tr>\n",
       "    <tr>\n",
       "      <th>2</th>\n",
       "      <td>3|Four Rooms (1995)|01-Jan-1995||http://us.imd...</td>\n",
       "    </tr>\n",
       "    <tr>\n",
       "      <th>3</th>\n",
       "      <td>4|Get Shorty (1995)|01-Jan-1995||http://us.imd...</td>\n",
       "    </tr>\n",
       "    <tr>\n",
       "      <th>4</th>\n",
       "      <td>5|Copycat (1995)|01-Jan-1995||http://us.imdb.c...</td>\n",
       "    </tr>\n",
       "  </tbody>\n",
       "</table>\n",
       "</div>"
      ],
      "text/plain": [
       "                                                item\n",
       "0  1|Toy Story (1995)|01-Jan-1995||http://us.imdb...\n",
       "1  2|GoldenEye (1995)|01-Jan-1995||http://us.imdb...\n",
       "2  3|Four Rooms (1995)|01-Jan-1995||http://us.imd...\n",
       "3  4|Get Shorty (1995)|01-Jan-1995||http://us.imd...\n",
       "4  5|Copycat (1995)|01-Jan-1995||http://us.imdb.c..."
      ]
     },
     "execution_count": 5,
     "metadata": {},
     "output_type": "execute_result"
    }
   ],
   "source": [
    "movie_title = pd.read_table('dataset/u.item', encoding = \"ISO-8859-1\", names = ['item'])\n",
    "movie_title.head()"
   ]
  },
  {
   "cell_type": "markdown",
   "id": "b4ddeaaa",
   "metadata": {},
   "source": [
    "Reorganizando os atributos no dataframe `movie_title`"
   ]
  },
  {
   "cell_type": "code",
   "execution_count": 6,
   "id": "b5f7fb83",
   "metadata": {},
   "outputs": [
    {
     "data": {
      "text/html": [
       "<div>\n",
       "<style scoped>\n",
       "    .dataframe tbody tr th:only-of-type {\n",
       "        vertical-align: middle;\n",
       "    }\n",
       "\n",
       "    .dataframe tbody tr th {\n",
       "        vertical-align: top;\n",
       "    }\n",
       "\n",
       "    .dataframe thead th {\n",
       "        text-align: right;\n",
       "    }\n",
       "</style>\n",
       "<table border=\"1\" class=\"dataframe\">\n",
       "  <thead>\n",
       "    <tr style=\"text-align: right;\">\n",
       "      <th></th>\n",
       "      <th>genero</th>\n",
       "      <th>title</th>\n",
       "      <th>item_id</th>\n",
       "    </tr>\n",
       "  </thead>\n",
       "  <tbody>\n",
       "    <tr>\n",
       "      <th>0</th>\n",
       "      <td>[0, 0, 0, 1, 1, 1, 0, 0, 0, 0, 0, 0, 0, 0, 0, ...</td>\n",
       "      <td>Toy Story (1995)</td>\n",
       "      <td>1</td>\n",
       "    </tr>\n",
       "    <tr>\n",
       "      <th>1</th>\n",
       "      <td>[0, 1, 1, 0, 0, 0, 0, 0, 0, 0, 0, 0, 0, 0, 0, ...</td>\n",
       "      <td>GoldenEye (1995)</td>\n",
       "      <td>2</td>\n",
       "    </tr>\n",
       "    <tr>\n",
       "      <th>2</th>\n",
       "      <td>[0, 0, 0, 0, 0, 0, 0, 0, 0, 0, 0, 0, 0, 0, 0, ...</td>\n",
       "      <td>Four Rooms (1995)</td>\n",
       "      <td>3</td>\n",
       "    </tr>\n",
       "    <tr>\n",
       "      <th>3</th>\n",
       "      <td>[0, 1, 0, 0, 0, 1, 0, 0, 1, 0, 0, 0, 0, 0, 0, ...</td>\n",
       "      <td>Get Shorty (1995)</td>\n",
       "      <td>4</td>\n",
       "    </tr>\n",
       "    <tr>\n",
       "      <th>4</th>\n",
       "      <td>[0, 0, 0, 0, 0, 0, 1, 0, 1, 0, 0, 0, 0, 0, 0, ...</td>\n",
       "      <td>Copycat (1995)</td>\n",
       "      <td>5</td>\n",
       "    </tr>\n",
       "  </tbody>\n",
       "</table>\n",
       "</div>"
      ],
      "text/plain": [
       "                                              genero              title  \\\n",
       "0  [0, 0, 0, 1, 1, 1, 0, 0, 0, 0, 0, 0, 0, 0, 0, ...   Toy Story (1995)   \n",
       "1  [0, 1, 1, 0, 0, 0, 0, 0, 0, 0, 0, 0, 0, 0, 0, ...   GoldenEye (1995)   \n",
       "2  [0, 0, 0, 0, 0, 0, 0, 0, 0, 0, 0, 0, 0, 0, 0, ...  Four Rooms (1995)   \n",
       "3  [0, 1, 0, 0, 0, 1, 0, 0, 1, 0, 0, 0, 0, 0, 0, ...  Get Shorty (1995)   \n",
       "4  [0, 0, 0, 0, 0, 0, 1, 0, 1, 0, 0, 0, 0, 0, 0, ...     Copycat (1995)   \n",
       "\n",
       "   item_id  \n",
       "0        1  \n",
       "1        2  \n",
       "2        3  \n",
       "3        4  \n",
       "4        5  "
      ]
     },
     "execution_count": 6,
     "metadata": {},
     "output_type": "execute_result"
    }
   ],
   "source": [
    "movie_title['genero'] = movie_title.item.apply(lambda x: [int(a) for a in x.split('|')[-19::]])\n",
    "movie_title['title'] = movie_title.item.apply(lambda x: str(x.split('|')[1]))\n",
    "movie_title['item_id'] = movie_title.item.apply(lambda x: int(x.split('|')[0]))\n",
    "movie_title.drop('item', axis=1, inplace=True)\n",
    "movie_title.head()"
   ]
  },
  {
   "cell_type": "markdown",
   "id": "23aaccf2",
   "metadata": {},
   "source": [
    "### Carregando dataset dos gêneros dos filmes\n",
    "\n",
    "Existem 19 categorias de generos diferentes. Além disso, um mesmo filme pode estar em mais de uma categoria."
   ]
  },
  {
   "cell_type": "code",
   "execution_count": 7,
   "id": "693ac27b",
   "metadata": {
    "scrolled": true
   },
   "outputs": [
    {
     "data": {
      "text/html": [
       "<div>\n",
       "<style scoped>\n",
       "    .dataframe tbody tr th:only-of-type {\n",
       "        vertical-align: middle;\n",
       "    }\n",
       "\n",
       "    .dataframe tbody tr th {\n",
       "        vertical-align: top;\n",
       "    }\n",
       "\n",
       "    .dataframe thead th {\n",
       "        text-align: right;\n",
       "    }\n",
       "</style>\n",
       "<table border=\"1\" class=\"dataframe\">\n",
       "  <thead>\n",
       "    <tr style=\"text-align: right;\">\n",
       "      <th></th>\n",
       "      <th>genero</th>\n",
       "    </tr>\n",
       "  </thead>\n",
       "  <tbody>\n",
       "    <tr>\n",
       "      <th>0</th>\n",
       "      <td>unknown|0</td>\n",
       "    </tr>\n",
       "    <tr>\n",
       "      <th>1</th>\n",
       "      <td>Action|1</td>\n",
       "    </tr>\n",
       "    <tr>\n",
       "      <th>2</th>\n",
       "      <td>Adventure|2</td>\n",
       "    </tr>\n",
       "    <tr>\n",
       "      <th>3</th>\n",
       "      <td>Animation|3</td>\n",
       "    </tr>\n",
       "    <tr>\n",
       "      <th>4</th>\n",
       "      <td>Children's|4</td>\n",
       "    </tr>\n",
       "    <tr>\n",
       "      <th>5</th>\n",
       "      <td>Comedy|5</td>\n",
       "    </tr>\n",
       "    <tr>\n",
       "      <th>6</th>\n",
       "      <td>Crime|6</td>\n",
       "    </tr>\n",
       "    <tr>\n",
       "      <th>7</th>\n",
       "      <td>Documentary|7</td>\n",
       "    </tr>\n",
       "    <tr>\n",
       "      <th>8</th>\n",
       "      <td>Drama|8</td>\n",
       "    </tr>\n",
       "    <tr>\n",
       "      <th>9</th>\n",
       "      <td>Fantasy|9</td>\n",
       "    </tr>\n",
       "    <tr>\n",
       "      <th>10</th>\n",
       "      <td>Film-Noir|10</td>\n",
       "    </tr>\n",
       "    <tr>\n",
       "      <th>11</th>\n",
       "      <td>Horror|11</td>\n",
       "    </tr>\n",
       "    <tr>\n",
       "      <th>12</th>\n",
       "      <td>Musical|12</td>\n",
       "    </tr>\n",
       "    <tr>\n",
       "      <th>13</th>\n",
       "      <td>Mystery|13</td>\n",
       "    </tr>\n",
       "    <tr>\n",
       "      <th>14</th>\n",
       "      <td>Romance|14</td>\n",
       "    </tr>\n",
       "    <tr>\n",
       "      <th>15</th>\n",
       "      <td>Sci-Fi|15</td>\n",
       "    </tr>\n",
       "    <tr>\n",
       "      <th>16</th>\n",
       "      <td>Thriller|16</td>\n",
       "    </tr>\n",
       "    <tr>\n",
       "      <th>17</th>\n",
       "      <td>War|17</td>\n",
       "    </tr>\n",
       "    <tr>\n",
       "      <th>18</th>\n",
       "      <td>Western|18</td>\n",
       "    </tr>\n",
       "  </tbody>\n",
       "</table>\n",
       "</div>"
      ],
      "text/plain": [
       "           genero\n",
       "0       unknown|0\n",
       "1        Action|1\n",
       "2     Adventure|2\n",
       "3     Animation|3\n",
       "4    Children's|4\n",
       "5        Comedy|5\n",
       "6         Crime|6\n",
       "7   Documentary|7\n",
       "8         Drama|8\n",
       "9       Fantasy|9\n",
       "10   Film-Noir|10\n",
       "11      Horror|11\n",
       "12     Musical|12\n",
       "13     Mystery|13\n",
       "14     Romance|14\n",
       "15      Sci-Fi|15\n",
       "16    Thriller|16\n",
       "17         War|17\n",
       "18     Western|18"
      ]
     },
     "execution_count": 7,
     "metadata": {},
     "output_type": "execute_result"
    }
   ],
   "source": [
    "generos = pd.read_table('dataset/u.genre', names = ['genero'])\n",
    "generos"
   ]
  },
  {
   "cell_type": "code",
   "execution_count": 8,
   "id": "1f7f3be3",
   "metadata": {},
   "outputs": [
    {
     "data": {
      "text/plain": [
       "array(['unknown', 'Action', 'Adventure', 'Animation', \"Children's\",\n",
       "       'Comedy', 'Crime', 'Documentary', 'Drama', 'Fantasy', 'Film-Noir',\n",
       "       'Horror', 'Musical', 'Mystery', 'Romance', 'Sci-Fi', 'Thriller',\n",
       "       'War', 'Western'], dtype=object)"
      ]
     },
     "execution_count": 8,
     "metadata": {},
     "output_type": "execute_result"
    }
   ],
   "source": [
    "gen = generos.genero.apply(lambda x: x.split('|')[0]).values\n",
    "gen"
   ]
  },
  {
   "cell_type": "code",
   "execution_count": 9,
   "id": "4f507bac",
   "metadata": {},
   "outputs": [],
   "source": [
    "#Função para adicionar coluna com título dos generos dos filmes.\n",
    "def movie(x):\n",
    "    mov = []\n",
    "    for i, j in zip(x, gen):\n",
    "        if i == 1:\n",
    "            mov.append(j)\n",
    "    return mov"
   ]
  },
  {
   "cell_type": "code",
   "execution_count": 10,
   "id": "b44c52dd",
   "metadata": {
    "scrolled": true
   },
   "outputs": [
    {
     "data": {
      "text/html": [
       "<div>\n",
       "<style scoped>\n",
       "    .dataframe tbody tr th:only-of-type {\n",
       "        vertical-align: middle;\n",
       "    }\n",
       "\n",
       "    .dataframe tbody tr th {\n",
       "        vertical-align: top;\n",
       "    }\n",
       "\n",
       "    .dataframe thead th {\n",
       "        text-align: right;\n",
       "    }\n",
       "</style>\n",
       "<table border=\"1\" class=\"dataframe\">\n",
       "  <thead>\n",
       "    <tr style=\"text-align: right;\">\n",
       "      <th></th>\n",
       "      <th>genero</th>\n",
       "      <th>title</th>\n",
       "      <th>item_id</th>\n",
       "      <th>genero_string</th>\n",
       "    </tr>\n",
       "  </thead>\n",
       "  <tbody>\n",
       "    <tr>\n",
       "      <th>0</th>\n",
       "      <td>[0, 0, 0, 1, 1, 1, 0, 0, 0, 0, 0, 0, 0, 0, 0, ...</td>\n",
       "      <td>Toy Story (1995)</td>\n",
       "      <td>1</td>\n",
       "      <td>[Animation, Children's, Comedy]</td>\n",
       "    </tr>\n",
       "    <tr>\n",
       "      <th>1</th>\n",
       "      <td>[0, 1, 1, 0, 0, 0, 0, 0, 0, 0, 0, 0, 0, 0, 0, ...</td>\n",
       "      <td>GoldenEye (1995)</td>\n",
       "      <td>2</td>\n",
       "      <td>[Action, Adventure, Thriller]</td>\n",
       "    </tr>\n",
       "    <tr>\n",
       "      <th>2</th>\n",
       "      <td>[0, 0, 0, 0, 0, 0, 0, 0, 0, 0, 0, 0, 0, 0, 0, ...</td>\n",
       "      <td>Four Rooms (1995)</td>\n",
       "      <td>3</td>\n",
       "      <td>[Thriller]</td>\n",
       "    </tr>\n",
       "    <tr>\n",
       "      <th>3</th>\n",
       "      <td>[0, 1, 0, 0, 0, 1, 0, 0, 1, 0, 0, 0, 0, 0, 0, ...</td>\n",
       "      <td>Get Shorty (1995)</td>\n",
       "      <td>4</td>\n",
       "      <td>[Action, Comedy, Drama]</td>\n",
       "    </tr>\n",
       "    <tr>\n",
       "      <th>4</th>\n",
       "      <td>[0, 0, 0, 0, 0, 0, 1, 0, 1, 0, 0, 0, 0, 0, 0, ...</td>\n",
       "      <td>Copycat (1995)</td>\n",
       "      <td>5</td>\n",
       "      <td>[Crime, Drama, Thriller]</td>\n",
       "    </tr>\n",
       "  </tbody>\n",
       "</table>\n",
       "</div>"
      ],
      "text/plain": [
       "                                              genero              title  \\\n",
       "0  [0, 0, 0, 1, 1, 1, 0, 0, 0, 0, 0, 0, 0, 0, 0, ...   Toy Story (1995)   \n",
       "1  [0, 1, 1, 0, 0, 0, 0, 0, 0, 0, 0, 0, 0, 0, 0, ...   GoldenEye (1995)   \n",
       "2  [0, 0, 0, 0, 0, 0, 0, 0, 0, 0, 0, 0, 0, 0, 0, ...  Four Rooms (1995)   \n",
       "3  [0, 1, 0, 0, 0, 1, 0, 0, 1, 0, 0, 0, 0, 0, 0, ...  Get Shorty (1995)   \n",
       "4  [0, 0, 0, 0, 0, 0, 1, 0, 1, 0, 0, 0, 0, 0, 0, ...     Copycat (1995)   \n",
       "\n",
       "   item_id                    genero_string  \n",
       "0        1  [Animation, Children's, Comedy]  \n",
       "1        2    [Action, Adventure, Thriller]  \n",
       "2        3                       [Thriller]  \n",
       "3        4          [Action, Comedy, Drama]  \n",
       "4        5         [Crime, Drama, Thriller]  "
      ]
     },
     "execution_count": 10,
     "metadata": {},
     "output_type": "execute_result"
    }
   ],
   "source": [
    "movie_title['genero_string'] = movie_title.genero.apply(movie)\n",
    "movie_title.head()"
   ]
  },
  {
   "cell_type": "code",
   "execution_count": 11,
   "id": "86fe798f",
   "metadata": {},
   "outputs": [
    {
     "data": {
      "text/html": [
       "<div>\n",
       "<style scoped>\n",
       "    .dataframe tbody tr th:only-of-type {\n",
       "        vertical-align: middle;\n",
       "    }\n",
       "\n",
       "    .dataframe tbody tr th {\n",
       "        vertical-align: top;\n",
       "    }\n",
       "\n",
       "    .dataframe thead th {\n",
       "        text-align: right;\n",
       "    }\n",
       "</style>\n",
       "<table border=\"1\" class=\"dataframe\">\n",
       "  <thead>\n",
       "    <tr style=\"text-align: right;\">\n",
       "      <th></th>\n",
       "      <th>user_id</th>\n",
       "      <th>item_id</th>\n",
       "      <th>rating</th>\n",
       "      <th>timestamp</th>\n",
       "      <th>genero</th>\n",
       "      <th>title</th>\n",
       "      <th>genero_string</th>\n",
       "    </tr>\n",
       "  </thead>\n",
       "  <tbody>\n",
       "    <tr>\n",
       "      <th>0</th>\n",
       "      <td>196</td>\n",
       "      <td>242</td>\n",
       "      <td>3</td>\n",
       "      <td>881250949</td>\n",
       "      <td>[0, 0, 0, 0, 0, 1, 0, 0, 0, 0, 0, 0, 0, 0, 0, ...</td>\n",
       "      <td>Kolya (1996)</td>\n",
       "      <td>[Comedy]</td>\n",
       "    </tr>\n",
       "    <tr>\n",
       "      <th>1</th>\n",
       "      <td>63</td>\n",
       "      <td>242</td>\n",
       "      <td>3</td>\n",
       "      <td>875747190</td>\n",
       "      <td>[0, 0, 0, 0, 0, 1, 0, 0, 0, 0, 0, 0, 0, 0, 0, ...</td>\n",
       "      <td>Kolya (1996)</td>\n",
       "      <td>[Comedy]</td>\n",
       "    </tr>\n",
       "    <tr>\n",
       "      <th>2</th>\n",
       "      <td>226</td>\n",
       "      <td>242</td>\n",
       "      <td>5</td>\n",
       "      <td>883888671</td>\n",
       "      <td>[0, 0, 0, 0, 0, 1, 0, 0, 0, 0, 0, 0, 0, 0, 0, ...</td>\n",
       "      <td>Kolya (1996)</td>\n",
       "      <td>[Comedy]</td>\n",
       "    </tr>\n",
       "    <tr>\n",
       "      <th>3</th>\n",
       "      <td>154</td>\n",
       "      <td>242</td>\n",
       "      <td>3</td>\n",
       "      <td>879138235</td>\n",
       "      <td>[0, 0, 0, 0, 0, 1, 0, 0, 0, 0, 0, 0, 0, 0, 0, ...</td>\n",
       "      <td>Kolya (1996)</td>\n",
       "      <td>[Comedy]</td>\n",
       "    </tr>\n",
       "    <tr>\n",
       "      <th>4</th>\n",
       "      <td>306</td>\n",
       "      <td>242</td>\n",
       "      <td>5</td>\n",
       "      <td>876503793</td>\n",
       "      <td>[0, 0, 0, 0, 0, 1, 0, 0, 0, 0, 0, 0, 0, 0, 0, ...</td>\n",
       "      <td>Kolya (1996)</td>\n",
       "      <td>[Comedy]</td>\n",
       "    </tr>\n",
       "  </tbody>\n",
       "</table>\n",
       "</div>"
      ],
      "text/plain": [
       "   user_id  item_id  rating  timestamp  \\\n",
       "0      196      242       3  881250949   \n",
       "1       63      242       3  875747190   \n",
       "2      226      242       5  883888671   \n",
       "3      154      242       3  879138235   \n",
       "4      306      242       5  876503793   \n",
       "\n",
       "                                              genero         title  \\\n",
       "0  [0, 0, 0, 0, 0, 1, 0, 0, 0, 0, 0, 0, 0, 0, 0, ...  Kolya (1996)   \n",
       "1  [0, 0, 0, 0, 0, 1, 0, 0, 0, 0, 0, 0, 0, 0, 0, ...  Kolya (1996)   \n",
       "2  [0, 0, 0, 0, 0, 1, 0, 0, 0, 0, 0, 0, 0, 0, 0, ...  Kolya (1996)   \n",
       "3  [0, 0, 0, 0, 0, 1, 0, 0, 0, 0, 0, 0, 0, 0, 0, ...  Kolya (1996)   \n",
       "4  [0, 0, 0, 0, 0, 1, 0, 0, 0, 0, 0, 0, 0, 0, 0, ...  Kolya (1996)   \n",
       "\n",
       "  genero_string  \n",
       "0      [Comedy]  \n",
       "1      [Comedy]  \n",
       "2      [Comedy]  \n",
       "3      [Comedy]  \n",
       "4      [Comedy]  "
      ]
     },
     "execution_count": 11,
     "metadata": {},
     "output_type": "execute_result"
    }
   ],
   "source": [
    "#Aplicando merge entre os dois DataFrames, utilizando item_id como chave estrangeira\n",
    "\n",
    "df = df.merge(right=movie_title, on='item_id')\n",
    "df.head()"
   ]
  },
  {
   "cell_type": "markdown",
   "id": "1d4097a8",
   "metadata": {},
   "source": [
    "### Criando DataFrame com base no valor médio das avaliações para cada filme."
   ]
  },
  {
   "cell_type": "code",
   "execution_count": 12,
   "id": "080d0f59",
   "metadata": {
    "scrolled": true
   },
   "outputs": [
    {
     "data": {
      "text/html": [
       "<div>\n",
       "<style scoped>\n",
       "    .dataframe tbody tr th:only-of-type {\n",
       "        vertical-align: middle;\n",
       "    }\n",
       "\n",
       "    .dataframe tbody tr th {\n",
       "        vertical-align: top;\n",
       "    }\n",
       "\n",
       "    .dataframe thead th {\n",
       "        text-align: right;\n",
       "    }\n",
       "</style>\n",
       "<table border=\"1\" class=\"dataframe\">\n",
       "  <thead>\n",
       "    <tr style=\"text-align: right;\">\n",
       "      <th></th>\n",
       "      <th>rating</th>\n",
       "    </tr>\n",
       "    <tr>\n",
       "      <th>title</th>\n",
       "      <th></th>\n",
       "    </tr>\n",
       "  </thead>\n",
       "  <tbody>\n",
       "    <tr>\n",
       "      <th>'Til There Was You (1997)</th>\n",
       "      <td>2.333333</td>\n",
       "    </tr>\n",
       "    <tr>\n",
       "      <th>1-900 (1994)</th>\n",
       "      <td>2.600000</td>\n",
       "    </tr>\n",
       "    <tr>\n",
       "      <th>101 Dalmatians (1996)</th>\n",
       "      <td>2.908257</td>\n",
       "    </tr>\n",
       "    <tr>\n",
       "      <th>12 Angry Men (1957)</th>\n",
       "      <td>4.344000</td>\n",
       "    </tr>\n",
       "    <tr>\n",
       "      <th>187 (1997)</th>\n",
       "      <td>3.024390</td>\n",
       "    </tr>\n",
       "  </tbody>\n",
       "</table>\n",
       "</div>"
      ],
      "text/plain": [
       "                             rating\n",
       "title                              \n",
       "'Til There Was You (1997)  2.333333\n",
       "1-900 (1994)               2.600000\n",
       "101 Dalmatians (1996)      2.908257\n",
       "12 Angry Men (1957)        4.344000\n",
       "187 (1997)                 3.024390"
      ]
     },
     "execution_count": 12,
     "metadata": {},
     "output_type": "execute_result"
    }
   ],
   "source": [
    "aval = pd.DataFrame(df.groupby('title')['rating'].mean())\n",
    "aval.head()"
   ]
  },
  {
   "cell_type": "markdown",
   "id": "2c135c04",
   "metadata": {},
   "source": [
    "### Adicionando coluna com quantidade de votos por filme."
   ]
  },
  {
   "cell_type": "code",
   "execution_count": 13,
   "id": "4738b8ec",
   "metadata": {
    "scrolled": false
   },
   "outputs": [
    {
     "data": {
      "text/html": [
       "<div>\n",
       "<style scoped>\n",
       "    .dataframe tbody tr th:only-of-type {\n",
       "        vertical-align: middle;\n",
       "    }\n",
       "\n",
       "    .dataframe tbody tr th {\n",
       "        vertical-align: top;\n",
       "    }\n",
       "\n",
       "    .dataframe thead th {\n",
       "        text-align: right;\n",
       "    }\n",
       "</style>\n",
       "<table border=\"1\" class=\"dataframe\">\n",
       "  <thead>\n",
       "    <tr style=\"text-align: right;\">\n",
       "      <th></th>\n",
       "      <th>rating</th>\n",
       "      <th>quantidade_votos</th>\n",
       "    </tr>\n",
       "    <tr>\n",
       "      <th>title</th>\n",
       "      <th></th>\n",
       "      <th></th>\n",
       "    </tr>\n",
       "  </thead>\n",
       "  <tbody>\n",
       "    <tr>\n",
       "      <th>'Til There Was You (1997)</th>\n",
       "      <td>2.333333</td>\n",
       "      <td>9</td>\n",
       "    </tr>\n",
       "    <tr>\n",
       "      <th>1-900 (1994)</th>\n",
       "      <td>2.600000</td>\n",
       "      <td>5</td>\n",
       "    </tr>\n",
       "    <tr>\n",
       "      <th>101 Dalmatians (1996)</th>\n",
       "      <td>2.908257</td>\n",
       "      <td>109</td>\n",
       "    </tr>\n",
       "    <tr>\n",
       "      <th>12 Angry Men (1957)</th>\n",
       "      <td>4.344000</td>\n",
       "      <td>125</td>\n",
       "    </tr>\n",
       "    <tr>\n",
       "      <th>187 (1997)</th>\n",
       "      <td>3.024390</td>\n",
       "      <td>41</td>\n",
       "    </tr>\n",
       "  </tbody>\n",
       "</table>\n",
       "</div>"
      ],
      "text/plain": [
       "                             rating  quantidade_votos\n",
       "title                                                \n",
       "'Til There Was You (1997)  2.333333                 9\n",
       "1-900 (1994)               2.600000                 5\n",
       "101 Dalmatians (1996)      2.908257               109\n",
       "12 Angry Men (1957)        4.344000               125\n",
       "187 (1997)                 3.024390                41"
      ]
     },
     "execution_count": 13,
     "metadata": {},
     "output_type": "execute_result"
    }
   ],
   "source": [
    "aval['quantidade_votos'] = df.groupby('title').rating.count()\n",
    "aval.head()"
   ]
  },
  {
   "cell_type": "code",
   "execution_count": 14,
   "id": "b1324b6f",
   "metadata": {
    "scrolled": false
   },
   "outputs": [
    {
     "data": {
      "text/html": [
       "<div>\n",
       "<style scoped>\n",
       "    .dataframe tbody tr th:only-of-type {\n",
       "        vertical-align: middle;\n",
       "    }\n",
       "\n",
       "    .dataframe tbody tr th {\n",
       "        vertical-align: top;\n",
       "    }\n",
       "\n",
       "    .dataframe thead th {\n",
       "        text-align: right;\n",
       "    }\n",
       "</style>\n",
       "<table border=\"1\" class=\"dataframe\">\n",
       "  <thead>\n",
       "    <tr style=\"text-align: right;\">\n",
       "      <th></th>\n",
       "      <th>rating</th>\n",
       "      <th>quantidade_votos</th>\n",
       "    </tr>\n",
       "  </thead>\n",
       "  <tbody>\n",
       "    <tr>\n",
       "      <th>count</th>\n",
       "      <td>1664.000000</td>\n",
       "      <td>1664.000000</td>\n",
       "    </tr>\n",
       "    <tr>\n",
       "      <th>mean</th>\n",
       "      <td>3.077018</td>\n",
       "      <td>60.096154</td>\n",
       "    </tr>\n",
       "    <tr>\n",
       "      <th>std</th>\n",
       "      <td>0.780418</td>\n",
       "      <td>80.956484</td>\n",
       "    </tr>\n",
       "    <tr>\n",
       "      <th>min</th>\n",
       "      <td>1.000000</td>\n",
       "      <td>1.000000</td>\n",
       "    </tr>\n",
       "    <tr>\n",
       "      <th>25%</th>\n",
       "      <td>2.665094</td>\n",
       "      <td>7.000000</td>\n",
       "    </tr>\n",
       "    <tr>\n",
       "      <th>50%</th>\n",
       "      <td>3.162132</td>\n",
       "      <td>27.000000</td>\n",
       "    </tr>\n",
       "    <tr>\n",
       "      <th>75%</th>\n",
       "      <td>3.651808</td>\n",
       "      <td>80.250000</td>\n",
       "    </tr>\n",
       "    <tr>\n",
       "      <th>max</th>\n",
       "      <td>5.000000</td>\n",
       "      <td>583.000000</td>\n",
       "    </tr>\n",
       "  </tbody>\n",
       "</table>\n",
       "</div>"
      ],
      "text/plain": [
       "            rating  quantidade_votos\n",
       "count  1664.000000       1664.000000\n",
       "mean      3.077018         60.096154\n",
       "std       0.780418         80.956484\n",
       "min       1.000000          1.000000\n",
       "25%       2.665094          7.000000\n",
       "50%       3.162132         27.000000\n",
       "75%       3.651808         80.250000\n",
       "max       5.000000        583.000000"
      ]
     },
     "execution_count": 14,
     "metadata": {},
     "output_type": "execute_result"
    }
   ],
   "source": [
    "aval.describe()"
   ]
  },
  {
   "cell_type": "markdown",
   "id": "ef66cc5c",
   "metadata": {},
   "source": [
    "Vamos usar a Regra de Sturges para obter a quantidade de bins ótima do histograma de frequências da quantidade de votos. Observando a análise descritiva acima, vemos que a a quantidade de votos mínimos que um filme recebeu é 1 e máxima é 584. Assim, a largura do histograma de frequências deve ser 584 - 1 = 583."
   ]
  },
  {
   "cell_type": "markdown",
   "id": "96c2ea31",
   "metadata": {},
   "source": [
    "Ponto de partida para obter a largura dos bins: Regra de Sturges\n",
    "\n",
    "$K = 1 + log_{10}(N)$, onde N é o número de amostras, e K é a largura de cada bin no histograma."
   ]
  },
  {
   "cell_type": "code",
   "execution_count": 15,
   "id": "7b1decc7",
   "metadata": {},
   "outputs": [
    {
     "name": "stdout",
     "output_type": "stream",
     "text": [
      "Quantidade de amostras: 1664\n"
     ]
    }
   ],
   "source": [
    "print(f'Quantidade de amostras: {aval.shape[0]}')"
   ]
  },
  {
   "cell_type": "code",
   "execution_count": 16,
   "id": "dcbe49ac",
   "metadata": {},
   "outputs": [
    {
     "data": {
      "text/plain": [
       "11.700671335533531"
      ]
     },
     "execution_count": 16,
     "metadata": {},
     "output_type": "execute_result"
    }
   ],
   "source": [
    "K = 1 + 3.322*np.log10(1664)\n",
    "K"
   ]
  },
  {
   "cell_type": "code",
   "execution_count": 17,
   "id": "012a8e01",
   "metadata": {},
   "outputs": [
    {
     "data": {
      "text/plain": [
       "53.0"
      ]
     },
     "execution_count": 17,
     "metadata": {},
     "output_type": "execute_result"
    }
   ],
   "source": [
    "583/11"
   ]
  },
  {
   "cell_type": "markdown",
   "id": "6d418e18",
   "metadata": {},
   "source": [
    "Assim, teremos 53 bins, cada um com largura de 11."
   ]
  },
  {
   "cell_type": "markdown",
   "id": "8aaa92fa",
   "metadata": {},
   "source": [
    "O histograma mostra que, de maneira geral, a maioria dos filmes têm poucos votos e a minoria tem muitos votos. Isso é interpretado através da longa calda à direita, visualizada no gráfico (distribuição Log-Normal)."
   ]
  },
  {
   "cell_type": "code",
   "execution_count": 18,
   "id": "acfe699c",
   "metadata": {
    "scrolled": false
   },
   "outputs": [
    {
     "data": {
      "image/png": "[encoded data removed]",
      "text/plain": [
       "<Figure size 720x288 with 1 Axes>"
      ]
     },
     "metadata": {
      "needs_background": "light"
     },
     "output_type": "display_data"
    }
   ],
   "source": [
    "plt.figure(figsize=(10,4))\n",
    "\n",
    "aval.quantidade_votos.hist(bins=53);"
   ]
  },
  {
   "cell_type": "markdown",
   "id": "46081cf1",
   "metadata": {},
   "source": [
    "Já para o gráfico de distribuição de frequências exibindo o rating dos filmes abaixo, vemos que os valores 1.0, 2.0, 3.0, 4.0 e 5.0 sobressaem, o que implica dizer que muitos filmes têm a mesma avaliação. Ou seja, pegando como exemplo o filme `3 Ninjas: High Noon At Mega Mountain (1998)`, todas as pessoas o avaliou com 1 estrela. Isso se repetirá para 2, 3, 4 ou 5 estrelas."
   ]
  },
  {
   "cell_type": "code",
   "execution_count": 19,
   "id": "bd60ef87",
   "metadata": {},
   "outputs": [
    {
     "data": {
      "text/plain": [
       "1"
      ]
     },
     "execution_count": 19,
     "metadata": {},
     "output_type": "execute_result"
    }
   ],
   "source": [
    "df[df.title == '3 Ninjas: High Noon At Mega Mountain (1998)'].rating.nunique()"
   ]
  },
  {
   "cell_type": "code",
   "execution_count": 20,
   "id": "bf589f28",
   "metadata": {
    "scrolled": true
   },
   "outputs": [
    {
     "data": {
      "image/png": "[encoded data removed]",
      "text/plain": [
       "<Figure size 720x288 with 1 Axes>"
      ]
     },
     "metadata": {
      "needs_background": "light"
     },
     "output_type": "display_data"
    }
   ],
   "source": [
    "plt.figure(figsize=(10,4))\n",
    "\n",
    "aval.rating.hist(bins=100, color='r')\n",
    "plt.title('Histograma de frequências da avaliação média recebida por filme', fontsize = 15, fontweight='bold', pad=10)\n",
    "plt.savefig('images/hist.png', bbox_inches='tight', dpi=200);"
   ]
  },
  {
   "cell_type": "markdown",
   "id": "fb6278e4",
   "metadata": {},
   "source": [
    "Filmes para os quais os usuários deram apenas uma tipo de estrelas (1, 2, 3, 4 ou 5)"
   ]
  },
  {
   "cell_type": "code",
   "execution_count": 21,
   "id": "cc565e67",
   "metadata": {},
   "outputs": [],
   "source": [
    "filmes_unique_rating = []\n",
    "\n",
    "for title in df.title.unique():\n",
    "    if df[df.title == title].rating.nunique() == 1:\n",
    "        filmes_unique_rating.append(title)"
   ]
  },
  {
   "cell_type": "code",
   "execution_count": 22,
   "id": "d3c21de2",
   "metadata": {},
   "outputs": [
    {
     "name": "stdout",
     "output_type": "stream",
     "text": [
      "160 filmes, equivalente a 9.62% do total de filmes, recebem apenas um tipo de estrela (1, 2, 3, 4 ou 5!\n"
     ]
    }
   ],
   "source": [
    "print(f'{len(filmes_unique_rating)} filmes, equivalente a {round(len(filmes_unique_rating)*100/df.title.nunique(),2)}\\\n",
    "% do total de filmes, recebem apenas um tipo de estrela (1, 2, 3, 4 ou 5!')"
   ]
  },
  {
   "cell_type": "markdown",
   "id": "e2f78791",
   "metadata": {},
   "source": [
    "No gráfico abaixo, vemos que a quantidade de avaliações tem relação direta com a nota avaliativa, o que implica dizer que, quanto maior é a nota dada a um filme, mais pessoas assistirão à ele e, por consequência, deixarão sua avaliação, como numa retroalimentação. Além disso, a relação parece ser mais ou menos exponencial!"
   ]
  },
  {
   "cell_type": "code",
   "execution_count": 23,
   "id": "1627a03c",
   "metadata": {
    "scrolled": false
   },
   "outputs": [
    {
     "data": {
      "image/png": "[encoded data removed]",
      "text/plain": [
       "<Figure size 432x432 with 3 Axes>"
      ]
     },
     "metadata": {
      "needs_background": "light"
     },
     "output_type": "display_data"
    }
   ],
   "source": [
    "sns.jointplot(x='rating',y='quantidade_votos', data=aval,alpha=0.5);"
   ]
  },
  {
   "cell_type": "markdown",
   "id": "1204a698",
   "metadata": {},
   "source": [
    "Será que conseguimos modelar o gráfico acima por uma equação exponencial do tipo ${y = a\\cdot exp(b \\cdot x)}$ ??"
   ]
  },
  {
   "cell_type": "code",
   "execution_count": 24,
   "id": "3ad7f783",
   "metadata": {},
   "outputs": [
    {
     "name": "stdout",
     "output_type": "stream",
     "text": [
      "6.744917750778215 0.6812996717577267\n"
     ]
    }
   ],
   "source": [
    "#Obtendo parâmetros a e b da modelagem\n",
    "a, _ = scipy.optimize.curve_fit(lambda t,a,b: a*np.exp(b*t),  aval.rating,  aval.quantidade_votos, p0 = (3,5))\n",
    "\n",
    "print(a[0], a[1])"
   ]
  },
  {
   "cell_type": "code",
   "execution_count": 25,
   "id": "337b9138",
   "metadata": {
    "scrolled": true
   },
   "outputs": [
    {
     "data": {
      "image/png": "[encoded data removed]",
      "text/plain": [
       "<Figure size 720x360 with 1 Axes>"
      ]
     },
     "metadata": {
      "needs_background": "light"
     },
     "output_type": "display_data"
    }
   ],
   "source": [
    "f, ax = plt.subplots(figsize=(10,5))\n",
    "\n",
    "x = np.linspace(1, 5, aval.shape[0])\n",
    "y = a[0]* np.exp(a[1]*x)\n",
    "\n",
    "plt.plot(aval.rating, aval.quantidade_votos, 'b', marker='o', linestyle='')\n",
    "plt.plot(x, y, 'r')\n",
    "plt.xlabel('Avaliação')\n",
    "plt.ylabel('Quantidade de votos')\n",
    "\n",
    "plt.text(1, 500, 'R = ' + \n",
    "str(round(np.corrcoef(aval.quantidade_votos.values, a[0]*np.exp(a[1]*aval.rating.values))[0][1], 2)), fontsize=14)\n",
    "\n",
    "plt.ylim(0,600);"
   ]
  },
  {
   "cell_type": "markdown",
   "id": "61fe083b",
   "metadata": {},
   "source": [
    "Devido à grande dispersão, a correlação é muito baixa, indicando que é difícil realizar uma modelagem entre essas duas variáveis a partir de uma exponencial."
   ]
  },
  {
   "cell_type": "markdown",
   "id": "6d3a9e6d",
   "metadata": {},
   "source": [
    "### Os 100 filmes que MAIS receberam votos"
   ]
  },
  {
   "cell_type": "code",
   "execution_count": 26,
   "id": "401863bb",
   "metadata": {
    "scrolled": false
   },
   "outputs": [
    {
     "data": {
      "image/png": "[encoded data removed]",
      "text/plain": [
       "<Figure size 1224x288 with 1 Axes>"
      ]
     },
     "metadata": {
      "needs_background": "light"
     },
     "output_type": "display_data"
    }
   ],
   "source": [
    "f, ax = plt.subplots(figsize=(17,4))\n",
    "\n",
    "g = df.title.value_counts().sort_values(ascending=False).head(100)\n",
    "g.plot.bar()\n",
    "ax.set_xticklabels(labels=g.keys(), rotation=90);"
   ]
  },
  {
   "cell_type": "code",
   "execution_count": 27,
   "id": "d1d3c45c",
   "metadata": {
    "scrolled": true
   },
   "outputs": [
    {
     "name": "stdout",
     "output_type": "stream",
     "text": [
      "134 filmes foram avaliados apenas uma vez\n"
     ]
    }
   ],
   "source": [
    "print(f'{(df.title.value_counts() == 1).sum()} filmes foram avaliados apenas uma vez')"
   ]
  },
  {
   "cell_type": "markdown",
   "id": "5f1f84d7",
   "metadata": {},
   "source": [
    "# Recomendação de filmes por similaridade"
   ]
  },
  {
   "cell_type": "markdown",
   "id": "39f3e2ec",
   "metadata": {},
   "source": [
    "Em sistemas de recomendações, é interessante notar a alta esparcialidade dos dados, posto que, de maneira geral, a grande maioria das pessoas verão a grande minoria dos filmes; de modo que; muitos filmes não serão avaliado por um dado usuário. Desta forma, é natural lidar com diversos valores `NaN's` (Not a number)!"
   ]
  },
  {
   "cell_type": "code",
   "execution_count": 28,
   "id": "f2e6cb25",
   "metadata": {
    "scrolled": false
   },
   "outputs": [
    {
     "data": {
      "text/html": [
       "<div>\n",
       "<style scoped>\n",
       "    .dataframe tbody tr th:only-of-type {\n",
       "        vertical-align: middle;\n",
       "    }\n",
       "\n",
       "    .dataframe tbody tr th {\n",
       "        vertical-align: top;\n",
       "    }\n",
       "\n",
       "    .dataframe thead th {\n",
       "        text-align: right;\n",
       "    }\n",
       "</style>\n",
       "<table border=\"1\" class=\"dataframe\">\n",
       "  <thead>\n",
       "    <tr style=\"text-align: right;\">\n",
       "      <th>title</th>\n",
       "      <th>'Til There Was You (1997)</th>\n",
       "      <th>1-900 (1994)</th>\n",
       "      <th>101 Dalmatians (1996)</th>\n",
       "      <th>12 Angry Men (1957)</th>\n",
       "      <th>187 (1997)</th>\n",
       "      <th>2 Days in the Valley (1996)</th>\n",
       "      <th>20,000 Leagues Under the Sea (1954)</th>\n",
       "      <th>2001: A Space Odyssey (1968)</th>\n",
       "      <th>3 Ninjas: High Noon At Mega Mountain (1998)</th>\n",
       "      <th>39 Steps, The (1935)</th>\n",
       "      <th>...</th>\n",
       "      <th>Yankee Zulu (1994)</th>\n",
       "      <th>Year of the Horse (1997)</th>\n",
       "      <th>You So Crazy (1994)</th>\n",
       "      <th>Young Frankenstein (1974)</th>\n",
       "      <th>Young Guns (1988)</th>\n",
       "      <th>Young Guns II (1990)</th>\n",
       "      <th>Young Poisoner's Handbook, The (1995)</th>\n",
       "      <th>Zeus and Roxanne (1997)</th>\n",
       "      <th>unknown</th>\n",
       "      <th>Á köldum klaka (Cold Fever) (1994)</th>\n",
       "    </tr>\n",
       "    <tr>\n",
       "      <th>user_id</th>\n",
       "      <th></th>\n",
       "      <th></th>\n",
       "      <th></th>\n",
       "      <th></th>\n",
       "      <th></th>\n",
       "      <th></th>\n",
       "      <th></th>\n",
       "      <th></th>\n",
       "      <th></th>\n",
       "      <th></th>\n",
       "      <th></th>\n",
       "      <th></th>\n",
       "      <th></th>\n",
       "      <th></th>\n",
       "      <th></th>\n",
       "      <th></th>\n",
       "      <th></th>\n",
       "      <th></th>\n",
       "      <th></th>\n",
       "      <th></th>\n",
       "      <th></th>\n",
       "    </tr>\n",
       "  </thead>\n",
       "  <tbody>\n",
       "    <tr>\n",
       "      <th>1</th>\n",
       "      <td>NaN</td>\n",
       "      <td>NaN</td>\n",
       "      <td>2.0</td>\n",
       "      <td>5.0</td>\n",
       "      <td>NaN</td>\n",
       "      <td>NaN</td>\n",
       "      <td>3.0</td>\n",
       "      <td>4.0</td>\n",
       "      <td>NaN</td>\n",
       "      <td>NaN</td>\n",
       "      <td>...</td>\n",
       "      <td>NaN</td>\n",
       "      <td>NaN</td>\n",
       "      <td>NaN</td>\n",
       "      <td>5.0</td>\n",
       "      <td>3.0</td>\n",
       "      <td>NaN</td>\n",
       "      <td>NaN</td>\n",
       "      <td>NaN</td>\n",
       "      <td>4.0</td>\n",
       "      <td>NaN</td>\n",
       "    </tr>\n",
       "    <tr>\n",
       "      <th>2</th>\n",
       "      <td>NaN</td>\n",
       "      <td>NaN</td>\n",
       "      <td>NaN</td>\n",
       "      <td>NaN</td>\n",
       "      <td>NaN</td>\n",
       "      <td>NaN</td>\n",
       "      <td>NaN</td>\n",
       "      <td>NaN</td>\n",
       "      <td>1.0</td>\n",
       "      <td>NaN</td>\n",
       "      <td>...</td>\n",
       "      <td>NaN</td>\n",
       "      <td>NaN</td>\n",
       "      <td>NaN</td>\n",
       "      <td>NaN</td>\n",
       "      <td>NaN</td>\n",
       "      <td>NaN</td>\n",
       "      <td>NaN</td>\n",
       "      <td>NaN</td>\n",
       "      <td>NaN</td>\n",
       "      <td>NaN</td>\n",
       "    </tr>\n",
       "    <tr>\n",
       "      <th>3</th>\n",
       "      <td>NaN</td>\n",
       "      <td>NaN</td>\n",
       "      <td>NaN</td>\n",
       "      <td>NaN</td>\n",
       "      <td>2.0</td>\n",
       "      <td>NaN</td>\n",
       "      <td>NaN</td>\n",
       "      <td>NaN</td>\n",
       "      <td>NaN</td>\n",
       "      <td>NaN</td>\n",
       "      <td>...</td>\n",
       "      <td>NaN</td>\n",
       "      <td>NaN</td>\n",
       "      <td>NaN</td>\n",
       "      <td>NaN</td>\n",
       "      <td>NaN</td>\n",
       "      <td>NaN</td>\n",
       "      <td>NaN</td>\n",
       "      <td>NaN</td>\n",
       "      <td>NaN</td>\n",
       "      <td>NaN</td>\n",
       "    </tr>\n",
       "    <tr>\n",
       "      <th>4</th>\n",
       "      <td>NaN</td>\n",
       "      <td>NaN</td>\n",
       "      <td>NaN</td>\n",
       "      <td>NaN</td>\n",
       "      <td>NaN</td>\n",
       "      <td>NaN</td>\n",
       "      <td>NaN</td>\n",
       "      <td>NaN</td>\n",
       "      <td>NaN</td>\n",
       "      <td>NaN</td>\n",
       "      <td>...</td>\n",
       "      <td>NaN</td>\n",
       "      <td>NaN</td>\n",
       "      <td>NaN</td>\n",
       "      <td>NaN</td>\n",
       "      <td>NaN</td>\n",
       "      <td>NaN</td>\n",
       "      <td>NaN</td>\n",
       "      <td>NaN</td>\n",
       "      <td>NaN</td>\n",
       "      <td>NaN</td>\n",
       "    </tr>\n",
       "    <tr>\n",
       "      <th>5</th>\n",
       "      <td>NaN</td>\n",
       "      <td>NaN</td>\n",
       "      <td>2.0</td>\n",
       "      <td>NaN</td>\n",
       "      <td>NaN</td>\n",
       "      <td>NaN</td>\n",
       "      <td>NaN</td>\n",
       "      <td>4.0</td>\n",
       "      <td>NaN</td>\n",
       "      <td>NaN</td>\n",
       "      <td>...</td>\n",
       "      <td>NaN</td>\n",
       "      <td>NaN</td>\n",
       "      <td>NaN</td>\n",
       "      <td>4.0</td>\n",
       "      <td>NaN</td>\n",
       "      <td>NaN</td>\n",
       "      <td>NaN</td>\n",
       "      <td>NaN</td>\n",
       "      <td>4.0</td>\n",
       "      <td>NaN</td>\n",
       "    </tr>\n",
       "  </tbody>\n",
       "</table>\n",
       "<p>5 rows × 1664 columns</p>\n",
       "</div>"
      ],
      "text/plain": [
       "title    'Til There Was You (1997)  1-900 (1994)  101 Dalmatians (1996)  \\\n",
       "user_id                                                                   \n",
       "1                              NaN           NaN                    2.0   \n",
       "2                              NaN           NaN                    NaN   \n",
       "3                              NaN           NaN                    NaN   \n",
       "4                              NaN           NaN                    NaN   \n",
       "5                              NaN           NaN                    2.0   \n",
       "\n",
       "title    12 Angry Men (1957)  187 (1997)  2 Days in the Valley (1996)  \\\n",
       "user_id                                                                 \n",
       "1                        5.0         NaN                          NaN   \n",
       "2                        NaN         NaN                          NaN   \n",
       "3                        NaN         2.0                          NaN   \n",
       "4                        NaN         NaN                          NaN   \n",
       "5                        NaN         NaN                          NaN   \n",
       "\n",
       "title    20,000 Leagues Under the Sea (1954)  2001: A Space Odyssey (1968)  \\\n",
       "user_id                                                                      \n",
       "1                                        3.0                           4.0   \n",
       "2                                        NaN                           NaN   \n",
       "3                                        NaN                           NaN   \n",
       "4                                        NaN                           NaN   \n",
       "5                                        NaN                           4.0   \n",
       "\n",
       "title    3 Ninjas: High Noon At Mega Mountain (1998)  39 Steps, The (1935)  \\\n",
       "user_id                                                                      \n",
       "1                                                NaN                   NaN   \n",
       "2                                                1.0                   NaN   \n",
       "3                                                NaN                   NaN   \n",
       "4                                                NaN                   NaN   \n",
       "5                                                NaN                   NaN   \n",
       "\n",
       "title    ...  Yankee Zulu (1994)  Year of the Horse (1997)  \\\n",
       "user_id  ...                                                 \n",
       "1        ...                 NaN                       NaN   \n",
       "2        ...                 NaN                       NaN   \n",
       "3        ...                 NaN                       NaN   \n",
       "4        ...                 NaN                       NaN   \n",
       "5        ...                 NaN                       NaN   \n",
       "\n",
       "title    You So Crazy (1994)  Young Frankenstein (1974)  Young Guns (1988)  \\\n",
       "user_id                                                                      \n",
       "1                        NaN                        5.0                3.0   \n",
       "2                        NaN                        NaN                NaN   \n",
       "3                        NaN                        NaN                NaN   \n",
       "4                        NaN                        NaN                NaN   \n",
       "5                        NaN                        4.0                NaN   \n",
       "\n",
       "title    Young Guns II (1990)  Young Poisoner's Handbook, The (1995)  \\\n",
       "user_id                                                                \n",
       "1                         NaN                                    NaN   \n",
       "2                         NaN                                    NaN   \n",
       "3                         NaN                                    NaN   \n",
       "4                         NaN                                    NaN   \n",
       "5                         NaN                                    NaN   \n",
       "\n",
       "title    Zeus and Roxanne (1997)  unknown  Á köldum klaka (Cold Fever) (1994)  \n",
       "user_id                                                                        \n",
       "1                            NaN      4.0                                 NaN  \n",
       "2                            NaN      NaN                                 NaN  \n",
       "3                            NaN      NaN                                 NaN  \n",
       "4                            NaN      NaN                                 NaN  \n",
       "5                            NaN      4.0                                 NaN  \n",
       "\n",
       "[5 rows x 1664 columns]"
      ]
     },
     "execution_count": 28,
     "metadata": {},
     "output_type": "execute_result"
    }
   ],
   "source": [
    "# Criando DataFrame com usuários nas linhas e filmes nas colunas\n",
    "movie = df.pivot_table(index='user_id',columns='title',values='rating')\n",
    "movie.head()"
   ]
  },
  {
   "cell_type": "code",
   "execution_count": 29,
   "id": "8e47aefa",
   "metadata": {},
   "outputs": [
    {
     "name": "stdout",
     "output_type": "stream",
     "text": [
      "118 filmes recebem 200 votos ou mais!\n"
     ]
    }
   ],
   "source": [
    "votos = 200\n",
    "print(f'{(movie.count() >= votos).sum()} filmes recebem {votos} votos ou mais!')"
   ]
  },
  {
   "cell_type": "code",
   "execution_count": 30,
   "id": "2f24f282",
   "metadata": {},
   "outputs": [
    {
     "name": "stdout",
     "output_type": "stream",
     "text": [
      "4 filmes recebem 500 votos ou mais!\n"
     ]
    }
   ],
   "source": [
    "votos = 500\n",
    "print(f'{(movie.count() >= votos).sum()} filmes recebem {votos} votos ou mais!')"
   ]
  },
  {
   "cell_type": "markdown",
   "id": "5191fd37",
   "metadata": {},
   "source": [
    "Vamos utilizar Star Wars como target"
   ]
  },
  {
   "cell_type": "code",
   "execution_count": 31,
   "id": "86259481",
   "metadata": {},
   "outputs": [
    {
     "data": {
      "text/plain": [
       "user_id\n",
       "1    5.0\n",
       "2    5.0\n",
       "3    NaN\n",
       "4    5.0\n",
       "5    4.0\n",
       "Name: Star Wars (1977), dtype: float64"
      ]
     },
     "execution_count": 31,
     "metadata": {},
     "output_type": "execute_result"
    }
   ],
   "source": [
    "starwars_user_ratings = movie['Star Wars (1977)']\n",
    "starwars_user_ratings.head()"
   ]
  },
  {
   "cell_type": "markdown",
   "id": "aec2b41e",
   "metadata": {},
   "source": [
    "Agora, vamos obter a correlação entre duas Séries de Pandas:"
   ]
  },
  {
   "cell_type": "code",
   "execution_count": 32,
   "id": "8693c1d4",
   "metadata": {},
   "outputs": [
    {
     "name": "stderr",
     "output_type": "stream",
     "text": [
      "/home/apolo/anaconda3/envs/t22/lib/python3.8/site-packages/numpy/lib/function_base.py:2634: RuntimeWarning: Degrees of freedom <= 0 for slice\n",
      "  c = cov(x, y, rowvar, dtype=dtype)\n",
      "/home/apolo/anaconda3/envs/t22/lib/python3.8/site-packages/numpy/lib/function_base.py:2493: RuntimeWarning: divide by zero encountered in true_divide\n",
      "  c *= np.true_divide(1, fact)\n"
     ]
    },
    {
     "data": {
      "text/plain": [
       "title\n",
       "'Til There Was You (1997)    0.872872\n",
       "1-900 (1994)                -0.645497\n",
       "101 Dalmatians (1996)        0.211132\n",
       "12 Angry Men (1957)          0.184289\n",
       "187 (1997)                   0.027398\n",
       "dtype: float64"
      ]
     },
     "execution_count": 32,
     "metadata": {},
     "output_type": "execute_result"
    }
   ],
   "source": [
    "similar_to_starwars = movie.corrwith(starwars_user_ratings)\n",
    "similar_to_starwars.head()"
   ]
  },
  {
   "cell_type": "code",
   "execution_count": 33,
   "id": "499a7a26",
   "metadata": {},
   "outputs": [
    {
     "data": {
      "text/html": [
       "<div>\n",
       "<style scoped>\n",
       "    .dataframe tbody tr th:only-of-type {\n",
       "        vertical-align: middle;\n",
       "    }\n",
       "\n",
       "    .dataframe tbody tr th {\n",
       "        vertical-align: top;\n",
       "    }\n",
       "\n",
       "    .dataframe thead th {\n",
       "        text-align: right;\n",
       "    }\n",
       "</style>\n",
       "<table border=\"1\" class=\"dataframe\">\n",
       "  <thead>\n",
       "    <tr style=\"text-align: right;\">\n",
       "      <th></th>\n",
       "      <th>Correlation</th>\n",
       "    </tr>\n",
       "    <tr>\n",
       "      <th>title</th>\n",
       "      <th></th>\n",
       "    </tr>\n",
       "  </thead>\n",
       "  <tbody>\n",
       "    <tr>\n",
       "      <th>'Til There Was You (1997)</th>\n",
       "      <td>0.872872</td>\n",
       "    </tr>\n",
       "    <tr>\n",
       "      <th>1-900 (1994)</th>\n",
       "      <td>-0.645497</td>\n",
       "    </tr>\n",
       "    <tr>\n",
       "      <th>101 Dalmatians (1996)</th>\n",
       "      <td>0.211132</td>\n",
       "    </tr>\n",
       "    <tr>\n",
       "      <th>12 Angry Men (1957)</th>\n",
       "      <td>0.184289</td>\n",
       "    </tr>\n",
       "    <tr>\n",
       "      <th>187 (1997)</th>\n",
       "      <td>0.027398</td>\n",
       "    </tr>\n",
       "  </tbody>\n",
       "</table>\n",
       "</div>"
      ],
      "text/plain": [
       "                           Correlation\n",
       "title                                 \n",
       "'Til There Was You (1997)     0.872872\n",
       "1-900 (1994)                 -0.645497\n",
       "101 Dalmatians (1996)         0.211132\n",
       "12 Angry Men (1957)           0.184289\n",
       "187 (1997)                    0.027398"
      ]
     },
     "execution_count": 33,
     "metadata": {},
     "output_type": "execute_result"
    }
   ],
   "source": [
    "corr_starwars = pd.DataFrame(similar_to_starwars, columns=['Correlation'])\n",
    "corr_starwars.dropna(inplace=True)\n",
    "corr_starwars.head()"
   ]
  },
  {
   "cell_type": "code",
   "execution_count": 34,
   "id": "77e69cad",
   "metadata": {
    "scrolled": true
   },
   "outputs": [
    {
     "data": {
      "text/html": [
       "<div>\n",
       "<style scoped>\n",
       "    .dataframe tbody tr th:only-of-type {\n",
       "        vertical-align: middle;\n",
       "    }\n",
       "\n",
       "    .dataframe tbody tr th {\n",
       "        vertical-align: top;\n",
       "    }\n",
       "\n",
       "    .dataframe thead th {\n",
       "        text-align: right;\n",
       "    }\n",
       "</style>\n",
       "<table border=\"1\" class=\"dataframe\">\n",
       "  <thead>\n",
       "    <tr style=\"text-align: right;\">\n",
       "      <th></th>\n",
       "      <th>Correlation</th>\n",
       "    </tr>\n",
       "    <tr>\n",
       "      <th>title</th>\n",
       "      <th></th>\n",
       "    </tr>\n",
       "  </thead>\n",
       "  <tbody>\n",
       "    <tr>\n",
       "      <th>Hollow Reed (1996)</th>\n",
       "      <td>1.0</td>\n",
       "    </tr>\n",
       "    <tr>\n",
       "      <th>Stripes (1981)</th>\n",
       "      <td>1.0</td>\n",
       "    </tr>\n",
       "    <tr>\n",
       "      <th>Star Wars (1977)</th>\n",
       "      <td>1.0</td>\n",
       "    </tr>\n",
       "    <tr>\n",
       "      <th>Beans of Egypt, Maine, The (1994)</th>\n",
       "      <td>1.0</td>\n",
       "    </tr>\n",
       "    <tr>\n",
       "      <th>Safe Passage (1994)</th>\n",
       "      <td>1.0</td>\n",
       "    </tr>\n",
       "  </tbody>\n",
       "</table>\n",
       "</div>"
      ],
      "text/plain": [
       "                                   Correlation\n",
       "title                                         \n",
       "Hollow Reed (1996)                         1.0\n",
       "Stripes (1981)                             1.0\n",
       "Star Wars (1977)                           1.0\n",
       "Beans of Egypt, Maine, The (1994)          1.0\n",
       "Safe Passage (1994)                        1.0"
      ]
     },
     "execution_count": 34,
     "metadata": {},
     "output_type": "execute_result"
    }
   ],
   "source": [
    "corr_starwars.sort_values('Correlation',ascending=False).head()"
   ]
  },
  {
   "cell_type": "markdown",
   "id": "a2aa5b3a",
   "metadata": {},
   "source": [
    "É possível ver que vários filmes possuem correlação de 1.0, o que não necessariamente implica dizer que é uma boa recomendação. Pode significar que poucas pessoas avaliaram esses filmes e essas poucas pessoas também assistiram a Star Wars (já que este foi um filme bastante assistido). Para corrigir isso, vamos utilizar apenas filmes que tiveram pelo menos 100 avaliações."
   ]
  },
  {
   "cell_type": "code",
   "execution_count": 35,
   "id": "49aec14b",
   "metadata": {
    "scrolled": false
   },
   "outputs": [
    {
     "data": {
      "text/html": [
       "<div>\n",
       "<style scoped>\n",
       "    .dataframe tbody tr th:only-of-type {\n",
       "        vertical-align: middle;\n",
       "    }\n",
       "\n",
       "    .dataframe tbody tr th {\n",
       "        vertical-align: top;\n",
       "    }\n",
       "\n",
       "    .dataframe thead th {\n",
       "        text-align: right;\n",
       "    }\n",
       "</style>\n",
       "<table border=\"1\" class=\"dataframe\">\n",
       "  <thead>\n",
       "    <tr style=\"text-align: right;\">\n",
       "      <th></th>\n",
       "      <th>Correlation</th>\n",
       "      <th>quantidade_votos</th>\n",
       "    </tr>\n",
       "    <tr>\n",
       "      <th>title</th>\n",
       "      <th></th>\n",
       "      <th></th>\n",
       "    </tr>\n",
       "  </thead>\n",
       "  <tbody>\n",
       "    <tr>\n",
       "      <th>'Til There Was You (1997)</th>\n",
       "      <td>0.872872</td>\n",
       "      <td>9</td>\n",
       "    </tr>\n",
       "    <tr>\n",
       "      <th>1-900 (1994)</th>\n",
       "      <td>-0.645497</td>\n",
       "      <td>5</td>\n",
       "    </tr>\n",
       "    <tr>\n",
       "      <th>101 Dalmatians (1996)</th>\n",
       "      <td>0.211132</td>\n",
       "      <td>109</td>\n",
       "    </tr>\n",
       "    <tr>\n",
       "      <th>12 Angry Men (1957)</th>\n",
       "      <td>0.184289</td>\n",
       "      <td>125</td>\n",
       "    </tr>\n",
       "    <tr>\n",
       "      <th>187 (1997)</th>\n",
       "      <td>0.027398</td>\n",
       "      <td>41</td>\n",
       "    </tr>\n",
       "  </tbody>\n",
       "</table>\n",
       "</div>"
      ],
      "text/plain": [
       "                           Correlation  quantidade_votos\n",
       "title                                                   \n",
       "'Til There Was You (1997)     0.872872                 9\n",
       "1-900 (1994)                 -0.645497                 5\n",
       "101 Dalmatians (1996)         0.211132               109\n",
       "12 Angry Men (1957)           0.184289               125\n",
       "187 (1997)                    0.027398                41"
      ]
     },
     "execution_count": 35,
     "metadata": {},
     "output_type": "execute_result"
    }
   ],
   "source": [
    "corr_starwars = corr_starwars.join(aval['quantidade_votos'])\n",
    "corr_starwars.head()"
   ]
  },
  {
   "cell_type": "code",
   "execution_count": 36,
   "id": "09ae3774",
   "metadata": {},
   "outputs": [
    {
     "data": {
      "text/plain": [
       "1682"
      ]
     },
     "execution_count": 36,
     "metadata": {},
     "output_type": "execute_result"
    }
   ],
   "source": [
    "n_items"
   ]
  },
  {
   "cell_type": "code",
   "execution_count": 37,
   "id": "ce410127",
   "metadata": {
    "scrolled": false
   },
   "outputs": [
    {
     "data": {
      "text/html": [
       "<div>\n",
       "<style scoped>\n",
       "    .dataframe tbody tr th:only-of-type {\n",
       "        vertical-align: middle;\n",
       "    }\n",
       "\n",
       "    .dataframe tbody tr th {\n",
       "        vertical-align: top;\n",
       "    }\n",
       "\n",
       "    .dataframe thead th {\n",
       "        text-align: right;\n",
       "    }\n",
       "</style>\n",
       "<table border=\"1\" class=\"dataframe\">\n",
       "  <thead>\n",
       "    <tr style=\"text-align: right;\">\n",
       "      <th></th>\n",
       "      <th>Correlation</th>\n",
       "      <th>quantidade_votos</th>\n",
       "    </tr>\n",
       "    <tr>\n",
       "      <th>title</th>\n",
       "      <th></th>\n",
       "      <th></th>\n",
       "    </tr>\n",
       "  </thead>\n",
       "  <tbody>\n",
       "    <tr>\n",
       "      <th>Star Wars (1977)</th>\n",
       "      <td>1.000000</td>\n",
       "      <td>583</td>\n",
       "    </tr>\n",
       "    <tr>\n",
       "      <th>Empire Strikes Back, The (1980)</th>\n",
       "      <td>0.747981</td>\n",
       "      <td>367</td>\n",
       "    </tr>\n",
       "    <tr>\n",
       "      <th>Return of the Jedi (1983)</th>\n",
       "      <td>0.672556</td>\n",
       "      <td>507</td>\n",
       "    </tr>\n",
       "    <tr>\n",
       "      <th>Raiders of the Lost Ark (1981)</th>\n",
       "      <td>0.536117</td>\n",
       "      <td>420</td>\n",
       "    </tr>\n",
       "    <tr>\n",
       "      <th>Austin Powers: International Man of Mystery (1997)</th>\n",
       "      <td>0.377433</td>\n",
       "      <td>130</td>\n",
       "    </tr>\n",
       "  </tbody>\n",
       "</table>\n",
       "</div>"
      ],
      "text/plain": [
       "                                                    Correlation  \\\n",
       "title                                                             \n",
       "Star Wars (1977)                                       1.000000   \n",
       "Empire Strikes Back, The (1980)                        0.747981   \n",
       "Return of the Jedi (1983)                              0.672556   \n",
       "Raiders of the Lost Ark (1981)                         0.536117   \n",
       "Austin Powers: International Man of Mystery (1997)     0.377433   \n",
       "\n",
       "                                                    quantidade_votos  \n",
       "title                                                                 \n",
       "Star Wars (1977)                                                 583  \n",
       "Empire Strikes Back, The (1980)                                  367  \n",
       "Return of the Jedi (1983)                                        507  \n",
       "Raiders of the Lost Ark (1981)                                   420  \n",
       "Austin Powers: International Man of Mystery (1997)               130  "
      ]
     },
     "execution_count": 37,
     "metadata": {},
     "output_type": "execute_result"
    }
   ],
   "source": [
    "corr_starwars[corr_starwars['quantidade_votos'] > 100].sort_values('Correlation', ascending=False).head()"
   ]
  },
  {
   "cell_type": "markdown",
   "id": "1b1b3c4e",
   "metadata": {},
   "source": [
    "Agora sim, com pelo menos 100 avaliações por filme, temos um melhor vislumbre de quais filmes são melhores correlacionados com Star Wars. O primeiro, neste caso, é The Empire Strikes back. Em segundo lugar vem Return of the Jedi, que também é um filme da mesma franquia. Em terceiro, vem Raiders of the Lost Ark, que é um filme de aventura e ficção científica, tal qual Star Wars."
   ]
  },
  {
   "cell_type": "markdown",
   "id": "fbac3e51",
   "metadata": {},
   "source": [
    "# Sistema de Recomendação Baseada em Filtros colaborativos"
   ]
  },
  {
   "cell_type": "markdown",
   "id": "352208d5",
   "metadata": {},
   "source": [
    "## Train Test Split\n",
    "\n",
    "Dividindo os dados em duas bases: treino e validação, com 75% e 25% dos dados, respectivamente."
   ]
  },
  {
   "cell_type": "code",
   "execution_count": 38,
   "id": "27ed1db0",
   "metadata": {},
   "outputs": [],
   "source": [
    "from sklearn.model_selection import train_test_split\n",
    "train_data, val_data = train_test_split(df, test_size=0.25)"
   ]
  },
  {
   "cell_type": "markdown",
   "id": "f7a18ad2",
   "metadata": {},
   "source": [
    "## FC baseado em memória\n",
    "\n",
    "Pode ser dividido em dois principais grupos: **filtragem usuário-item (user-item)** e **Filtragem item-item**. \n",
    "\n",
    "**Filtragem usuário-item:** \n",
    " - seleciona um usuário qualquer, encontra outros usuários que são similares àquele usuário baseado nas similaridades das avaliações, e recomenda itens que estes usuários também gostaram.\n",
    "\n",
    "**Filtragem item-item:** \n",
    " - seleciona um item qualquer, encontra usuários que gostaram daquele item e busca itens que estes usuários ou usuários similares também gostaram. Seleciona itens e dá como resposta (recomendações) outros itens.\n",
    "\n",
    "\n",
    "De maneira geral:\n",
    "\n",
    "*Filtragem colaborativa Item-Item*: \"usuários que gostaram deste item também gostaram daquele\"\n",
    "\n",
    "*Filtragem Colaborativa usuário-Item*: \"usuários que são similares à você, também gostaram disto aqui\""
   ]
  },
  {
   "cell_type": "markdown",
   "id": "2cc63ec8",
   "metadata": {},
   "source": [
    "Em ambos os casos, criamos uma matriz usuário vs item com toda a base de dados. Separamos os dados em teste e treino e após, criamos duas matrizes ``[943 x 1682]``, contendo todos os usuários e filmes."
   ]
  },
  {
   "cell_type": "markdown",
   "id": "1d7ac9f5",
   "metadata": {},
   "source": [
    "A métrica de distância comumente utilizada em sistemas de recomendações é a *similaridade dos cossenos*, onde as avaliações são vistas como vetores no espço de dimensões ``n`` e a similaridade é calculada baseando-se no ângulo entre estes vetores. \n",
    "\n",
    "A similaridade entre cossenos para os usuários *a* e *m* pode ser calculada usando a fórmula abaixo, através do produto escalar entre o vetor do usuário *$ u_k$* e o vetor do usuário *$u_a$* dividido pelo produto entre as normas euclidianas dos vetores.\n",
    "\n",
    "<img class=\"aligncenter size-thumbnail img-responsive\" src=\"https://latex.codecogs.com/gif.latex?s_u^{cos}(u_k,u_a)=\\frac{u_k&space;\\cdot&space;u_a&space;}{&space;\\left&space;\\|&space;u_k&space;\\right&space;\\|&space;\\left&space;\\|&space;u_a&space;\\right&space;\\|&space;}&space;=\\frac{\\sum&space;x_{k,m}x_{a,m}}{\\sqrt{\\sum&space;x_{k,m}^2\\sum&space;x_{a,m}^2}}\"/>\n",
    "\n",
    "Para obter a similaridade entre os itens *m* and *b*, faz-se:\n",
    "\n",
    "<img class=\"aligncenter size-thumbnail img-responsive\" src=\"https://latex.codecogs.com/gif.latex?s_u^{cos}(i_m,i_b)=\\frac{i_m&space;\\cdot&space;i_b&space;}{&space;\\left&space;\\|&space;i_m&space;\\right&space;\\|&space;\\left&space;\\|&space;i_b&space;\\right&space;\\|&space;}&space;=\\frac{\\sum&space;x_{a,m}x_{a,b}}{\\sqrt{\\sum&space;x_{a,m}^2\\sum&space;x_{a,b}^2}}\n",
    "\"/>\n",
    "\n",
    "Primeiro passo é criar a matriz usuário-item. Cria-se uma matriz de zeros com o numpy.zeros, com dimensões igual à (n_user, n_items). Cada entrada da matriz (i, j) será igual  ao valor da avaliação. Por exemplo, a primeira instância tem par user_id = 196 e item_id = 242, com rating = 3; ou seja; a entrada (196, 242) terá valor 3."
   ]
  },
  {
   "cell_type": "code",
   "execution_count": 39,
   "id": "4a968e4c",
   "metadata": {
    "scrolled": false
   },
   "outputs": [
    {
     "data": {
      "text/html": [
       "<div>\n",
       "<style scoped>\n",
       "    .dataframe tbody tr th:only-of-type {\n",
       "        vertical-align: middle;\n",
       "    }\n",
       "\n",
       "    .dataframe tbody tr th {\n",
       "        vertical-align: top;\n",
       "    }\n",
       "\n",
       "    .dataframe thead th {\n",
       "        text-align: right;\n",
       "    }\n",
       "</style>\n",
       "<table border=\"1\" class=\"dataframe\">\n",
       "  <thead>\n",
       "    <tr style=\"text-align: right;\">\n",
       "      <th></th>\n",
       "      <th>user_id</th>\n",
       "      <th>item_id</th>\n",
       "      <th>rating</th>\n",
       "      <th>timestamp</th>\n",
       "      <th>genero</th>\n",
       "      <th>title</th>\n",
       "      <th>genero_string</th>\n",
       "    </tr>\n",
       "  </thead>\n",
       "  <tbody>\n",
       "    <tr>\n",
       "      <th>0</th>\n",
       "      <td>196</td>\n",
       "      <td>242</td>\n",
       "      <td>3</td>\n",
       "      <td>881250949</td>\n",
       "      <td>[0, 0, 0, 0, 0, 1, 0, 0, 0, 0, 0, 0, 0, 0, 0, ...</td>\n",
       "      <td>Kolya (1996)</td>\n",
       "      <td>[Comedy]</td>\n",
       "    </tr>\n",
       "  </tbody>\n",
       "</table>\n",
       "</div>"
      ],
      "text/plain": [
       "   user_id  item_id  rating  timestamp  \\\n",
       "0      196      242       3  881250949   \n",
       "\n",
       "                                              genero         title  \\\n",
       "0  [0, 0, 0, 0, 0, 1, 0, 0, 0, 0, 0, 0, 0, 0, 0, ...  Kolya (1996)   \n",
       "\n",
       "  genero_string  \n",
       "0      [Comedy]  "
      ]
     },
     "execution_count": 39,
     "metadata": {},
     "output_type": "execute_result"
    }
   ],
   "source": [
    "#mostrando a primeira instância\n",
    "df.loc[[0]]"
   ]
  },
  {
   "cell_type": "markdown",
   "id": "21236b68",
   "metadata": {},
   "source": [
    "### Criando duas matrizes usuário-item, uma para treinamento e a outra para teste\n"
   ]
  },
  {
   "cell_type": "code",
   "execution_count": 40,
   "id": "08000518",
   "metadata": {},
   "outputs": [],
   "source": [
    "train_data_matrix = np.zeros((n_users, n_items))\n",
    "for line in train_data.itertuples():\n",
    "    train_data_matrix[line[1]-1, line[2]-1] = line[3]  \n",
    "\n",
    "val_data_matrix = np.zeros((n_users, n_items))\n",
    "for line in val_data.itertuples():\n",
    "    val_data_matrix[line[1]-1, line[2]-1] = line[3]"
   ]
  },
  {
   "cell_type": "markdown",
   "id": "c98c9fb9",
   "metadata": {},
   "source": [
    "### Criando matrizes de similaridade para usuários e itens"
   ]
  },
  {
   "cell_type": "code",
   "execution_count": 41,
   "id": "c8752a16",
   "metadata": {},
   "outputs": [],
   "source": [
    "from sklearn.metrics.pairwise import pairwise_distances\n",
    "\n",
    "user_similarity = pairwise_distances(train_data_matrix, metric='cosine')\n",
    "item_similarity = pairwise_distances(train_data_matrix.T, metric='cosine')"
   ]
  },
  {
   "cell_type": "markdown",
   "id": "e6bf4c88",
   "metadata": {},
   "source": [
    "Próximo passo é realizar predições. Já temos as matrizes de similaridades: `user_similarity` e `item_similarity`. Assim, podemos realizar predições aplicando a seguinte fórmula para a filtragem colaborativa baseada em usuário:\n",
    "\n",
    "$$\\large\\hat{x}_{k, m}=\\bar{x}_{k} + \\frac{\\sum\\limits_{u_a}sim_u(u_k,u_a)(x_{a,m} - \\bar{x}_{u_a})}{\\sum\\limits_{u_a}|sim_u(u_k, u_a)|}$$\n",
    "\n",
    "Pode-se olhar para as similaridades entre os usuários *k* e *a* como pesos que são multiplicados pelas avaliações de um usuário similar *a*, corrigido pela avaliação média daquele usuário. É necessário normalizar, de modo que as avaliações permaneçam entre 1 e 5. Finalmente, soma-se as avaliações médias para o usuário que estamos tentando realizar a predição.\n",
    "\n",
    "A ideia é que alguns usuários tendem sempre a avaliarem os filmes muito positivamente ou muito negativamente. Dessa forma, a diferença relativa entre as avaliações desses usuários é mais importante do que o valor absoluto das avaliações. por exemplo: suponha que o usuário *k* dê 4 estrelas para seus filmes favoritos e 3 estrelas para todos os outros filmes bons. Suponha agora que outro usuário *t* avalie filmes que ele/ela goste, com 5 estrelas e filmes que ele/ela não gostou, com 3 estrelas. Ambos usuários poderiam ter gostos similares, mas tratam o sustema de avaliações de forma diferente.\n",
    "\n",
    "Quando se realiza predições com FC baseada em item, não é necessário corrigir pela média de avaliações dos usuários, uma vez que o próprio usuário é usado para fazer as previsões.\n",
    "\n",
    "$$\\large \\hat{x}_{k,m} \\frac{\\sum\\limits_{i_b} sim_i(i_m,i_b)(x_{k,b})}{\\sum\\limits_{i_b}|sim_i(i_m,i_b)|}$$"
   ]
  },
  {
   "cell_type": "code",
   "execution_count": 42,
   "id": "7dffe063",
   "metadata": {},
   "outputs": [],
   "source": [
    "def predict(ratings, similarity, type='user'):\n",
    "    if type == 'user':\n",
    "        mean_user_rating = ratings.mean(axis=1)\n",
    "        #usamos np.expand_dims(mean_user_rating,1) para que mean0user_rating tenha o mesmo shape dos ratings\n",
    "        ratings_diff = (ratings - np.expand_dims(mean_user_rating, axis=1) )\n",
    "        pred = np.expand_dims(mean_user_rating, axis= 1) + similarity.dot(ratings_diff) / np.array([np.abs(similarity).sum(axis=1)]).T\n",
    "    elif type == 'item':\n",
    "        pred = ratings.dot(similarity) / np.array([np.abs(similarity).sum(axis=1)])     \n",
    "    return pred"
   ]
  },
  {
   "cell_type": "code",
   "execution_count": 43,
   "id": "6bf20f20",
   "metadata": {},
   "outputs": [],
   "source": [
    "item_prediction = predict(train_data_matrix, item_similarity, type='item')\n",
    "user_prediction = predict(train_data_matrix, user_similarity, type='user')"
   ]
  },
  {
   "cell_type": "markdown",
   "id": "4ed7687a",
   "metadata": {},
   "source": [
    "## Avaliando os modelos\n",
    "\n",
    "Usaremos o **Erro Quadrático Médio** - *Root Mean Squared Error (RMSE)*. \n",
    "\n",
    "$$RMSE =\\sqrt{\\frac{1}{N} \\sum (x_i -\\hat{x_i})^2}$$"
   ]
  },
  {
   "cell_type": "markdown",
   "id": "61fe7d35",
   "metadata": {},
   "source": [
    "Uma vez que queremos considerar avaliações preditas que estão na base de teste, filtraremos todos os elementos na matriz de predição.\n",
    "\n",
    "o método nonzero() do NumPy retorna as posições do array que não são iguais à zero."
   ]
  },
  {
   "cell_type": "code",
   "execution_count": 44,
   "id": "273dfb3a",
   "metadata": {},
   "outputs": [],
   "source": [
    "def rmse(prediction, ground_truth):\n",
    "    prediction = prediction[ground_truth.nonzero()] \n",
    "    ground_truth = ground_truth[ground_truth.nonzero()]\n",
    "    return np.sqrt(mean_squared_error(prediction, ground_truth))"
   ]
  },
  {
   "cell_type": "markdown",
   "id": "222d752a",
   "metadata": {},
   "source": [
    "O resultado abaixo mostra que FC baseada em usuário retorna menor erro."
   ]
  },
  {
   "cell_type": "code",
   "execution_count": 45,
   "id": "ca76ccbc",
   "metadata": {
    "scrolled": true
   },
   "outputs": [
    {
     "name": "stdout",
     "output_type": "stream",
     "text": [
      "RMSE para FC baseada em usuário: 3.129617606146242\n",
      "RMSE para FC baseada em item: 3.458067440636283\n"
     ]
    }
   ],
   "source": [
    "print('RMSE para FC baseada em usuário: ' + str(rmse(user_prediction, val_data_matrix)))\n",
    "print('RMSE para FC baseada em item: ' + str(rmse(item_prediction, val_data_matrix)))"
   ]
  },
  {
   "cell_type": "markdown",
   "id": "9a853e21",
   "metadata": {},
   "source": [
    "Algoritmos baseados em memória são fáceis de implementar e produzem uma qualidade de previsão razoável. A desvantagem é que não se adaptam a cenários do mundo real e não abordam o conhecido problema de \"partida a frio\", que é quando um novo usuário ou novo item entra no sistema. Os métodos FC baseados em modelo são escalonáveis e podem lidar com um nível de esparsidade mais alto do que os modelos baseados em memória, mas também sofrem quando novos usuários ou itens que não têm nenhuma classificação entram no sistema."
   ]
  },
  {
   "cell_type": "markdown",
   "id": "1ba5c9c3",
   "metadata": {},
   "source": [
    "# Filtragem colaborativa baseada em modelo\n",
    "\n",
    "FC baseada em modelo é realizada em cima de decomposição matricial. Este método é amplamente utilizado em sistemas de recomendações, pelo seu poder de lidar melhor com escalabilidade e esparcialidade do que FC baseada em memória. A ideia por trás deste método é aprender preferências latentes dos usuários e as características latentes dos itens, a partir de avaliações conhecidas (aprender atributos que descrevem características das avaliações) para em seguida, fazer previsões de avaliações desconhecidas através do produto interno entre atributos latentes dos usuários e itens.\n",
    "\n",
    "Caso estejamos lidando com matrizes muito esparsas, com muitas dimensões, ao realizar a decomposição matricial podemos rearranjar a matriz usuário-item em uma estrutura de menor posto. Desta forma, pode-se representar a matriz através da multiplicação de duas matrizes de menor posto, onde as linhas contêm o vetor latente. Essa matriz deve se aproximar o máximo possível da matriz original. Para isso, multiplicamos as matrizes de menor posto, de modo a preencher as entradas que são faltantes na matriz original."
   ]
  },
  {
   "cell_type": "markdown",
   "id": "5e469a69",
   "metadata": {},
   "source": [
    "Obtendo a esparcialidade do dataset original:"
   ]
  },
  {
   "cell_type": "code",
   "execution_count": 46,
   "id": "b5f6551d",
   "metadata": {
    "scrolled": true
   },
   "outputs": [
    {
     "name": "stdout",
     "output_type": "stream",
     "text": [
      "O nível de esparcialidade do dataset MovieLens é 93.7%\n"
     ]
    }
   ],
   "source": [
    "sparsity = round(1.0 - len(df)/(n_users*n_items), 3)\n",
    "print('O nível de esparcialidade do dataset MovieLens é ' +  str(sparsity*100) + '%')"
   ]
  },
  {
   "cell_type": "markdown",
   "id": "4779917b",
   "metadata": {},
   "source": [
    "Com a imagem abaixo, conseguimos ter uma ideia melhor da quantidade de `Nans` (em roxo), frente às posições com valores numéricos (em amarelo)."
   ]
  },
  {
   "cell_type": "code",
   "execution_count": 47,
   "id": "8a90ec6c",
   "metadata": {},
   "outputs": [
    {
     "data": {
      "image/png": "[encoded data removed]",
      "text/plain": [
       "<Figure size 1080x576 with 1 Axes>"
      ]
     },
     "metadata": {
      "needs_background": "light"
     },
     "output_type": "display_data"
    }
   ],
   "source": [
    "plt.figure(figsize=(15,8))\n",
    "sns.heatmap(movie.notnull(), cmap='viridis', cbar=False)\n",
    "plt.savefig('images/matrix.png', bbox_inches='tight', dpi=200);"
   ]
  },
  {
   "cell_type": "markdown",
   "id": "351e6efd",
   "metadata": {},
   "source": [
    "Sitemas que levam em conta tanto características avaliativas quanto de atributos, são chamados de **Sistemas de recomendação híbridos**, onde a filtragem colaborativa e os modelos baseados em conteúdo são combinados. Estes sistemas de recomendação geralmente mostram maior precisão do que os modelos de filtragem colaborativa ou baseados em conteúdo separadamente, pois são capazes de resolver o problema de \"partida a frio\" melhor, já que se você não tiver nenhuma classificação para um usuário ou item, poderá usar metadados do usuário ou item para realizar uma previsão."
   ]
  },
  {
   "cell_type": "markdown",
   "id": "bc1b3309",
   "metadata": {},
   "source": [
    "## SVD\n",
    "\n",
    "Um método muito conhecido de decomposição de matrizes é a **decomposição em valores singulares** - *Singular value decomposition (SVD)*. É possível fazer uma aproximação da matriz de Filtragem Colaborativa `X`, usando SVD. Um caso de sucesso da utilização de SVD em sistemas de recomendação foi obtido pelo time vencedor da **Netflix Prize competition** [Netflix Prize and SVD](http://buzzard.ups.edu/courses/2014spring/420projects/math420-UPS-spring-2014-gower-netflix-SVD.pdf).\n",
    "\n",
    "Matematicamente, a expressão geral de SVD é dada por:\n",
    "\n",
    " $$X=USV^T$$\n",
    "\n",
    "\n",
    "Seja `X` a matriz com dimensões `m x n`, a matrix *`X`* pode ser fatorada em *`U`*, *`S`* e *`V`*, de modo que :\n",
    "* *`U`* é uma matriz ortogonal *`(m x r)`*\n",
    "* *`S`* é uma matriz diagonal com números reais não-negativos na diagonal *`(r x r)`*\n",
    "* *$V^T$* é uma matriz ortogonal *`(r x n)`*\n",
    "\n",
    "Elementos na diagonal de `S` são conhecidos como *valores singulares de`X`*. \n",
    "\n",
    "\n",
    "A matriz *`U`* representa vetores de características, correspondendo aos usuários no espaço dos atributos ocultos e *`V`* representa a matriz de vetores de características correspondendo aos itens no espaço de atributos oculto.\n",
    "\n",
    "Finalmente, realizamos predições com o produto interno entre *`U`*, *`S`* e *$V^T$*."
   ]
  },
  {
   "cell_type": "code",
   "execution_count": 48,
   "id": "b0cefb26",
   "metadata": {},
   "outputs": [],
   "source": [
    "import scipy.sparse as sp\n",
    "from scipy.sparse.linalg import svds"
   ]
  },
  {
   "cell_type": "markdown",
   "id": "453ccddd",
   "metadata": {},
   "source": [
    "Na escolha do valor de k para o svd truncado, é possível ver que o menor rmse é retornado para k igual a 13. Importante notar que não estamos utilizando um dado de teste. Aqui, apenas fazemos uso de treino e validação. O ideal seria utilizar um dado de teste para verificar a eficácia real do modelo em dados não vistos."
   ]
  },
  {
   "cell_type": "code",
   "execution_count": 49,
   "id": "6c2175a0",
   "metadata": {
    "scrolled": true
   },
   "outputs": [
    {
     "data": {
      "text/plain": [
       "{11: 2.67913291212265,\n",
       " 10: 2.6791929978075277,\n",
       " 12: 2.6798014153163714,\n",
       " 13: 2.68040743596476,\n",
       " 9: 2.6842103216735516,\n",
       " 14: 2.6845766942807843,\n",
       " 15: 2.6895355487699537,\n",
       " 8: 2.691182823457328,\n",
       " 16: 2.6943137977861515,\n",
       " 17: 2.698944460993392,\n",
       " 7: 2.704372188229911,\n",
       " 18: 2.7069024572443303,\n",
       " 19: 2.7149744616022735,\n",
       " 6: 2.719258639328713,\n",
       " 20: 2.721978944705935,\n",
       " 21: 2.730212627428355,\n",
       " 22: 2.7396031614749474,\n",
       " 23: 2.7467817691660628,\n",
       " 5: 2.747620946270434,\n",
       " 24: 2.7550119782475333,\n",
       " 25: 2.7628754870732624,\n",
       " 26: 2.7719367930348637,\n",
       " 27: 2.7816763513710057,\n",
       " 28: 2.7915401303376366,\n",
       " 29: 2.7998520081227936}"
      ]
     },
     "execution_count": 49,
     "metadata": {},
     "output_type": "execute_result"
    }
   ],
   "source": [
    "dic_rmse = {}\n",
    "\n",
    "K = range(5, 30)\n",
    "for k in K:\n",
    "    u, s, vt = svds(train_data_matrix, k = k)\n",
    "    s_diag_matrix=np.diag(s)\n",
    "    X_pred = np.dot(np.dot(u, s_diag_matrix), vt)\n",
    "    dic_rmse[k] = rmse(X_pred, val_data_matrix)\n",
    "    \n",
    "sorted_dic = dict(sorted(dic_rmse.items(), key=lambda x:x[1]))\n",
    "sorted_dic"
   ]
  },
  {
   "cell_type": "code",
   "execution_count": 50,
   "id": "288b962e",
   "metadata": {},
   "outputs": [
    {
     "data": {
      "image/png": "[encoded data removed]",
      "text/plain": [
       "<Figure size 576x360 with 1 Axes>"
      ]
     },
     "metadata": {
      "needs_background": "light"
     },
     "output_type": "display_data"
    }
   ],
   "source": [
    "plt.figure(figsize=(8, 5))\n",
    "plt.plot(list(dic_rmse.keys()), list(dic_rmse.values()), 'bx-')\n",
    "plt.xlabel('K', fontsize=14)\n",
    "plt.ylabel('RMSE', fontsize=14);"
   ]
  },
  {
   "cell_type": "markdown",
   "id": "96aa4955",
   "metadata": {},
   "source": [
    "Graficamente, conseguimos um valor baixo já para k = 10. Portanto, vamos utilizar esse valor."
   ]
  },
  {
   "cell_type": "code",
   "execution_count": 51,
   "id": "5c4dc656",
   "metadata": {
    "scrolled": false
   },
   "outputs": [
    {
     "name": "stdout",
     "output_type": "stream",
     "text": [
      "RMSE para FC baseada em usuário: 2.6791929978075273\n"
     ]
    }
   ],
   "source": [
    "#obtendo os componentes SVD da matriz de treino com valor ótimo de k.\n",
    "u, s, vt = svds(train_data_matrix, k = 10)\n",
    "s_diag_matrix=np.diag(s)\n",
    "X_pred = np.dot(np.dot(u, s_diag_matrix), vt)\n",
    "print('RMSE para FC baseada em usuário: ' + str(rmse(X_pred, val_data_matrix)))"
   ]
  },
  {
   "cell_type": "markdown",
   "id": "d2d51226",
   "metadata": {},
   "source": [
    "Conseguimos reduzir consideravelmente o RMSE, fazendo uso de SVD!!!"
   ]
  },
  {
   "cell_type": "markdown",
   "id": "06b718d3",
   "metadata": {},
   "source": [
    "### Quais filmes poderíamos indicar para o usuário de ID 20?"
   ]
  },
  {
   "cell_type": "code",
   "execution_count": 52,
   "id": "8918d939",
   "metadata": {},
   "outputs": [],
   "source": [
    "from sklearn.preprocessing import MinMaxScaler"
   ]
  },
  {
   "cell_type": "markdown",
   "id": "b80bae44",
   "metadata": {},
   "source": [
    "### Colocando X_pred na escala entre 1 e 5, para ficar na mesma escala dos dados reais"
   ]
  },
  {
   "cell_type": "code",
   "execution_count": 53,
   "id": "44e16851",
   "metadata": {},
   "outputs": [],
   "source": [
    "scaler = MinMaxScaler(feature_range=(1, 5))\n",
    "X_pred_transformed = scaler.fit_transform(X_pred)"
   ]
  },
  {
   "cell_type": "markdown",
   "id": "fb04cb08",
   "metadata": {},
   "source": [
    "### Avaliações de todos os itens preditos para o usuário 20"
   ]
  },
  {
   "cell_type": "code",
   "execution_count": 54,
   "id": "4ab3416f",
   "metadata": {
    "scrolled": false
   },
   "outputs": [
    {
     "data": {
      "text/plain": [
       "array([2.90135808, 1.31641513, 2.3174205 , ..., 2.83509673, 2.99747026,\n",
       "       2.82884389])"
      ]
     },
     "execution_count": 54,
     "metadata": {},
     "output_type": "execute_result"
    }
   ],
   "source": [
    "X_pred_transformed[20,:]"
   ]
  },
  {
   "cell_type": "markdown",
   "id": "15f75510",
   "metadata": {},
   "source": [
    "Análise dos dados de treino para o usuário 20, de filmes avaliados com 4 ou 5 estrelas\n",
    "\n",
    "Vamos agrupar os filmes por gênero e verificar quantos filmes fazem parte de cada gênero"
   ]
  },
  {
   "cell_type": "code",
   "execution_count": 55,
   "id": "29233e22",
   "metadata": {},
   "outputs": [
    {
     "data": {
      "text/plain": [
       "{'Action': 9,\n",
       " 'Drama': 5,\n",
       " 'War': 2,\n",
       " 'Adventure': 7,\n",
       " 'Sci-Fi': 3,\n",
       " 'Thriller': 5,\n",
       " 'Romance': 3,\n",
       " \"Children's\": 1,\n",
       " 'Comedy': 2}"
      ]
     },
     "execution_count": 55,
     "metadata": {},
     "output_type": "execute_result"
    }
   ],
   "source": [
    "nested = [a[i] for a in train_data[(train_data.user_id == 20) & (train_data.rating > 3)].sort_values('item_id').genero_string.values for i in range(len(a))]\n",
    "count_genero = {j:nested.count(j) for j in nested}\n",
    "count_genero"
   ]
  },
  {
   "cell_type": "markdown",
   "id": "bb763ae4",
   "metadata": {},
   "source": [
    "**Preferências:**\n",
    " - Ação\n",
    " - Drama, Aventura e suspense"
   ]
  },
  {
   "cell_type": "markdown",
   "id": "ff77267b",
   "metadata": {},
   "source": [
    "### Posiçao matricial dos itens preditos com avaliação superior a 3.5, para o usuário 20."
   ]
  },
  {
   "cell_type": "code",
   "execution_count": 56,
   "id": "5031e04b",
   "metadata": {},
   "outputs": [
    {
     "data": {
      "text/plain": [
       "array([ 105,  129,  244,  257,  322,  369,  405,  423,  562,  589,  594,\n",
       "        677,  705,  759,  838,  843,  858,  859,  867,  871,  980,  982,\n",
       "        983,  987, 1014, 1024, 1025, 1101, 1155, 1186, 1319, 1324, 1325,\n",
       "       1326, 1327, 1338, 1340, 1347, 1348, 1350, 1353, 1354, 1357, 1361,\n",
       "       1362, 1365, 1370, 1372, 1391, 1404, 1442, 1525, 1615, 1672, 1676])"
      ]
     },
     "execution_count": 56,
     "metadata": {},
     "output_type": "execute_result"
    }
   ],
   "source": [
    "np.where(X_pred_transformed[20,:] > 3.5)[0]"
   ]
  },
  {
   "cell_type": "code",
   "execution_count": 57,
   "id": "7d054c2c",
   "metadata": {
    "scrolled": false
   },
   "outputs": [
    {
     "name": "stdout",
     "output_type": "stream",
     "text": [
      "Men in Black (1997) \t ['Action', 'Adventure', 'Comedy', 'Sci-Fi'] \n",
      "\n",
      "Romy and Michele's High School Reunion (1997) \t ['Comedy'] \n",
      "\n",
      "Murder at 1600 (1997) \t ['Mystery', 'Thriller'] \n",
      "\n",
      "E.T. the Extra-Terrestrial (1982) \t [\"Children's\", 'Drama', 'Fantasy', 'Sci-Fi'] \n",
      "\n",
      "Mission: Impossible (1996) \t ['Action', 'Adventure', 'Mystery'] \n",
      "\n",
      "Singin' in the Rain (1952) \t ['Musical', 'Romance'] \n",
      "\n",
      "Bound (1996) \t ['Crime', 'Drama', 'Romance', 'Thriller'] \n",
      "\n",
      "Wild Bunch, The (1969) \t ['Western'] \n",
      "\n",
      "Maximum Risk (1996) \t ['Action', 'Adventure', 'Thriller'] \n",
      "\n",
      "Amityville: Dollhouse (1996) \t ['Horror'] \n",
      "\n",
      "Sgt. Bilko (1996) \t ['Comedy'] \n",
      "\n",
      "Captives (1994) \t ['Drama'] \n",
      "\n",
      "Crows and Sparrows (1949) \t ['Drama'] \n",
      "\n",
      "Six Degrees of Separation (1993) \t ['Drama', 'Mystery'] \n",
      "\n",
      "Inkwell, The (1994) \t ['Comedy', 'Drama'] \n",
      "\n",
      "Smilla's Sense of Snow (1997) \t ['Action', 'Drama', 'Thriller'] \n",
      "\n",
      "Mother Night (1996) \t ['Drama'] \n",
      "\n",
      "Rich Man's Wife, The (1996) \t ['Thriller'] \n",
      "\n",
      "Every Other Weekend (1990) \t ['Drama'] \n",
      "\n",
      "Black Sheep (1996) \t ['Comedy'] \n",
      "\n",
      "Shaggy Dog, The (1959) \t [\"Children's\", 'Comedy'] \n",
      "\n",
      "Loaded (1994) \t ['Drama', 'Thriller'] \n",
      "\n",
      "April Fool's Day (1986) \t ['Comedy', 'Horror'] \n",
      "\n",
      "In the Line of Duty 2 (1987) \t ['Action'] \n",
      "\n",
      "Fire Down Below (1997) \t ['Action', 'Drama', 'Thriller'] \n",
      "\n",
      "Quick and the Dead, The (1995) \t ['Action', 'Adventure', 'Western'] \n",
      "\n",
      "Whole Wide World, The (1996) \t ['Drama'] \n",
      "\n",
      "Scarlet Letter, The (1995) \t ['Drama'] \n",
      "\n",
      "Ballad of Narayama, The (Narayama Bushiko) (1958) \t ['Drama'] \n",
      "\n",
      "Vegas Vacation (1997) \t ['Comedy'] \n",
      "\n",
      "American Strays (1996) \t ['Action'] \n",
      "\n",
      "Stranger, The (1994) \t ['Action'] \n",
      "\n",
      "Fair Game (1995) \t ['Action'] \n",
      "\n",
      "Mrs. Dalloway (1997) \t ['Romance'] \n",
      "\n",
      "I Can't Sleep (J'ai pas sommeil) (1994) \t ['Drama', 'Thriller'] \n",
      "\n",
      "Heavy (1995) \t ['Drama', 'Romance'] \n",
      "\n",
      "Search for One-eye Jimmy, The (1996) \t ['Comedy'] \n",
      "\n",
      "1-900 (1994) \t ['Romance'] \n",
      "\n",
      "Withnail and I (1987) \t ['Comedy'] \n",
      "\n",
      "For the Moment (1994) \t ['Romance', 'War'] \n",
      "\n",
      "Two Deaths (1995) \t ['Drama'] \n",
      "\n",
      "Venice/Venice (1992) \t ['Drama'] \n",
      "\n",
      "For Ever Mozart (1996) \t ['Drama'] \n",
      "\n",
      "Boys (1996) \t ['Drama'] \n",
      "\n",
      "Fire on the Mountain (1996) \t ['Documentary'] \n",
      "\n",
      "Object of My Affection, The (1998) \t ['Comedy', 'Romance'] \n",
      "\n",
      "Crude Oasis, The (1995) \t ['Romance'] \n",
      "\n",
      "Neon Bible, The (1995) \t ['Drama'] \n",
      "\n",
      "Rendezvous in Paris (Rendez-vous de Paris, Les) (1995) \t ['Comedy', 'Romance'] \n",
      "\n",
      "Warriors of Virtue (1997) \t ['Action', 'Adventure', \"Children's\", 'Fantasy'] \n",
      "\n",
      "Johnny 100 Pesos (1993) \t ['Action', 'Drama'] \n",
      "\n",
      "Underworld (1997) \t ['Thriller'] \n",
      "\n",
      "Kika (1993) \t ['Drama'] \n",
      "\n",
      "War at Home, The (1996) \t ['Drama'] \n",
      "\n",
      "August (1996) \t ['Drama'] \n",
      "\n"
     ]
    }
   ],
   "source": [
    "df_unique = df[df.item_id.isin(np.where(X_pred_transformed[20,:] > 3.5)[0])].drop_duplicates(subset='item_id')\n",
    "\n",
    "for i, row in df_unique.iterrows():\n",
    "    print(row['title'],'\\t', row['genero_string'], '\\n')"
   ]
  },
  {
   "cell_type": "code",
   "execution_count": 58,
   "id": "6b663bd6",
   "metadata": {
    "scrolled": true
   },
   "outputs": [
    {
     "data": {
      "text/plain": [
       "{'Comedy': 12,\n",
       " 'Crime': 1,\n",
       " 'Drama': 25,\n",
       " 'Romance': 9,\n",
       " 'Thriller': 9,\n",
       " 'Action': 12,\n",
       " 'Adventure': 5,\n",
       " 'Sci-Fi': 2,\n",
       " 'Mystery': 3,\n",
       " \"Children's\": 3,\n",
       " 'Fantasy': 2,\n",
       " 'Western': 2,\n",
       " 'Documentary': 1,\n",
       " 'Musical': 1,\n",
       " 'Horror': 2,\n",
       " 'War': 1}"
      ]
     },
     "execution_count": 58,
     "metadata": {},
     "output_type": "execute_result"
    }
   ],
   "source": [
    "nested = [a[i] for a in df_unique.sort_values('item_id').genero_string.values for i in range(len(a))]\n",
    "count_genero = {j:nested.count(j) for j in nested}\n",
    "count_genero"
   ]
  },
  {
   "cell_type": "markdown",
   "id": "fccd60ef",
   "metadata": {},
   "source": [
    "### Recomendando de filmes para o usuário de ID 20, considerando avaliações superiores a 4, baseado no valor predito, usando o dataframe original"
   ]
  },
  {
   "cell_type": "code",
   "execution_count": 60,
   "id": "901f6e40",
   "metadata": {
    "scrolled": false
   },
   "outputs": [
    {
     "name": "stderr",
     "output_type": "stream",
     "text": [
      "<ipython-input-60-67fff38465c9>:1: UserWarning: Boolean Series key will be reindexed to match DataFrame index.\n",
      "  train_data[df.item_id.isin(np.where(X_pred_transformed[20,:] > 3.5)[0])].drop_duplicates(subset='item_id').sort_values('rating', ascending=False)\n"
     ]
    },
    {
     "data": {
      "text/html": [
       "<div>\n",
       "<style scoped>\n",
       "    .dataframe tbody tr th:only-of-type {\n",
       "        vertical-align: middle;\n",
       "    }\n",
       "\n",
       "    .dataframe tbody tr th {\n",
       "        vertical-align: top;\n",
       "    }\n",
       "\n",
       "    .dataframe thead th {\n",
       "        text-align: right;\n",
       "    }\n",
       "</style>\n",
       "<table border=\"1\" class=\"dataframe\">\n",
       "  <thead>\n",
       "    <tr style=\"text-align: right;\">\n",
       "      <th></th>\n",
       "      <th>user_id</th>\n",
       "      <th>item_id</th>\n",
       "      <th>rating</th>\n",
       "      <th>timestamp</th>\n",
       "      <th>genero</th>\n",
       "      <th>title</th>\n",
       "      <th>genero_string</th>\n",
       "    </tr>\n",
       "  </thead>\n",
       "  <tbody>\n",
       "    <tr>\n",
       "      <th>1489</th>\n",
       "      <td>178</td>\n",
       "      <td>257</td>\n",
       "      <td>5</td>\n",
       "      <td>882823954</td>\n",
       "      <td>[0, 1, 1, 0, 0, 1, 0, 0, 0, 0, 0, 0, 0, 0, 0, ...</td>\n",
       "      <td>Men in Black (1997)</td>\n",
       "      <td>[Action, Adventure, Comedy, Sci-Fi]</td>\n",
       "    </tr>\n",
       "    <tr>\n",
       "      <th>65627</th>\n",
       "      <td>7</td>\n",
       "      <td>589</td>\n",
       "      <td>5</td>\n",
       "      <td>891352451</td>\n",
       "      <td>[0, 0, 0, 0, 0, 0, 0, 0, 0, 0, 0, 0, 0, 0, 0, ...</td>\n",
       "      <td>Wild Bunch, The (1969)</td>\n",
       "      <td>[Western]</td>\n",
       "    </tr>\n",
       "    <tr>\n",
       "      <th>36043</th>\n",
       "      <td>60</td>\n",
       "      <td>705</td>\n",
       "      <td>4</td>\n",
       "      <td>883326710</td>\n",
       "      <td>[0, 0, 0, 0, 0, 0, 0, 0, 0, 0, 0, 0, 1, 0, 1, ...</td>\n",
       "      <td>Singin' in the Rain (1952)</td>\n",
       "      <td>[Musical, Romance]</td>\n",
       "    </tr>\n",
       "    <tr>\n",
       "      <th>99421</th>\n",
       "      <td>500</td>\n",
       "      <td>1326</td>\n",
       "      <td>4</td>\n",
       "      <td>883865020</td>\n",
       "      <td>[0, 0, 0, 0, 0, 0, 0, 0, 1, 0, 0, 0, 0, 0, 0, ...</td>\n",
       "      <td>Boys (1996)</td>\n",
       "      <td>[Drama]</td>\n",
       "    </tr>\n",
       "    <tr>\n",
       "      <th>74710</th>\n",
       "      <td>663</td>\n",
       "      <td>1327</td>\n",
       "      <td>4</td>\n",
       "      <td>889493210</td>\n",
       "      <td>[0, 0, 0, 0, 0, 0, 0, 0, 1, 0, 0, 0, 0, 0, 0, ...</td>\n",
       "      <td>Captives (1994)</td>\n",
       "      <td>[Drama]</td>\n",
       "    </tr>\n",
       "    <tr>\n",
       "      <th>78724</th>\n",
       "      <td>234</td>\n",
       "      <td>1186</td>\n",
       "      <td>4</td>\n",
       "      <td>892335707</td>\n",
       "      <td>[0, 0, 0, 0, 0, 1, 0, 0, 1, 0, 0, 0, 0, 0, 0, ...</td>\n",
       "      <td>Inkwell, The (1994)</td>\n",
       "      <td>[Comedy, Drama]</td>\n",
       "    </tr>\n",
       "    <tr>\n",
       "      <th>88358</th>\n",
       "      <td>456</td>\n",
       "      <td>1324</td>\n",
       "      <td>4</td>\n",
       "      <td>881371720</td>\n",
       "      <td>[0, 0, 0, 0, 0, 0, 0, 0, 1, 0, 0, 0, 0, 0, 0, ...</td>\n",
       "      <td>Loaded (1994)</td>\n",
       "      <td>[Drama, Thriller]</td>\n",
       "    </tr>\n",
       "    <tr>\n",
       "      <th>95228</th>\n",
       "      <td>449</td>\n",
       "      <td>1372</td>\n",
       "      <td>4</td>\n",
       "      <td>880410834</td>\n",
       "      <td>[0, 1, 0, 0, 0, 0, 0, 0, 0, 0, 0, 0, 0, 0, 0, ...</td>\n",
       "      <td>Stranger, The (1994)</td>\n",
       "      <td>[Action]</td>\n",
       "    </tr>\n",
       "    <tr>\n",
       "      <th>78207</th>\n",
       "      <td>391</td>\n",
       "      <td>1101</td>\n",
       "      <td>4</td>\n",
       "      <td>877399423</td>\n",
       "      <td>[0, 0, 0, 0, 0, 0, 0, 0, 1, 0, 0, 0, 0, 1, 0, ...</td>\n",
       "      <td>Six Degrees of Separation (1993)</td>\n",
       "      <td>[Drama, Mystery]</td>\n",
       "    </tr>\n",
       "    <tr>\n",
       "      <th>7956</th>\n",
       "      <td>548</td>\n",
       "      <td>322</td>\n",
       "      <td>4</td>\n",
       "      <td>891043509</td>\n",
       "      <td>[0, 0, 0, 0, 0, 0, 0, 0, 0, 0, 0, 0, 0, 1, 0, ...</td>\n",
       "      <td>Murder at 1600 (1997)</td>\n",
       "      <td>[Mystery, Thriller]</td>\n",
       "    </tr>\n",
       "    <tr>\n",
       "      <th>98220</th>\n",
       "      <td>269</td>\n",
       "      <td>1361</td>\n",
       "      <td>4</td>\n",
       "      <td>891446756</td>\n",
       "      <td>[0, 0, 0, 0, 0, 1, 0, 0, 0, 0, 0, 0, 0, 0, 0, ...</td>\n",
       "      <td>Search for One-eye Jimmy, The (1996)</td>\n",
       "      <td>[Comedy]</td>\n",
       "    </tr>\n",
       "    <tr>\n",
       "      <th>65026</th>\n",
       "      <td>344</td>\n",
       "      <td>129</td>\n",
       "      <td>4</td>\n",
       "      <td>884899346</td>\n",
       "      <td>[0, 0, 0, 0, 0, 0, 1, 0, 1, 0, 0, 0, 0, 0, 1, ...</td>\n",
       "      <td>Bound (1996)</td>\n",
       "      <td>[Crime, Drama, Romance, Thriller]</td>\n",
       "    </tr>\n",
       "    <tr>\n",
       "      <th>69871</th>\n",
       "      <td>534</td>\n",
       "      <td>105</td>\n",
       "      <td>4</td>\n",
       "      <td>877808198</td>\n",
       "      <td>[0, 0, 0, 0, 0, 1, 0, 0, 0, 0, 0, 0, 0, 0, 0, ...</td>\n",
       "      <td>Sgt. Bilko (1996)</td>\n",
       "      <td>[Comedy]</td>\n",
       "    </tr>\n",
       "    <tr>\n",
       "      <th>98406</th>\n",
       "      <td>308</td>\n",
       "      <td>1404</td>\n",
       "      <td>4</td>\n",
       "      <td>887739257</td>\n",
       "      <td>[0, 0, 0, 0, 0, 1, 0, 0, 0, 0, 0, 0, 0, 0, 0, ...</td>\n",
       "      <td>Withnail and I (1987)</td>\n",
       "      <td>[Comedy]</td>\n",
       "    </tr>\n",
       "    <tr>\n",
       "      <th>99678</th>\n",
       "      <td>655</td>\n",
       "      <td>1319</td>\n",
       "      <td>3</td>\n",
       "      <td>887426373</td>\n",
       "      <td>[0, 0, 0, 0, 0, 0, 0, 0, 1, 0, 0, 0, 0, 0, 0, ...</td>\n",
       "      <td>Neon Bible, The (1995)</td>\n",
       "      <td>[Drama]</td>\n",
       "    </tr>\n",
       "    <tr>\n",
       "      <th>97032</th>\n",
       "      <td>871</td>\n",
       "      <td>1024</td>\n",
       "      <td>3</td>\n",
       "      <td>888192689</td>\n",
       "      <td>[0, 0, 0, 0, 0, 0, 0, 0, 0, 0, 0, 0, 0, 0, 1, ...</td>\n",
       "      <td>Mrs. Dalloway (1997)</td>\n",
       "      <td>[Romance]</td>\n",
       "    </tr>\n",
       "    <tr>\n",
       "      <th>99708</th>\n",
       "      <td>655</td>\n",
       "      <td>1155</td>\n",
       "      <td>3</td>\n",
       "      <td>887474289</td>\n",
       "      <td>[0, 0, 0, 0, 0, 1, 0, 0, 0, 0, 0, 0, 0, 0, 1, ...</td>\n",
       "      <td>Rendezvous in Paris (Rendez-vous de Paris, Les...</td>\n",
       "      <td>[Comedy, Romance]</td>\n",
       "    </tr>\n",
       "    <tr>\n",
       "      <th>89756</th>\n",
       "      <td>671</td>\n",
       "      <td>838</td>\n",
       "      <td>3</td>\n",
       "      <td>884036365</td>\n",
       "      <td>[0, 1, 0, 0, 0, 0, 0, 0, 0, 0, 0, 0, 0, 0, 0, ...</td>\n",
       "      <td>In the Line of Duty 2 (1987)</td>\n",
       "      <td>[Action]</td>\n",
       "    </tr>\n",
       "    <tr>\n",
       "      <th>93979</th>\n",
       "      <td>224</td>\n",
       "      <td>1442</td>\n",
       "      <td>3</td>\n",
       "      <td>888104281</td>\n",
       "      <td>[0, 0, 0, 0, 0, 0, 0, 0, 1, 0, 0, 0, 0, 0, 0, ...</td>\n",
       "      <td>Scarlet Letter, The (1995)</td>\n",
       "      <td>[Drama]</td>\n",
       "    </tr>\n",
       "    <tr>\n",
       "      <th>99726</th>\n",
       "      <td>497</td>\n",
       "      <td>1615</td>\n",
       "      <td>3</td>\n",
       "      <td>879310650</td>\n",
       "      <td>[0, 1, 1, 0, 1, 0, 0, 0, 0, 1, 0, 0, 0, 0, 0, ...</td>\n",
       "      <td>Warriors of Virtue (1997)</td>\n",
       "      <td>[Action, Adventure, Children's, Fantasy]</td>\n",
       "    </tr>\n",
       "    <tr>\n",
       "      <th>84211</th>\n",
       "      <td>267</td>\n",
       "      <td>980</td>\n",
       "      <td>3</td>\n",
       "      <td>878970578</td>\n",
       "      <td>[0, 0, 0, 0, 0, 0, 0, 0, 1, 0, 0, 0, 0, 0, 0, ...</td>\n",
       "      <td>Mother Night (1996)</td>\n",
       "      <td>[Drama]</td>\n",
       "    </tr>\n",
       "    <tr>\n",
       "      <th>99453</th>\n",
       "      <td>7</td>\n",
       "      <td>677</td>\n",
       "      <td>3</td>\n",
       "      <td>891354499</td>\n",
       "      <td>[0, 0, 0, 0, 0, 0, 0, 1, 0, 0, 0, 0, 0, 0, 0, ...</td>\n",
       "      <td>Fire on the Mountain (1996)</td>\n",
       "      <td>[Documentary]</td>\n",
       "    </tr>\n",
       "    <tr>\n",
       "      <th>97665</th>\n",
       "      <td>655</td>\n",
       "      <td>594</td>\n",
       "      <td>3</td>\n",
       "      <td>887430778</td>\n",
       "      <td>[0, 0, 0, 0, 0, 0, 0, 0, 1, 0, 0, 0, 0, 0, 1, ...</td>\n",
       "      <td>Heavy (1995)</td>\n",
       "      <td>[Drama, Romance]</td>\n",
       "    </tr>\n",
       "    <tr>\n",
       "      <th>95027</th>\n",
       "      <td>552</td>\n",
       "      <td>1362</td>\n",
       "      <td>3</td>\n",
       "      <td>879222698</td>\n",
       "      <td>[0, 1, 0, 0, 0, 0, 0, 0, 0, 0, 0, 0, 0, 0, 0, ...</td>\n",
       "      <td>American Strays (1996)</td>\n",
       "      <td>[Action]</td>\n",
       "    </tr>\n",
       "    <tr>\n",
       "      <th>90736</th>\n",
       "      <td>303</td>\n",
       "      <td>867</td>\n",
       "      <td>3</td>\n",
       "      <td>879484373</td>\n",
       "      <td>[0, 0, 0, 0, 0, 0, 0, 0, 1, 0, 0, 0, 0, 0, 0, ...</td>\n",
       "      <td>Whole Wide World, The (1996)</td>\n",
       "      <td>[Drama]</td>\n",
       "    </tr>\n",
       "    <tr>\n",
       "      <th>90613</th>\n",
       "      <td>922</td>\n",
       "      <td>562</td>\n",
       "      <td>3</td>\n",
       "      <td>891450866</td>\n",
       "      <td>[0, 1, 1, 0, 0, 0, 0, 0, 0, 0, 0, 0, 0, 0, 0, ...</td>\n",
       "      <td>Quick and the Dead, The (1995)</td>\n",
       "      <td>[Action, Adventure, Western]</td>\n",
       "    </tr>\n",
       "    <tr>\n",
       "      <th>86523</th>\n",
       "      <td>181</td>\n",
       "      <td>369</td>\n",
       "      <td>3</td>\n",
       "      <td>878963418</td>\n",
       "      <td>[0, 0, 0, 0, 0, 1, 0, 0, 0, 0, 0, 0, 0, 0, 0, ...</td>\n",
       "      <td>Black Sheep (1996)</td>\n",
       "      <td>[Comedy]</td>\n",
       "    </tr>\n",
       "    <tr>\n",
       "      <th>1783</th>\n",
       "      <td>297</td>\n",
       "      <td>1014</td>\n",
       "      <td>3</td>\n",
       "      <td>874954845</td>\n",
       "      <td>[0, 0, 0, 0, 0, 1, 0, 0, 0, 0, 0, 0, 0, 0, 0, ...</td>\n",
       "      <td>Romy and Michele's High School Reunion (1997)</td>\n",
       "      <td>[Comedy]</td>\n",
       "    </tr>\n",
       "    <tr>\n",
       "      <th>83503</th>\n",
       "      <td>27</td>\n",
       "      <td>244</td>\n",
       "      <td>3</td>\n",
       "      <td>891543222</td>\n",
       "      <td>[0, 1, 0, 0, 0, 0, 0, 0, 1, 0, 0, 0, 0, 0, 0, ...</td>\n",
       "      <td>Smilla's Sense of Snow (1997)</td>\n",
       "      <td>[Action, Drama, Thriller]</td>\n",
       "    </tr>\n",
       "    <tr>\n",
       "      <th>94189</th>\n",
       "      <td>585</td>\n",
       "      <td>1347</td>\n",
       "      <td>2</td>\n",
       "      <td>891285658</td>\n",
       "      <td>[0, 0, 0, 0, 0, 0, 0, 0, 1, 0, 0, 0, 0, 0, 0, ...</td>\n",
       "      <td>Ballad of Narayama, The (Narayama Bushiko) (1958)</td>\n",
       "      <td>[Drama]</td>\n",
       "    </tr>\n",
       "    <tr>\n",
       "      <th>98547</th>\n",
       "      <td>599</td>\n",
       "      <td>1357</td>\n",
       "      <td>2</td>\n",
       "      <td>880952905</td>\n",
       "      <td>[0, 0, 0, 0, 0, 0, 0, 0, 0, 0, 0, 0, 0, 0, 1, ...</td>\n",
       "      <td>For the Moment (1994)</td>\n",
       "      <td>[Romance, War]</td>\n",
       "    </tr>\n",
       "    <tr>\n",
       "      <th>99867</th>\n",
       "      <td>793</td>\n",
       "      <td>1365</td>\n",
       "      <td>2</td>\n",
       "      <td>875104718</td>\n",
       "      <td>[0, 1, 0, 0, 0, 0, 0, 0, 1, 0, 0, 0, 0, 0, 0, ...</td>\n",
       "      <td>Johnny 100 Pesos (1993)</td>\n",
       "      <td>[Action, Drama]</td>\n",
       "    </tr>\n",
       "    <tr>\n",
       "      <th>94887</th>\n",
       "      <td>388</td>\n",
       "      <td>871</td>\n",
       "      <td>2</td>\n",
       "      <td>886440608</td>\n",
       "      <td>[0, 0, 0, 0, 0, 1, 0, 0, 0, 0, 0, 0, 0, 0, 0, ...</td>\n",
       "      <td>Vegas Vacation (1997)</td>\n",
       "      <td>[Comedy]</td>\n",
       "    </tr>\n",
       "    <tr>\n",
       "      <th>68243</th>\n",
       "      <td>195</td>\n",
       "      <td>982</td>\n",
       "      <td>2</td>\n",
       "      <td>877835350</td>\n",
       "      <td>[0, 1, 1, 0, 0, 0, 0, 0, 0, 0, 0, 0, 0, 0, 0, ...</td>\n",
       "      <td>Maximum Risk (1996)</td>\n",
       "      <td>[Action, Adventure, Thriller]</td>\n",
       "    </tr>\n",
       "    <tr>\n",
       "      <th>88171</th>\n",
       "      <td>254</td>\n",
       "      <td>843</td>\n",
       "      <td>2</td>\n",
       "      <td>886474807</td>\n",
       "      <td>[0, 0, 0, 0, 1, 1, 0, 0, 0, 0, 0, 0, 0, 0, 0, ...</td>\n",
       "      <td>Shaggy Dog, The (1959)</td>\n",
       "      <td>[Children's, Comedy]</td>\n",
       "    </tr>\n",
       "    <tr>\n",
       "      <th>97011</th>\n",
       "      <td>13</td>\n",
       "      <td>759</td>\n",
       "      <td>2</td>\n",
       "      <td>882398542</td>\n",
       "      <td>[0, 1, 0, 0, 0, 0, 0, 0, 0, 0, 0, 0, 0, 0, 0, ...</td>\n",
       "      <td>Fair Game (1995)</td>\n",
       "      <td>[Action]</td>\n",
       "    </tr>\n",
       "    <tr>\n",
       "      <th>76146</th>\n",
       "      <td>207</td>\n",
       "      <td>1350</td>\n",
       "      <td>2</td>\n",
       "      <td>877878772</td>\n",
       "      <td>[0, 0, 0, 0, 0, 0, 0, 0, 1, 0, 0, 0, 0, 0, 0, ...</td>\n",
       "      <td>Crows and Sparrows (1949)</td>\n",
       "      <td>[Drama]</td>\n",
       "    </tr>\n",
       "    <tr>\n",
       "      <th>21697</th>\n",
       "      <td>92</td>\n",
       "      <td>405</td>\n",
       "      <td>2</td>\n",
       "      <td>875644795</td>\n",
       "      <td>[0, 1, 1, 0, 0, 0, 0, 0, 0, 0, 0, 0, 0, 1, 0, ...</td>\n",
       "      <td>Mission: Impossible (1996)</td>\n",
       "      <td>[Action, Adventure, Mystery]</td>\n",
       "    </tr>\n",
       "    <tr>\n",
       "      <th>89062</th>\n",
       "      <td>336</td>\n",
       "      <td>859</td>\n",
       "      <td>2</td>\n",
       "      <td>877758103</td>\n",
       "      <td>[0, 0, 0, 0, 0, 1, 0, 0, 0, 0, 0, 1, 0, 0, 0, ...</td>\n",
       "      <td>April Fool's Day (1986)</td>\n",
       "      <td>[Comedy, Horror]</td>\n",
       "    </tr>\n",
       "    <tr>\n",
       "      <th>99964</th>\n",
       "      <td>851</td>\n",
       "      <td>1676</td>\n",
       "      <td>2</td>\n",
       "      <td>875731674</td>\n",
       "      <td>[0, 0, 0, 0, 0, 0, 0, 0, 1, 0, 0, 0, 0, 0, 0, ...</td>\n",
       "      <td>War at Home, The (1996)</td>\n",
       "      <td>[Drama]</td>\n",
       "    </tr>\n",
       "    <tr>\n",
       "      <th>99930</th>\n",
       "      <td>828</td>\n",
       "      <td>1672</td>\n",
       "      <td>2</td>\n",
       "      <td>891037722</td>\n",
       "      <td>[0, 0, 0, 0, 0, 0, 0, 0, 1, 0, 0, 0, 0, 0, 0, ...</td>\n",
       "      <td>Kika (1993)</td>\n",
       "      <td>[Drama]</td>\n",
       "    </tr>\n",
       "    <tr>\n",
       "      <th>84628</th>\n",
       "      <td>181</td>\n",
       "      <td>983</td>\n",
       "      <td>2</td>\n",
       "      <td>878963038</td>\n",
       "      <td>[0, 0, 0, 0, 0, 0, 0, 0, 0, 0, 0, 0, 0, 0, 0, ...</td>\n",
       "      <td>Rich Man's Wife, The (1996)</td>\n",
       "      <td>[Thriller]</td>\n",
       "    </tr>\n",
       "    <tr>\n",
       "      <th>98623</th>\n",
       "      <td>181</td>\n",
       "      <td>1354</td>\n",
       "      <td>1</td>\n",
       "      <td>878962496</td>\n",
       "      <td>[0, 0, 0, 0, 0, 0, 0, 0, 1, 0, 0, 0, 0, 0, 0, ...</td>\n",
       "      <td>Venice/Venice (1992)</td>\n",
       "      <td>[Drama]</td>\n",
       "    </tr>\n",
       "    <tr>\n",
       "      <th>86461</th>\n",
       "      <td>181</td>\n",
       "      <td>1348</td>\n",
       "      <td>1</td>\n",
       "      <td>878962200</td>\n",
       "      <td>[0, 0, 0, 0, 0, 0, 0, 0, 1, 0, 0, 0, 0, 0, 0, ...</td>\n",
       "      <td>Every Other Weekend (1990)</td>\n",
       "      <td>[Drama]</td>\n",
       "    </tr>\n",
       "    <tr>\n",
       "      <th>98317</th>\n",
       "      <td>181</td>\n",
       "      <td>1353</td>\n",
       "      <td>1</td>\n",
       "      <td>878962200</td>\n",
       "      <td>[0, 0, 0, 0, 0, 0, 0, 0, 0, 0, 0, 0, 0, 0, 1, ...</td>\n",
       "      <td>1-900 (1994)</td>\n",
       "      <td>[Romance]</td>\n",
       "    </tr>\n",
       "    <tr>\n",
       "      <th>97347</th>\n",
       "      <td>181</td>\n",
       "      <td>1370</td>\n",
       "      <td>1</td>\n",
       "      <td>878962550</td>\n",
       "      <td>[0, 0, 0, 0, 0, 0, 0, 0, 1, 0, 0, 0, 0, 0, 0, ...</td>\n",
       "      <td>I Can't Sleep (J'ai pas sommeil) (1994)</td>\n",
       "      <td>[Drama, Thriller]</td>\n",
       "    </tr>\n",
       "    <tr>\n",
       "      <th>99894</th>\n",
       "      <td>851</td>\n",
       "      <td>987</td>\n",
       "      <td>1</td>\n",
       "      <td>875730601</td>\n",
       "      <td>[0, 0, 0, 0, 0, 0, 0, 0, 0, 0, 0, 0, 0, 0, 0, ...</td>\n",
       "      <td>Underworld (1997)</td>\n",
       "      <td>[Thriller]</td>\n",
       "    </tr>\n",
       "    <tr>\n",
       "      <th>68961</th>\n",
       "      <td>405</td>\n",
       "      <td>858</td>\n",
       "      <td>1</td>\n",
       "      <td>885548435</td>\n",
       "      <td>[0, 0, 0, 0, 0, 0, 0, 0, 0, 0, 0, 1, 0, 0, 0, ...</td>\n",
       "      <td>Amityville: Dollhouse (1996)</td>\n",
       "      <td>[Horror]</td>\n",
       "    </tr>\n",
       "    <tr>\n",
       "      <th>9506</th>\n",
       "      <td>617</td>\n",
       "      <td>423</td>\n",
       "      <td>1</td>\n",
       "      <td>883789294</td>\n",
       "      <td>[0, 0, 0, 0, 1, 0, 0, 0, 1, 1, 0, 0, 0, 0, 0, ...</td>\n",
       "      <td>E.T. the Extra-Terrestrial (1982)</td>\n",
       "      <td>[Children's, Drama, Fantasy, Sci-Fi]</td>\n",
       "    </tr>\n",
       "    <tr>\n",
       "      <th>90212</th>\n",
       "      <td>537</td>\n",
       "      <td>1025</td>\n",
       "      <td>1</td>\n",
       "      <td>886029488</td>\n",
       "      <td>[0, 1, 0, 0, 0, 0, 0, 0, 1, 0, 0, 0, 0, 0, 0, ...</td>\n",
       "      <td>Fire Down Below (1997)</td>\n",
       "      <td>[Action, Drama, Thriller]</td>\n",
       "    </tr>\n",
       "    <tr>\n",
       "      <th>99145</th>\n",
       "      <td>405</td>\n",
       "      <td>1391</td>\n",
       "      <td>1</td>\n",
       "      <td>885549789</td>\n",
       "      <td>[0, 0, 0, 0, 0, 0, 0, 0, 1, 0, 0, 0, 0, 0, 0, ...</td>\n",
       "      <td>For Ever Mozart (1996)</td>\n",
       "      <td>[Drama]</td>\n",
       "    </tr>\n",
       "    <tr>\n",
       "      <th>99979</th>\n",
       "      <td>181</td>\n",
       "      <td>1325</td>\n",
       "      <td>1</td>\n",
       "      <td>878962816</td>\n",
       "      <td>[0, 0, 0, 0, 0, 0, 0, 0, 1, 0, 0, 0, 0, 0, 0, ...</td>\n",
       "      <td>August (1996)</td>\n",
       "      <td>[Drama]</td>\n",
       "    </tr>\n",
       "    <tr>\n",
       "      <th>98620</th>\n",
       "      <td>181</td>\n",
       "      <td>1338</td>\n",
       "      <td>1</td>\n",
       "      <td>878962240</td>\n",
       "      <td>[0, 0, 0, 0, 0, 0, 0, 0, 1, 0, 0, 0, 0, 0, 0, ...</td>\n",
       "      <td>Two Deaths (1995)</td>\n",
       "      <td>[Drama]</td>\n",
       "    </tr>\n",
       "  </tbody>\n",
       "</table>\n",
       "</div>"
      ],
      "text/plain": [
       "       user_id  item_id  rating  timestamp  \\\n",
       "1489       178      257       5  882823954   \n",
       "65627        7      589       5  891352451   \n",
       "36043       60      705       4  883326710   \n",
       "99421      500     1326       4  883865020   \n",
       "74710      663     1327       4  889493210   \n",
       "78724      234     1186       4  892335707   \n",
       "88358      456     1324       4  881371720   \n",
       "95228      449     1372       4  880410834   \n",
       "78207      391     1101       4  877399423   \n",
       "7956       548      322       4  891043509   \n",
       "98220      269     1361       4  891446756   \n",
       "65026      344      129       4  884899346   \n",
       "69871      534      105       4  877808198   \n",
       "98406      308     1404       4  887739257   \n",
       "99678      655     1319       3  887426373   \n",
       "97032      871     1024       3  888192689   \n",
       "99708      655     1155       3  887474289   \n",
       "89756      671      838       3  884036365   \n",
       "93979      224     1442       3  888104281   \n",
       "99726      497     1615       3  879310650   \n",
       "84211      267      980       3  878970578   \n",
       "99453        7      677       3  891354499   \n",
       "97665      655      594       3  887430778   \n",
       "95027      552     1362       3  879222698   \n",
       "90736      303      867       3  879484373   \n",
       "90613      922      562       3  891450866   \n",
       "86523      181      369       3  878963418   \n",
       "1783       297     1014       3  874954845   \n",
       "83503       27      244       3  891543222   \n",
       "94189      585     1347       2  891285658   \n",
       "98547      599     1357       2  880952905   \n",
       "99867      793     1365       2  875104718   \n",
       "94887      388      871       2  886440608   \n",
       "68243      195      982       2  877835350   \n",
       "88171      254      843       2  886474807   \n",
       "97011       13      759       2  882398542   \n",
       "76146      207     1350       2  877878772   \n",
       "21697       92      405       2  875644795   \n",
       "89062      336      859       2  877758103   \n",
       "99964      851     1676       2  875731674   \n",
       "99930      828     1672       2  891037722   \n",
       "84628      181      983       2  878963038   \n",
       "98623      181     1354       1  878962496   \n",
       "86461      181     1348       1  878962200   \n",
       "98317      181     1353       1  878962200   \n",
       "97347      181     1370       1  878962550   \n",
       "99894      851      987       1  875730601   \n",
       "68961      405      858       1  885548435   \n",
       "9506       617      423       1  883789294   \n",
       "90212      537     1025       1  886029488   \n",
       "99145      405     1391       1  885549789   \n",
       "99979      181     1325       1  878962816   \n",
       "98620      181     1338       1  878962240   \n",
       "\n",
       "                                                  genero  \\\n",
       "1489   [0, 1, 1, 0, 0, 1, 0, 0, 0, 0, 0, 0, 0, 0, 0, ...   \n",
       "65627  [0, 0, 0, 0, 0, 0, 0, 0, 0, 0, 0, 0, 0, 0, 0, ...   \n",
       "36043  [0, 0, 0, 0, 0, 0, 0, 0, 0, 0, 0, 0, 1, 0, 1, ...   \n",
       "99421  [0, 0, 0, 0, 0, 0, 0, 0, 1, 0, 0, 0, 0, 0, 0, ...   \n",
       "74710  [0, 0, 0, 0, 0, 0, 0, 0, 1, 0, 0, 0, 0, 0, 0, ...   \n",
       "78724  [0, 0, 0, 0, 0, 1, 0, 0, 1, 0, 0, 0, 0, 0, 0, ...   \n",
       "88358  [0, 0, 0, 0, 0, 0, 0, 0, 1, 0, 0, 0, 0, 0, 0, ...   \n",
       "95228  [0, 1, 0, 0, 0, 0, 0, 0, 0, 0, 0, 0, 0, 0, 0, ...   \n",
       "78207  [0, 0, 0, 0, 0, 0, 0, 0, 1, 0, 0, 0, 0, 1, 0, ...   \n",
       "7956   [0, 0, 0, 0, 0, 0, 0, 0, 0, 0, 0, 0, 0, 1, 0, ...   \n",
       "98220  [0, 0, 0, 0, 0, 1, 0, 0, 0, 0, 0, 0, 0, 0, 0, ...   \n",
       "65026  [0, 0, 0, 0, 0, 0, 1, 0, 1, 0, 0, 0, 0, 0, 1, ...   \n",
       "69871  [0, 0, 0, 0, 0, 1, 0, 0, 0, 0, 0, 0, 0, 0, 0, ...   \n",
       "98406  [0, 0, 0, 0, 0, 1, 0, 0, 0, 0, 0, 0, 0, 0, 0, ...   \n",
       "99678  [0, 0, 0, 0, 0, 0, 0, 0, 1, 0, 0, 0, 0, 0, 0, ...   \n",
       "97032  [0, 0, 0, 0, 0, 0, 0, 0, 0, 0, 0, 0, 0, 0, 1, ...   \n",
       "99708  [0, 0, 0, 0, 0, 1, 0, 0, 0, 0, 0, 0, 0, 0, 1, ...   \n",
       "89756  [0, 1, 0, 0, 0, 0, 0, 0, 0, 0, 0, 0, 0, 0, 0, ...   \n",
       "93979  [0, 0, 0, 0, 0, 0, 0, 0, 1, 0, 0, 0, 0, 0, 0, ...   \n",
       "99726  [0, 1, 1, 0, 1, 0, 0, 0, 0, 1, 0, 0, 0, 0, 0, ...   \n",
       "84211  [0, 0, 0, 0, 0, 0, 0, 0, 1, 0, 0, 0, 0, 0, 0, ...   \n",
       "99453  [0, 0, 0, 0, 0, 0, 0, 1, 0, 0, 0, 0, 0, 0, 0, ...   \n",
       "97665  [0, 0, 0, 0, 0, 0, 0, 0, 1, 0, 0, 0, 0, 0, 1, ...   \n",
       "95027  [0, 1, 0, 0, 0, 0, 0, 0, 0, 0, 0, 0, 0, 0, 0, ...   \n",
       "90736  [0, 0, 0, 0, 0, 0, 0, 0, 1, 0, 0, 0, 0, 0, 0, ...   \n",
       "90613  [0, 1, 1, 0, 0, 0, 0, 0, 0, 0, 0, 0, 0, 0, 0, ...   \n",
       "86523  [0, 0, 0, 0, 0, 1, 0, 0, 0, 0, 0, 0, 0, 0, 0, ...   \n",
       "1783   [0, 0, 0, 0, 0, 1, 0, 0, 0, 0, 0, 0, 0, 0, 0, ...   \n",
       "83503  [0, 1, 0, 0, 0, 0, 0, 0, 1, 0, 0, 0, 0, 0, 0, ...   \n",
       "94189  [0, 0, 0, 0, 0, 0, 0, 0, 1, 0, 0, 0, 0, 0, 0, ...   \n",
       "98547  [0, 0, 0, 0, 0, 0, 0, 0, 0, 0, 0, 0, 0, 0, 1, ...   \n",
       "99867  [0, 1, 0, 0, 0, 0, 0, 0, 1, 0, 0, 0, 0, 0, 0, ...   \n",
       "94887  [0, 0, 0, 0, 0, 1, 0, 0, 0, 0, 0, 0, 0, 0, 0, ...   \n",
       "68243  [0, 1, 1, 0, 0, 0, 0, 0, 0, 0, 0, 0, 0, 0, 0, ...   \n",
       "88171  [0, 0, 0, 0, 1, 1, 0, 0, 0, 0, 0, 0, 0, 0, 0, ...   \n",
       "97011  [0, 1, 0, 0, 0, 0, 0, 0, 0, 0, 0, 0, 0, 0, 0, ...   \n",
       "76146  [0, 0, 0, 0, 0, 0, 0, 0, 1, 0, 0, 0, 0, 0, 0, ...   \n",
       "21697  [0, 1, 1, 0, 0, 0, 0, 0, 0, 0, 0, 0, 0, 1, 0, ...   \n",
       "89062  [0, 0, 0, 0, 0, 1, 0, 0, 0, 0, 0, 1, 0, 0, 0, ...   \n",
       "99964  [0, 0, 0, 0, 0, 0, 0, 0, 1, 0, 0, 0, 0, 0, 0, ...   \n",
       "99930  [0, 0, 0, 0, 0, 0, 0, 0, 1, 0, 0, 0, 0, 0, 0, ...   \n",
       "84628  [0, 0, 0, 0, 0, 0, 0, 0, 0, 0, 0, 0, 0, 0, 0, ...   \n",
       "98623  [0, 0, 0, 0, 0, 0, 0, 0, 1, 0, 0, 0, 0, 0, 0, ...   \n",
       "86461  [0, 0, 0, 0, 0, 0, 0, 0, 1, 0, 0, 0, 0, 0, 0, ...   \n",
       "98317  [0, 0, 0, 0, 0, 0, 0, 0, 0, 0, 0, 0, 0, 0, 1, ...   \n",
       "97347  [0, 0, 0, 0, 0, 0, 0, 0, 1, 0, 0, 0, 0, 0, 0, ...   \n",
       "99894  [0, 0, 0, 0, 0, 0, 0, 0, 0, 0, 0, 0, 0, 0, 0, ...   \n",
       "68961  [0, 0, 0, 0, 0, 0, 0, 0, 0, 0, 0, 1, 0, 0, 0, ...   \n",
       "9506   [0, 0, 0, 0, 1, 0, 0, 0, 1, 1, 0, 0, 0, 0, 0, ...   \n",
       "90212  [0, 1, 0, 0, 0, 0, 0, 0, 1, 0, 0, 0, 0, 0, 0, ...   \n",
       "99145  [0, 0, 0, 0, 0, 0, 0, 0, 1, 0, 0, 0, 0, 0, 0, ...   \n",
       "99979  [0, 0, 0, 0, 0, 0, 0, 0, 1, 0, 0, 0, 0, 0, 0, ...   \n",
       "98620  [0, 0, 0, 0, 0, 0, 0, 0, 1, 0, 0, 0, 0, 0, 0, ...   \n",
       "\n",
       "                                                   title  \\\n",
       "1489                                 Men in Black (1997)   \n",
       "65627                             Wild Bunch, The (1969)   \n",
       "36043                         Singin' in the Rain (1952)   \n",
       "99421                                        Boys (1996)   \n",
       "74710                                    Captives (1994)   \n",
       "78724                                Inkwell, The (1994)   \n",
       "88358                                      Loaded (1994)   \n",
       "95228                               Stranger, The (1994)   \n",
       "78207                   Six Degrees of Separation (1993)   \n",
       "7956                               Murder at 1600 (1997)   \n",
       "98220               Search for One-eye Jimmy, The (1996)   \n",
       "65026                                       Bound (1996)   \n",
       "69871                                  Sgt. Bilko (1996)   \n",
       "98406                              Withnail and I (1987)   \n",
       "99678                             Neon Bible, The (1995)   \n",
       "97032                               Mrs. Dalloway (1997)   \n",
       "99708  Rendezvous in Paris (Rendez-vous de Paris, Les...   \n",
       "89756                       In the Line of Duty 2 (1987)   \n",
       "93979                         Scarlet Letter, The (1995)   \n",
       "99726                          Warriors of Virtue (1997)   \n",
       "84211                                Mother Night (1996)   \n",
       "99453                        Fire on the Mountain (1996)   \n",
       "97665                                       Heavy (1995)   \n",
       "95027                             American Strays (1996)   \n",
       "90736                       Whole Wide World, The (1996)   \n",
       "90613                     Quick and the Dead, The (1995)   \n",
       "86523                                 Black Sheep (1996)   \n",
       "1783       Romy and Michele's High School Reunion (1997)   \n",
       "83503                      Smilla's Sense of Snow (1997)   \n",
       "94189  Ballad of Narayama, The (Narayama Bushiko) (1958)   \n",
       "98547                              For the Moment (1994)   \n",
       "99867                            Johnny 100 Pesos (1993)   \n",
       "94887                              Vegas Vacation (1997)   \n",
       "68243                                Maximum Risk (1996)   \n",
       "88171                             Shaggy Dog, The (1959)   \n",
       "97011                                   Fair Game (1995)   \n",
       "76146                          Crows and Sparrows (1949)   \n",
       "21697                         Mission: Impossible (1996)   \n",
       "89062                            April Fool's Day (1986)   \n",
       "99964                            War at Home, The (1996)   \n",
       "99930                                        Kika (1993)   \n",
       "84628                        Rich Man's Wife, The (1996)   \n",
       "98623                               Venice/Venice (1992)   \n",
       "86461                         Every Other Weekend (1990)   \n",
       "98317                                       1-900 (1994)   \n",
       "97347            I Can't Sleep (J'ai pas sommeil) (1994)   \n",
       "99894                                  Underworld (1997)   \n",
       "68961                       Amityville: Dollhouse (1996)   \n",
       "9506                   E.T. the Extra-Terrestrial (1982)   \n",
       "90212                             Fire Down Below (1997)   \n",
       "99145                             For Ever Mozart (1996)   \n",
       "99979                                      August (1996)   \n",
       "98620                                  Two Deaths (1995)   \n",
       "\n",
       "                                  genero_string  \n",
       "1489        [Action, Adventure, Comedy, Sci-Fi]  \n",
       "65627                                 [Western]  \n",
       "36043                        [Musical, Romance]  \n",
       "99421                                   [Drama]  \n",
       "74710                                   [Drama]  \n",
       "78724                           [Comedy, Drama]  \n",
       "88358                         [Drama, Thriller]  \n",
       "95228                                  [Action]  \n",
       "78207                          [Drama, Mystery]  \n",
       "7956                        [Mystery, Thriller]  \n",
       "98220                                  [Comedy]  \n",
       "65026         [Crime, Drama, Romance, Thriller]  \n",
       "69871                                  [Comedy]  \n",
       "98406                                  [Comedy]  \n",
       "99678                                   [Drama]  \n",
       "97032                                 [Romance]  \n",
       "99708                         [Comedy, Romance]  \n",
       "89756                                  [Action]  \n",
       "93979                                   [Drama]  \n",
       "99726  [Action, Adventure, Children's, Fantasy]  \n",
       "84211                                   [Drama]  \n",
       "99453                             [Documentary]  \n",
       "97665                          [Drama, Romance]  \n",
       "95027                                  [Action]  \n",
       "90736                                   [Drama]  \n",
       "90613              [Action, Adventure, Western]  \n",
       "86523                                  [Comedy]  \n",
       "1783                                   [Comedy]  \n",
       "83503                 [Action, Drama, Thriller]  \n",
       "94189                                   [Drama]  \n",
       "98547                            [Romance, War]  \n",
       "99867                           [Action, Drama]  \n",
       "94887                                  [Comedy]  \n",
       "68243             [Action, Adventure, Thriller]  \n",
       "88171                      [Children's, Comedy]  \n",
       "97011                                  [Action]  \n",
       "76146                                   [Drama]  \n",
       "21697              [Action, Adventure, Mystery]  \n",
       "89062                          [Comedy, Horror]  \n",
       "99964                                   [Drama]  \n",
       "99930                                   [Drama]  \n",
       "84628                                [Thriller]  \n",
       "98623                                   [Drama]  \n",
       "86461                                   [Drama]  \n",
       "98317                                 [Romance]  \n",
       "97347                         [Drama, Thriller]  \n",
       "99894                                [Thriller]  \n",
       "68961                                  [Horror]  \n",
       "9506       [Children's, Drama, Fantasy, Sci-Fi]  \n",
       "90212                 [Action, Drama, Thriller]  \n",
       "99145                                   [Drama]  \n",
       "99979                                   [Drama]  \n",
       "98620                                   [Drama]  "
      ]
     },
     "execution_count": 60,
     "metadata": {},
     "output_type": "execute_result"
    }
   ],
   "source": [
    "train_data[df.item_id.isin(np.where(X_pred_transformed[20,:] > 3.5)[0])].drop_duplicates(subset='item_id').sort_values('rating', ascending=False)\n"
   ]
  },
  {
   "cell_type": "markdown",
   "id": "9580bef9",
   "metadata": {},
   "source": [
    "### Conclusões\n",
    "\n",
    "Inicialmente, mostramos um sistema de recomendações bastante simplório, baseado em similaridades. A segunda tentativa foi filtragem colaborativa baseada em memória. Por fim, fizemos uso de Filtragem Colaborativa baseada em modelo, fazendo uso de Decomposição em Valores Singulares (SVD), que deu o melhor resultado. Mostramos ao fim, o uso deste modelo para recomendar filmes ao usuário de ID 20 e vimos que as indicações seguiram na direção da preferência do usuário, pois caem na categoria de drama, ação e suspense. Estranhamente, aparecem várias recomendações do gênero comédia.\n",
    "\n",
    "Por fim, esse é apenas um estudo inicial. Ainda há outras técnicas avançadas, como por exemplo o uso de **wide and deep**. Além disso, pode-se utilizar outras variáveis como sexo e idade, que fazem parte dos metadados desta base de dados, mas que aqui não foram empregados."
   ]
  },
  {
   "cell_type": "code",
   "execution_count": null,
   "id": "e4f8c9fd",
   "metadata": {},
   "outputs": [],
   "source": []
  }
 ],
 "metadata": {
  "kernelspec": {
   "display_name": "t22",
   "language": "python",
   "name": "t22"
  },
  "language_info": {
   "codemirror_mode": {
    "name": "ipython",
    "version": 3
   },
   "file_extension": ".py",
   "mimetype": "text/x-python",
   "name": "python",
   "nbconvert_exporter": "python",
   "pygments_lexer": "ipython3",
   "version": "3.8.5"
  }
 },
 "nbformat": 4,
 "nbformat_minor": 5
}
